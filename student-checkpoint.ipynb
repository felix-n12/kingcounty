{
 "cells": [
  {
   "cell_type": "markdown",
   "metadata": {},
   "source": [
    "## Final Project Submission\n",
    "\n",
    "Please fill out:\n",
    "* Student name: Felix Muriithi\n",
    "* Student pace: full time\n",
    "* Scheduled project review date/time: \n",
    "* Instructor name: Antonny Muiko\n",
    "* Blog post URL:\n"
   ]
  },
  {
   "cell_type": "markdown",
   "metadata": {},
   "source": [
    "# Business Understanding\n",
    "Many features of a property affect their prices .We need to determine whether physical aspect of the property in King County region on how they ffect their prices of the .The main purpose is to predict salesprice of property based on its features.This information can be used by homeowners,real estate agents and real estate brokers to predict the price of the property based on its features .Homeowners can use it to assess the value of their property and to determine"
   ]
  },
  {
   "cell_type": "markdown",
   "metadata": {},
   "source": [
    "# Data Understanding\n"
   ]
  },
  {
   "cell_type": "code",
   "execution_count": 1,
   "metadata": {},
   "outputs": [],
   "source": [
    "#loading and importing libraries\n",
    "import numpy as np\n",
    "import pandas as pd\n",
    "import matplotlib.pyplot as plt\n",
    "%matplotlib inline"
   ]
  },
  {
   "cell_type": "code",
   "execution_count": 2,
   "metadata": {},
   "outputs": [
    {
     "data": {
      "text/html": [
       "<div>\n",
       "<style scoped>\n",
       "    .dataframe tbody tr th:only-of-type {\n",
       "        vertical-align: middle;\n",
       "    }\n",
       "\n",
       "    .dataframe tbody tr th {\n",
       "        vertical-align: top;\n",
       "    }\n",
       "\n",
       "    .dataframe thead th {\n",
       "        text-align: right;\n",
       "    }\n",
       "</style>\n",
       "<table border=\"1\" class=\"dataframe\">\n",
       "  <thead>\n",
       "    <tr style=\"text-align: right;\">\n",
       "      <th></th>\n",
       "      <th>id</th>\n",
       "      <th>date</th>\n",
       "      <th>price</th>\n",
       "      <th>bedrooms</th>\n",
       "      <th>bathrooms</th>\n",
       "      <th>sqft_living</th>\n",
       "      <th>sqft_lot</th>\n",
       "      <th>floors</th>\n",
       "      <th>waterfront</th>\n",
       "      <th>view</th>\n",
       "      <th>...</th>\n",
       "      <th>grade</th>\n",
       "      <th>sqft_above</th>\n",
       "      <th>sqft_basement</th>\n",
       "      <th>yr_built</th>\n",
       "      <th>yr_renovated</th>\n",
       "      <th>zipcode</th>\n",
       "      <th>lat</th>\n",
       "      <th>long</th>\n",
       "      <th>sqft_living15</th>\n",
       "      <th>sqft_lot15</th>\n",
       "    </tr>\n",
       "  </thead>\n",
       "  <tbody>\n",
       "    <tr>\n",
       "      <th>0</th>\n",
       "      <td>7129300520</td>\n",
       "      <td>10/13/2014</td>\n",
       "      <td>221900.0</td>\n",
       "      <td>3</td>\n",
       "      <td>1.00</td>\n",
       "      <td>1180</td>\n",
       "      <td>5650</td>\n",
       "      <td>1.0</td>\n",
       "      <td>NaN</td>\n",
       "      <td>NONE</td>\n",
       "      <td>...</td>\n",
       "      <td>7 Average</td>\n",
       "      <td>1180</td>\n",
       "      <td>0.0</td>\n",
       "      <td>1955</td>\n",
       "      <td>0.0</td>\n",
       "      <td>98178</td>\n",
       "      <td>47.5112</td>\n",
       "      <td>-122.257</td>\n",
       "      <td>1340</td>\n",
       "      <td>5650</td>\n",
       "    </tr>\n",
       "    <tr>\n",
       "      <th>1</th>\n",
       "      <td>6414100192</td>\n",
       "      <td>12/9/2014</td>\n",
       "      <td>538000.0</td>\n",
       "      <td>3</td>\n",
       "      <td>2.25</td>\n",
       "      <td>2570</td>\n",
       "      <td>7242</td>\n",
       "      <td>2.0</td>\n",
       "      <td>NO</td>\n",
       "      <td>NONE</td>\n",
       "      <td>...</td>\n",
       "      <td>7 Average</td>\n",
       "      <td>2170</td>\n",
       "      <td>400.0</td>\n",
       "      <td>1951</td>\n",
       "      <td>1991.0</td>\n",
       "      <td>98125</td>\n",
       "      <td>47.7210</td>\n",
       "      <td>-122.319</td>\n",
       "      <td>1690</td>\n",
       "      <td>7639</td>\n",
       "    </tr>\n",
       "    <tr>\n",
       "      <th>2</th>\n",
       "      <td>5631500400</td>\n",
       "      <td>2/25/2015</td>\n",
       "      <td>180000.0</td>\n",
       "      <td>2</td>\n",
       "      <td>1.00</td>\n",
       "      <td>770</td>\n",
       "      <td>10000</td>\n",
       "      <td>1.0</td>\n",
       "      <td>NO</td>\n",
       "      <td>NONE</td>\n",
       "      <td>...</td>\n",
       "      <td>6 Low Average</td>\n",
       "      <td>770</td>\n",
       "      <td>0.0</td>\n",
       "      <td>1933</td>\n",
       "      <td>NaN</td>\n",
       "      <td>98028</td>\n",
       "      <td>47.7379</td>\n",
       "      <td>-122.233</td>\n",
       "      <td>2720</td>\n",
       "      <td>8062</td>\n",
       "    </tr>\n",
       "    <tr>\n",
       "      <th>3</th>\n",
       "      <td>2487200875</td>\n",
       "      <td>12/9/2014</td>\n",
       "      <td>604000.0</td>\n",
       "      <td>4</td>\n",
       "      <td>3.00</td>\n",
       "      <td>1960</td>\n",
       "      <td>5000</td>\n",
       "      <td>1.0</td>\n",
       "      <td>NO</td>\n",
       "      <td>NONE</td>\n",
       "      <td>...</td>\n",
       "      <td>7 Average</td>\n",
       "      <td>1050</td>\n",
       "      <td>910.0</td>\n",
       "      <td>1965</td>\n",
       "      <td>0.0</td>\n",
       "      <td>98136</td>\n",
       "      <td>47.5208</td>\n",
       "      <td>-122.393</td>\n",
       "      <td>1360</td>\n",
       "      <td>5000</td>\n",
       "    </tr>\n",
       "    <tr>\n",
       "      <th>4</th>\n",
       "      <td>1954400510</td>\n",
       "      <td>2/18/2015</td>\n",
       "      <td>510000.0</td>\n",
       "      <td>3</td>\n",
       "      <td>2.00</td>\n",
       "      <td>1680</td>\n",
       "      <td>8080</td>\n",
       "      <td>1.0</td>\n",
       "      <td>NO</td>\n",
       "      <td>NONE</td>\n",
       "      <td>...</td>\n",
       "      <td>8 Good</td>\n",
       "      <td>1680</td>\n",
       "      <td>0.0</td>\n",
       "      <td>1987</td>\n",
       "      <td>0.0</td>\n",
       "      <td>98074</td>\n",
       "      <td>47.6168</td>\n",
       "      <td>-122.045</td>\n",
       "      <td>1800</td>\n",
       "      <td>7503</td>\n",
       "    </tr>\n",
       "  </tbody>\n",
       "</table>\n",
       "<p>5 rows × 21 columns</p>\n",
       "</div>"
      ],
      "text/plain": [
       "           id        date     price  bedrooms  bathrooms  sqft_living  \\\n",
       "0  7129300520  10/13/2014  221900.0         3       1.00         1180   \n",
       "1  6414100192   12/9/2014  538000.0         3       2.25         2570   \n",
       "2  5631500400   2/25/2015  180000.0         2       1.00          770   \n",
       "3  2487200875   12/9/2014  604000.0         4       3.00         1960   \n",
       "4  1954400510   2/18/2015  510000.0         3       2.00         1680   \n",
       "\n",
       "   sqft_lot  floors waterfront  view  ...          grade sqft_above  \\\n",
       "0      5650     1.0        NaN  NONE  ...      7 Average       1180   \n",
       "1      7242     2.0         NO  NONE  ...      7 Average       2170   \n",
       "2     10000     1.0         NO  NONE  ...  6 Low Average        770   \n",
       "3      5000     1.0         NO  NONE  ...      7 Average       1050   \n",
       "4      8080     1.0         NO  NONE  ...         8 Good       1680   \n",
       "\n",
       "   sqft_basement yr_built  yr_renovated  zipcode      lat     long  \\\n",
       "0            0.0     1955           0.0    98178  47.5112 -122.257   \n",
       "1          400.0     1951        1991.0    98125  47.7210 -122.319   \n",
       "2            0.0     1933           NaN    98028  47.7379 -122.233   \n",
       "3          910.0     1965           0.0    98136  47.5208 -122.393   \n",
       "4            0.0     1987           0.0    98074  47.6168 -122.045   \n",
       "\n",
       "   sqft_living15  sqft_lot15  \n",
       "0           1340        5650  \n",
       "1           1690        7639  \n",
       "2           2720        8062  \n",
       "3           1360        5000  \n",
       "4           1800        7503  \n",
       "\n",
       "[5 rows x 21 columns]"
      ]
     },
     "execution_count": 2,
     "metadata": {},
     "output_type": "execute_result"
    }
   ],
   "source": [
    "#Viewing the contents of the data\n",
    "house_data=pd.read_csv('kc_house_data.csv')\n",
    "house_data.head()"
   ]
  },
  {
   "cell_type": "code",
   "execution_count": 3,
   "metadata": {},
   "outputs": [
    {
     "data": {
      "text/plain": [
       "(21597, 21)"
      ]
     },
     "execution_count": 3,
     "metadata": {},
     "output_type": "execute_result"
    }
   ],
   "source": [
    "#viewing how many rows and columns are there\n",
    "house_data.shape"
   ]
  },
  {
   "cell_type": "code",
   "execution_count": 4,
   "metadata": {},
   "outputs": [
    {
     "name": "stdout",
     "output_type": "stream",
     "text": [
      "<class 'pandas.core.frame.DataFrame'>\n",
      "RangeIndex: 21597 entries, 0 to 21596\n",
      "Data columns (total 21 columns):\n",
      " #   Column         Non-Null Count  Dtype  \n",
      "---  ------         --------------  -----  \n",
      " 0   id             21597 non-null  int64  \n",
      " 1   date           21597 non-null  object \n",
      " 2   price          21597 non-null  float64\n",
      " 3   bedrooms       21597 non-null  int64  \n",
      " 4   bathrooms      21597 non-null  float64\n",
      " 5   sqft_living    21597 non-null  int64  \n",
      " 6   sqft_lot       21597 non-null  int64  \n",
      " 7   floors         21597 non-null  float64\n",
      " 8   waterfront     19221 non-null  object \n",
      " 9   view           21534 non-null  object \n",
      " 10  condition      21597 non-null  object \n",
      " 11  grade          21597 non-null  object \n",
      " 12  sqft_above     21597 non-null  int64  \n",
      " 13  sqft_basement  21597 non-null  object \n",
      " 14  yr_built       21597 non-null  int64  \n",
      " 15  yr_renovated   17755 non-null  float64\n",
      " 16  zipcode        21597 non-null  int64  \n",
      " 17  lat            21597 non-null  float64\n",
      " 18  long           21597 non-null  float64\n",
      " 19  sqft_living15  21597 non-null  int64  \n",
      " 20  sqft_lot15     21597 non-null  int64  \n",
      "dtypes: float64(6), int64(9), object(6)\n",
      "memory usage: 3.5+ MB\n"
     ]
    }
   ],
   "source": [
    "#checking the datatype and number of entries of each column\n",
    "house_data.info()"
   ]
  },
  {
   "cell_type": "code",
   "execution_count": 5,
   "metadata": {},
   "outputs": [
    {
     "data": {
      "text/plain": [
       "Index(['id', 'date', 'price', 'bedrooms', 'bathrooms', 'sqft_living',\n",
       "       'sqft_lot', 'floors', 'waterfront', 'view', 'condition', 'grade',\n",
       "       'sqft_above', 'sqft_basement', 'yr_built', 'yr_renovated', 'zipcode',\n",
       "       'lat', 'long', 'sqft_living15', 'sqft_lot15'],\n",
       "      dtype='object')"
      ]
     },
     "execution_count": 5,
     "metadata": {},
     "output_type": "execute_result"
    }
   ],
   "source": [
    "#Viewing the columns of the data\n",
    "house_data.columns"
   ]
  },
  {
   "cell_type": "code",
   "execution_count": 6,
   "metadata": {},
   "outputs": [
    {
     "data": {
      "text/html": [
       "<div>\n",
       "<style scoped>\n",
       "    .dataframe tbody tr th:only-of-type {\n",
       "        vertical-align: middle;\n",
       "    }\n",
       "\n",
       "    .dataframe tbody tr th {\n",
       "        vertical-align: top;\n",
       "    }\n",
       "\n",
       "    .dataframe thead th {\n",
       "        text-align: right;\n",
       "    }\n",
       "</style>\n",
       "<table border=\"1\" class=\"dataframe\">\n",
       "  <thead>\n",
       "    <tr style=\"text-align: right;\">\n",
       "      <th></th>\n",
       "      <th>id</th>\n",
       "      <th>price</th>\n",
       "      <th>bedrooms</th>\n",
       "      <th>bathrooms</th>\n",
       "      <th>sqft_living</th>\n",
       "      <th>sqft_lot</th>\n",
       "      <th>floors</th>\n",
       "      <th>sqft_above</th>\n",
       "      <th>yr_built</th>\n",
       "      <th>yr_renovated</th>\n",
       "      <th>zipcode</th>\n",
       "      <th>lat</th>\n",
       "      <th>long</th>\n",
       "      <th>sqft_living15</th>\n",
       "      <th>sqft_lot15</th>\n",
       "    </tr>\n",
       "  </thead>\n",
       "  <tbody>\n",
       "    <tr>\n",
       "      <th>count</th>\n",
       "      <td>2.159700e+04</td>\n",
       "      <td>2.159700e+04</td>\n",
       "      <td>21597.000000</td>\n",
       "      <td>21597.000000</td>\n",
       "      <td>21597.000000</td>\n",
       "      <td>2.159700e+04</td>\n",
       "      <td>21597.000000</td>\n",
       "      <td>21597.000000</td>\n",
       "      <td>21597.000000</td>\n",
       "      <td>17755.000000</td>\n",
       "      <td>21597.000000</td>\n",
       "      <td>21597.000000</td>\n",
       "      <td>21597.000000</td>\n",
       "      <td>21597.000000</td>\n",
       "      <td>21597.000000</td>\n",
       "    </tr>\n",
       "    <tr>\n",
       "      <th>mean</th>\n",
       "      <td>4.580474e+09</td>\n",
       "      <td>5.402966e+05</td>\n",
       "      <td>3.373200</td>\n",
       "      <td>2.115826</td>\n",
       "      <td>2080.321850</td>\n",
       "      <td>1.509941e+04</td>\n",
       "      <td>1.494096</td>\n",
       "      <td>1788.596842</td>\n",
       "      <td>1970.999676</td>\n",
       "      <td>83.636778</td>\n",
       "      <td>98077.951845</td>\n",
       "      <td>47.560093</td>\n",
       "      <td>-122.213982</td>\n",
       "      <td>1986.620318</td>\n",
       "      <td>12758.283512</td>\n",
       "    </tr>\n",
       "    <tr>\n",
       "      <th>std</th>\n",
       "      <td>2.876736e+09</td>\n",
       "      <td>3.673681e+05</td>\n",
       "      <td>0.926299</td>\n",
       "      <td>0.768984</td>\n",
       "      <td>918.106125</td>\n",
       "      <td>4.141264e+04</td>\n",
       "      <td>0.539683</td>\n",
       "      <td>827.759761</td>\n",
       "      <td>29.375234</td>\n",
       "      <td>399.946414</td>\n",
       "      <td>53.513072</td>\n",
       "      <td>0.138552</td>\n",
       "      <td>0.140724</td>\n",
       "      <td>685.230472</td>\n",
       "      <td>27274.441950</td>\n",
       "    </tr>\n",
       "    <tr>\n",
       "      <th>min</th>\n",
       "      <td>1.000102e+06</td>\n",
       "      <td>7.800000e+04</td>\n",
       "      <td>1.000000</td>\n",
       "      <td>0.500000</td>\n",
       "      <td>370.000000</td>\n",
       "      <td>5.200000e+02</td>\n",
       "      <td>1.000000</td>\n",
       "      <td>370.000000</td>\n",
       "      <td>1900.000000</td>\n",
       "      <td>0.000000</td>\n",
       "      <td>98001.000000</td>\n",
       "      <td>47.155900</td>\n",
       "      <td>-122.519000</td>\n",
       "      <td>399.000000</td>\n",
       "      <td>651.000000</td>\n",
       "    </tr>\n",
       "    <tr>\n",
       "      <th>25%</th>\n",
       "      <td>2.123049e+09</td>\n",
       "      <td>3.220000e+05</td>\n",
       "      <td>3.000000</td>\n",
       "      <td>1.750000</td>\n",
       "      <td>1430.000000</td>\n",
       "      <td>5.040000e+03</td>\n",
       "      <td>1.000000</td>\n",
       "      <td>1190.000000</td>\n",
       "      <td>1951.000000</td>\n",
       "      <td>0.000000</td>\n",
       "      <td>98033.000000</td>\n",
       "      <td>47.471100</td>\n",
       "      <td>-122.328000</td>\n",
       "      <td>1490.000000</td>\n",
       "      <td>5100.000000</td>\n",
       "    </tr>\n",
       "    <tr>\n",
       "      <th>50%</th>\n",
       "      <td>3.904930e+09</td>\n",
       "      <td>4.500000e+05</td>\n",
       "      <td>3.000000</td>\n",
       "      <td>2.250000</td>\n",
       "      <td>1910.000000</td>\n",
       "      <td>7.618000e+03</td>\n",
       "      <td>1.500000</td>\n",
       "      <td>1560.000000</td>\n",
       "      <td>1975.000000</td>\n",
       "      <td>0.000000</td>\n",
       "      <td>98065.000000</td>\n",
       "      <td>47.571800</td>\n",
       "      <td>-122.231000</td>\n",
       "      <td>1840.000000</td>\n",
       "      <td>7620.000000</td>\n",
       "    </tr>\n",
       "    <tr>\n",
       "      <th>75%</th>\n",
       "      <td>7.308900e+09</td>\n",
       "      <td>6.450000e+05</td>\n",
       "      <td>4.000000</td>\n",
       "      <td>2.500000</td>\n",
       "      <td>2550.000000</td>\n",
       "      <td>1.068500e+04</td>\n",
       "      <td>2.000000</td>\n",
       "      <td>2210.000000</td>\n",
       "      <td>1997.000000</td>\n",
       "      <td>0.000000</td>\n",
       "      <td>98118.000000</td>\n",
       "      <td>47.678000</td>\n",
       "      <td>-122.125000</td>\n",
       "      <td>2360.000000</td>\n",
       "      <td>10083.000000</td>\n",
       "    </tr>\n",
       "    <tr>\n",
       "      <th>max</th>\n",
       "      <td>9.900000e+09</td>\n",
       "      <td>7.700000e+06</td>\n",
       "      <td>33.000000</td>\n",
       "      <td>8.000000</td>\n",
       "      <td>13540.000000</td>\n",
       "      <td>1.651359e+06</td>\n",
       "      <td>3.500000</td>\n",
       "      <td>9410.000000</td>\n",
       "      <td>2015.000000</td>\n",
       "      <td>2015.000000</td>\n",
       "      <td>98199.000000</td>\n",
       "      <td>47.777600</td>\n",
       "      <td>-121.315000</td>\n",
       "      <td>6210.000000</td>\n",
       "      <td>871200.000000</td>\n",
       "    </tr>\n",
       "  </tbody>\n",
       "</table>\n",
       "</div>"
      ],
      "text/plain": [
       "                 id         price      bedrooms     bathrooms   sqft_living  \\\n",
       "count  2.159700e+04  2.159700e+04  21597.000000  21597.000000  21597.000000   \n",
       "mean   4.580474e+09  5.402966e+05      3.373200      2.115826   2080.321850   \n",
       "std    2.876736e+09  3.673681e+05      0.926299      0.768984    918.106125   \n",
       "min    1.000102e+06  7.800000e+04      1.000000      0.500000    370.000000   \n",
       "25%    2.123049e+09  3.220000e+05      3.000000      1.750000   1430.000000   \n",
       "50%    3.904930e+09  4.500000e+05      3.000000      2.250000   1910.000000   \n",
       "75%    7.308900e+09  6.450000e+05      4.000000      2.500000   2550.000000   \n",
       "max    9.900000e+09  7.700000e+06     33.000000      8.000000  13540.000000   \n",
       "\n",
       "           sqft_lot        floors    sqft_above      yr_built  yr_renovated  \\\n",
       "count  2.159700e+04  21597.000000  21597.000000  21597.000000  17755.000000   \n",
       "mean   1.509941e+04      1.494096   1788.596842   1970.999676     83.636778   \n",
       "std    4.141264e+04      0.539683    827.759761     29.375234    399.946414   \n",
       "min    5.200000e+02      1.000000    370.000000   1900.000000      0.000000   \n",
       "25%    5.040000e+03      1.000000   1190.000000   1951.000000      0.000000   \n",
       "50%    7.618000e+03      1.500000   1560.000000   1975.000000      0.000000   \n",
       "75%    1.068500e+04      2.000000   2210.000000   1997.000000      0.000000   \n",
       "max    1.651359e+06      3.500000   9410.000000   2015.000000   2015.000000   \n",
       "\n",
       "            zipcode           lat          long  sqft_living15     sqft_lot15  \n",
       "count  21597.000000  21597.000000  21597.000000   21597.000000   21597.000000  \n",
       "mean   98077.951845     47.560093   -122.213982    1986.620318   12758.283512  \n",
       "std       53.513072      0.138552      0.140724     685.230472   27274.441950  \n",
       "min    98001.000000     47.155900   -122.519000     399.000000     651.000000  \n",
       "25%    98033.000000     47.471100   -122.328000    1490.000000    5100.000000  \n",
       "50%    98065.000000     47.571800   -122.231000    1840.000000    7620.000000  \n",
       "75%    98118.000000     47.678000   -122.125000    2360.000000   10083.000000  \n",
       "max    98199.000000     47.777600   -121.315000    6210.000000  871200.000000  "
      ]
     },
     "execution_count": 6,
     "metadata": {},
     "output_type": "execute_result"
    }
   ],
   "source": [
    "#Viewing the summary statistics\n",
    "house_data.describe()"
   ]
  },
  {
   "cell_type": "markdown",
   "metadata": {},
   "source": [
    "The largest property has 33 bedrooms.\n",
    "The oldest house was built in 1900\n",
    "The property with the highest floors has 3.5 floors"
   ]
  },
  {
   "cell_type": "markdown",
   "metadata": {},
   "source": [
    "# Data Cleaning"
   ]
  },
  {
   "cell_type": "code",
   "execution_count": 76,
   "metadata": {},
   "outputs": [],
   "source": [
    "#identify missing values\n",
    "missingval=house_data.isnull().sum().sort_values(ascending=False)\n",
    "#identify percentage of missing values to the total data\n",
    "percentage_of_missing_val=(house_data.isnull().sum()/len(house_data)).sort_values(ascending=False)\n"
   ]
  },
  {
   "cell_type": "code",
   "execution_count": 58,
   "metadata": {},
   "outputs": [],
   "source": [
    "#Handling missing data\n",
    "#Three columns have missing values\n",
    "#Replacing missing values in waterfront with none to show no presence of water body on the property\n",
    "house_data['waterfront']=house_data['waterfront'].fillna('No')\n",
    "#Replacing missing values in view with none to show no presence of views on the property\n",
    "house_data['view']=house_data['view'].fillna('NONE')\n",
    "#Replacing missing values in yr_renovated with 0 to show there was no renovations on the property\n",
    "house_data['yr_renovated']=house_data['yr_renovated'].fillna(0)\n"
   ]
  },
  {
   "cell_type": "code",
   "execution_count": 9,
   "metadata": {},
   "outputs": [
    {
     "data": {
      "text/plain": [
       "0"
      ]
     },
     "execution_count": 9,
     "metadata": {},
     "output_type": "execute_result"
    }
   ],
   "source": [
    "#checking if rows are duplicated\n",
    "house_data.duplicated().sum()"
   ]
  },
  {
   "cell_type": "markdown",
   "metadata": {},
   "source": [
    "There are no duplicates"
   ]
  },
  {
   "cell_type": "code",
   "execution_count": 10,
   "metadata": {},
   "outputs": [],
   "source": [
    "#droping the columns that we wont check the outliers\n",
    "rel_house_data=house_data.drop(['id', 'date','yr_built', 'yr_renovated', 'zipcode',\n",
    "       'lat', 'long'],axis=1)"
   ]
  },
  {
   "cell_type": "code",
   "execution_count": 11,
   "metadata": {},
   "outputs": [
    {
     "data": {
      "image/png": "[encoded data removed]",
      "text/plain": [
       "<Figure size 1440x720 with 1 Axes>"
      ]
     },
     "metadata": {
      "needs_background": "light"
     },
     "output_type": "display_data"
    }
   ],
   "source": [
    "#checking for outliers\n",
    "plt.figure(figsize=(20,10))\n",
    "rel_house_data.boxplot()\n",
    "plt.show()\n",
    "#price,sqft_lot and sqft_lot15 have outliers"
   ]
  },
  {
   "cell_type": "markdown",
   "metadata": {},
   "source": [
    "The data has outliers but they seem genuine so we wont have to remove them"
   ]
  },
  {
   "cell_type": "code",
   "execution_count": 61,
   "metadata": {},
   "outputs": [
    {
     "name": "stdout",
     "output_type": "stream",
     "text": [
      "<class 'pandas.core.frame.DataFrame'>\n",
      "RangeIndex: 21597 entries, 0 to 21596\n",
      "Data columns (total 14 columns):\n",
      " #   Column         Non-Null Count  Dtype  \n",
      "---  ------         --------------  -----  \n",
      " 0   price          21597 non-null  float64\n",
      " 1   bedrooms       21597 non-null  object \n",
      " 2   bathrooms      21597 non-null  object \n",
      " 3   sqft_living    21597 non-null  int64  \n",
      " 4   sqft_lot       21597 non-null  int64  \n",
      " 5   floors         21597 non-null  float64\n",
      " 6   waterfront     21597 non-null  object \n",
      " 7   view           21597 non-null  object \n",
      " 8   condition      21597 non-null  object \n",
      " 9   grade          21597 non-null  object \n",
      " 10  sqft_above     21597 non-null  int64  \n",
      " 11  sqft_basement  21597 non-null  object \n",
      " 12  sqft_living15  21597 non-null  int64  \n",
      " 13  sqft_lot15     21597 non-null  int64  \n",
      "dtypes: float64(2), int64(5), object(7)\n",
      "memory usage: 2.3+ MB\n"
     ]
    }
   ],
   "source": [
    "# Dataframe after dropping the columns we wont use  \n",
    "rel_house_data.info()"
   ]
  },
  {
   "cell_type": "code",
   "execution_count": 62,
   "metadata": {},
   "outputs": [
    {
     "data": {
      "text/html": [
       "<div>\n",
       "<style scoped>\n",
       "    .dataframe tbody tr th:only-of-type {\n",
       "        vertical-align: middle;\n",
       "    }\n",
       "\n",
       "    .dataframe tbody tr th {\n",
       "        vertical-align: top;\n",
       "    }\n",
       "\n",
       "    .dataframe thead th {\n",
       "        text-align: right;\n",
       "    }\n",
       "</style>\n",
       "<table border=\"1\" class=\"dataframe\">\n",
       "  <thead>\n",
       "    <tr style=\"text-align: right;\">\n",
       "      <th></th>\n",
       "      <th>price</th>\n",
       "      <th>bedrooms</th>\n",
       "      <th>bathrooms</th>\n",
       "      <th>sqft_living</th>\n",
       "      <th>sqft_lot</th>\n",
       "      <th>floors</th>\n",
       "      <th>waterfront</th>\n",
       "      <th>view</th>\n",
       "      <th>condition</th>\n",
       "      <th>grade</th>\n",
       "      <th>sqft_above</th>\n",
       "      <th>sqft_basement</th>\n",
       "      <th>sqft_living15</th>\n",
       "      <th>sqft_lot15</th>\n",
       "    </tr>\n",
       "  </thead>\n",
       "  <tbody>\n",
       "    <tr>\n",
       "      <th>0</th>\n",
       "      <td>221900.0</td>\n",
       "      <td>0        3\\n1        3\\n2        2\\n3        4...</td>\n",
       "      <td>0        1.00\\n1        2.25\\n2        1.00\\n3...</td>\n",
       "      <td>1180</td>\n",
       "      <td>5650</td>\n",
       "      <td>1.0</td>\n",
       "      <td>No</td>\n",
       "      <td>NONE</td>\n",
       "      <td>Average</td>\n",
       "      <td>7 Average</td>\n",
       "      <td>1180</td>\n",
       "      <td>0.0</td>\n",
       "      <td>1340</td>\n",
       "      <td>5650</td>\n",
       "    </tr>\n",
       "    <tr>\n",
       "      <th>1</th>\n",
       "      <td>538000.0</td>\n",
       "      <td>0        3\\n1        3\\n2        2\\n3        4...</td>\n",
       "      <td>0        1.00\\n1        2.25\\n2        1.00\\n3...</td>\n",
       "      <td>2570</td>\n",
       "      <td>7242</td>\n",
       "      <td>2.0</td>\n",
       "      <td>NO</td>\n",
       "      <td>NONE</td>\n",
       "      <td>Average</td>\n",
       "      <td>7 Average</td>\n",
       "      <td>2170</td>\n",
       "      <td>400.0</td>\n",
       "      <td>1690</td>\n",
       "      <td>7639</td>\n",
       "    </tr>\n",
       "    <tr>\n",
       "      <th>2</th>\n",
       "      <td>180000.0</td>\n",
       "      <td>0        3\\n1        3\\n2        2\\n3        4...</td>\n",
       "      <td>0        1.00\\n1        2.25\\n2        1.00\\n3...</td>\n",
       "      <td>770</td>\n",
       "      <td>10000</td>\n",
       "      <td>1.0</td>\n",
       "      <td>NO</td>\n",
       "      <td>NONE</td>\n",
       "      <td>Average</td>\n",
       "      <td>6 Low Average</td>\n",
       "      <td>770</td>\n",
       "      <td>0.0</td>\n",
       "      <td>2720</td>\n",
       "      <td>8062</td>\n",
       "    </tr>\n",
       "    <tr>\n",
       "      <th>3</th>\n",
       "      <td>604000.0</td>\n",
       "      <td>0        3\\n1        3\\n2        2\\n3        4...</td>\n",
       "      <td>0        1.00\\n1        2.25\\n2        1.00\\n3...</td>\n",
       "      <td>1960</td>\n",
       "      <td>5000</td>\n",
       "      <td>1.0</td>\n",
       "      <td>NO</td>\n",
       "      <td>NONE</td>\n",
       "      <td>Very Good</td>\n",
       "      <td>7 Average</td>\n",
       "      <td>1050</td>\n",
       "      <td>910.0</td>\n",
       "      <td>1360</td>\n",
       "      <td>5000</td>\n",
       "    </tr>\n",
       "    <tr>\n",
       "      <th>4</th>\n",
       "      <td>510000.0</td>\n",
       "      <td>0        3\\n1        3\\n2        2\\n3        4...</td>\n",
       "      <td>0        1.00\\n1        2.25\\n2        1.00\\n3...</td>\n",
       "      <td>1680</td>\n",
       "      <td>8080</td>\n",
       "      <td>1.0</td>\n",
       "      <td>NO</td>\n",
       "      <td>NONE</td>\n",
       "      <td>Average</td>\n",
       "      <td>8 Good</td>\n",
       "      <td>1680</td>\n",
       "      <td>0.0</td>\n",
       "      <td>1800</td>\n",
       "      <td>7503</td>\n",
       "    </tr>\n",
       "  </tbody>\n",
       "</table>\n",
       "</div>"
      ],
      "text/plain": [
       "      price                                           bedrooms  \\\n",
       "0  221900.0  0        3\\n1        3\\n2        2\\n3        4...   \n",
       "1  538000.0  0        3\\n1        3\\n2        2\\n3        4...   \n",
       "2  180000.0  0        3\\n1        3\\n2        2\\n3        4...   \n",
       "3  604000.0  0        3\\n1        3\\n2        2\\n3        4...   \n",
       "4  510000.0  0        3\\n1        3\\n2        2\\n3        4...   \n",
       "\n",
       "                                           bathrooms  sqft_living  sqft_lot  \\\n",
       "0  0        1.00\\n1        2.25\\n2        1.00\\n3...         1180      5650   \n",
       "1  0        1.00\\n1        2.25\\n2        1.00\\n3...         2570      7242   \n",
       "2  0        1.00\\n1        2.25\\n2        1.00\\n3...          770     10000   \n",
       "3  0        1.00\\n1        2.25\\n2        1.00\\n3...         1960      5000   \n",
       "4  0        1.00\\n1        2.25\\n2        1.00\\n3...         1680      8080   \n",
       "\n",
       "   floors waterfront  view  condition          grade  sqft_above  \\\n",
       "0     1.0         No  NONE    Average      7 Average        1180   \n",
       "1     2.0         NO  NONE    Average      7 Average        2170   \n",
       "2     1.0         NO  NONE    Average  6 Low Average         770   \n",
       "3     1.0         NO  NONE  Very Good      7 Average        1050   \n",
       "4     1.0         NO  NONE    Average         8 Good        1680   \n",
       "\n",
       "  sqft_basement  sqft_living15  sqft_lot15  \n",
       "0           0.0           1340        5650  \n",
       "1         400.0           1690        7639  \n",
       "2           0.0           2720        8062  \n",
       "3         910.0           1360        5000  \n",
       "4           0.0           1800        7503  "
      ]
     },
     "execution_count": 62,
     "metadata": {},
     "output_type": "execute_result"
    }
   ],
   "source": [
    "rel_house_data.head()"
   ]
  },
  {
   "cell_type": "code",
   "execution_count": 65,
   "metadata": {},
   "outputs": [
    {
     "data": {
      "text/plain": [
       "NO     19075\n",
       "No      2376\n",
       "YES      146\n",
       "Name: waterfront, dtype: int64"
      ]
     },
     "execution_count": 65,
     "metadata": {},
     "output_type": "execute_result"
    }
   ],
   "source": [
    "#Viewing unique values in the waterfront column\n",
    "rel_house_data['waterfront'].value_counts()"
   ]
  },
  {
   "cell_type": "code",
   "execution_count": 68,
   "metadata": {},
   "outputs": [],
   "source": [
    "# Replacing No with NO\n",
    "rel_house_data['waterfront'].replace('No','NO',inplace = True)"
   ]
  },
  {
   "cell_type": "code",
   "execution_count": 69,
   "metadata": {},
   "outputs": [
    {
     "data": {
      "text/plain": [
       "NONE         19422\n",
       "AVERAGE        957\n",
       "GOOD           508\n",
       "FAIR           330\n",
       "EXCELLENT      317\n",
       "None            63\n",
       "Name: view, dtype: int64"
      ]
     },
     "execution_count": 69,
     "metadata": {},
     "output_type": "execute_result"
    }
   ],
   "source": [
    "#Viewing the unique values in the view column\n",
    "rel_house_data['view'].value_counts()"
   ]
  },
  {
   "cell_type": "code",
   "execution_count": 70,
   "metadata": {},
   "outputs": [],
   "source": [
    "# Replace None with NONE\n",
    "rel_house_data['view'].replace('None','NONE',inplace=True)"
   ]
  },
  {
   "cell_type": "code",
   "execution_count": 73,
   "metadata": {},
   "outputs": [
    {
     "data": {
      "text/plain": [
       "Average      14020\n",
       "Good          5677\n",
       "Very Good     1701\n",
       "Fair           170\n",
       "Poor            29\n",
       "Name: condition, dtype: int64"
      ]
     },
     "execution_count": 73,
     "metadata": {},
     "output_type": "execute_result"
    }
   ],
   "source": [
    "#Viewing unique values in the condition column\n",
    "rel_house_data['condition'].value_counts()"
   ]
  },
  {
   "cell_type": "code",
   "execution_count": 74,
   "metadata": {},
   "outputs": [
    {
     "data": {
      "text/plain": [
       "7 Average        8974\n",
       "8 Good           6065\n",
       "9 Better         2615\n",
       "6 Low Average    2038\n",
       "10 Very Good     1134\n",
       "11 Excellent      399\n",
       "5 Fair            242\n",
       "12 Luxury          89\n",
       "4 Low              27\n",
       "13 Mansion         13\n",
       "3 Poor              1\n",
       "Name: grade, dtype: int64"
      ]
     },
     "execution_count": 74,
     "metadata": {},
     "output_type": "execute_result"
    }
   ],
   "source": [
    "#Viewing unique values in the grade column\n",
    "rel_house_data['grade'].value_counts()"
   ]
  },
  {
   "cell_type": "code",
   "execution_count": 77,
   "metadata": {},
   "outputs": [
    {
     "data": {
      "text/html": [
       "<div>\n",
       "<style scoped>\n",
       "    .dataframe tbody tr th:only-of-type {\n",
       "        vertical-align: middle;\n",
       "    }\n",
       "\n",
       "    .dataframe tbody tr th {\n",
       "        vertical-align: top;\n",
       "    }\n",
       "\n",
       "    .dataframe thead th {\n",
       "        text-align: right;\n",
       "    }\n",
       "</style>\n",
       "<table border=\"1\" class=\"dataframe\">\n",
       "  <thead>\n",
       "    <tr style=\"text-align: right;\">\n",
       "      <th></th>\n",
       "      <th>price</th>\n",
       "      <th>bedrooms</th>\n",
       "      <th>bathrooms</th>\n",
       "      <th>sqft_living</th>\n",
       "      <th>sqft_lot</th>\n",
       "      <th>floors</th>\n",
       "      <th>waterfront</th>\n",
       "      <th>view</th>\n",
       "      <th>condition</th>\n",
       "      <th>grade</th>\n",
       "      <th>sqft_above</th>\n",
       "      <th>sqft_basement</th>\n",
       "      <th>sqft_living15</th>\n",
       "      <th>sqft_lot15</th>\n",
       "    </tr>\n",
       "  </thead>\n",
       "  <tbody>\n",
       "    <tr>\n",
       "      <th>0</th>\n",
       "      <td>221900.0</td>\n",
       "      <td>0        3\\n1        3\\n2        2\\n3        4...</td>\n",
       "      <td>0        1.00\\n1        2.25\\n2        1.00\\n3...</td>\n",
       "      <td>1180</td>\n",
       "      <td>5650</td>\n",
       "      <td>1.0</td>\n",
       "      <td>NO</td>\n",
       "      <td>NONE</td>\n",
       "      <td>Average</td>\n",
       "      <td>7 Average</td>\n",
       "      <td>1180</td>\n",
       "      <td>0.0</td>\n",
       "      <td>1340</td>\n",
       "      <td>5650</td>\n",
       "    </tr>\n",
       "    <tr>\n",
       "      <th>1</th>\n",
       "      <td>538000.0</td>\n",
       "      <td>0        3\\n1        3\\n2        2\\n3        4...</td>\n",
       "      <td>0        1.00\\n1        2.25\\n2        1.00\\n3...</td>\n",
       "      <td>2570</td>\n",
       "      <td>7242</td>\n",
       "      <td>2.0</td>\n",
       "      <td>NO</td>\n",
       "      <td>NONE</td>\n",
       "      <td>Average</td>\n",
       "      <td>7 Average</td>\n",
       "      <td>2170</td>\n",
       "      <td>400.0</td>\n",
       "      <td>1690</td>\n",
       "      <td>7639</td>\n",
       "    </tr>\n",
       "    <tr>\n",
       "      <th>2</th>\n",
       "      <td>180000.0</td>\n",
       "      <td>0        3\\n1        3\\n2        2\\n3        4...</td>\n",
       "      <td>0        1.00\\n1        2.25\\n2        1.00\\n3...</td>\n",
       "      <td>770</td>\n",
       "      <td>10000</td>\n",
       "      <td>1.0</td>\n",
       "      <td>NO</td>\n",
       "      <td>NONE</td>\n",
       "      <td>Average</td>\n",
       "      <td>6 Low Average</td>\n",
       "      <td>770</td>\n",
       "      <td>0.0</td>\n",
       "      <td>2720</td>\n",
       "      <td>8062</td>\n",
       "    </tr>\n",
       "    <tr>\n",
       "      <th>3</th>\n",
       "      <td>604000.0</td>\n",
       "      <td>0        3\\n1        3\\n2        2\\n3        4...</td>\n",
       "      <td>0        1.00\\n1        2.25\\n2        1.00\\n3...</td>\n",
       "      <td>1960</td>\n",
       "      <td>5000</td>\n",
       "      <td>1.0</td>\n",
       "      <td>NO</td>\n",
       "      <td>NONE</td>\n",
       "      <td>Very Good</td>\n",
       "      <td>7 Average</td>\n",
       "      <td>1050</td>\n",
       "      <td>910.0</td>\n",
       "      <td>1360</td>\n",
       "      <td>5000</td>\n",
       "    </tr>\n",
       "    <tr>\n",
       "      <th>4</th>\n",
       "      <td>510000.0</td>\n",
       "      <td>0        3\\n1        3\\n2        2\\n3        4...</td>\n",
       "      <td>0        1.00\\n1        2.25\\n2        1.00\\n3...</td>\n",
       "      <td>1680</td>\n",
       "      <td>8080</td>\n",
       "      <td>1.0</td>\n",
       "      <td>NO</td>\n",
       "      <td>NONE</td>\n",
       "      <td>Average</td>\n",
       "      <td>8 Good</td>\n",
       "      <td>1680</td>\n",
       "      <td>0.0</td>\n",
       "      <td>1800</td>\n",
       "      <td>7503</td>\n",
       "    </tr>\n",
       "  </tbody>\n",
       "</table>\n",
       "</div>"
      ],
      "text/plain": [
       "      price                                           bedrooms  \\\n",
       "0  221900.0  0        3\\n1        3\\n2        2\\n3        4...   \n",
       "1  538000.0  0        3\\n1        3\\n2        2\\n3        4...   \n",
       "2  180000.0  0        3\\n1        3\\n2        2\\n3        4...   \n",
       "3  604000.0  0        3\\n1        3\\n2        2\\n3        4...   \n",
       "4  510000.0  0        3\\n1        3\\n2        2\\n3        4...   \n",
       "\n",
       "                                           bathrooms  sqft_living  sqft_lot  \\\n",
       "0  0        1.00\\n1        2.25\\n2        1.00\\n3...         1180      5650   \n",
       "1  0        1.00\\n1        2.25\\n2        1.00\\n3...         2570      7242   \n",
       "2  0        1.00\\n1        2.25\\n2        1.00\\n3...          770     10000   \n",
       "3  0        1.00\\n1        2.25\\n2        1.00\\n3...         1960      5000   \n",
       "4  0        1.00\\n1        2.25\\n2        1.00\\n3...         1680      8080   \n",
       "\n",
       "   floors waterfront  view  condition          grade  sqft_above  \\\n",
       "0     1.0         NO  NONE    Average      7 Average        1180   \n",
       "1     2.0         NO  NONE    Average      7 Average        2170   \n",
       "2     1.0         NO  NONE    Average  6 Low Average         770   \n",
       "3     1.0         NO  NONE  Very Good      7 Average        1050   \n",
       "4     1.0         NO  NONE    Average         8 Good        1680   \n",
       "\n",
       "  sqft_basement  sqft_living15  sqft_lot15  \n",
       "0           0.0           1340        5650  \n",
       "1         400.0           1690        7639  \n",
       "2           0.0           2720        8062  \n",
       "3         910.0           1360        5000  \n",
       "4           0.0           1800        7503  "
      ]
     },
     "execution_count": 77,
     "metadata": {},
     "output_type": "execute_result"
    }
   ],
   "source": [
    "# Viewing the data we are going to use\n",
    "rel_house_data.head()"
   ]
  },
  {
   "cell_type": "code",
   "execution_count": 78,
   "metadata": {},
   "outputs": [
    {
     "data": {
      "text/html": [
       "<div>\n",
       "<style scoped>\n",
       "    .dataframe tbody tr th:only-of-type {\n",
       "        vertical-align: middle;\n",
       "    }\n",
       "\n",
       "    .dataframe tbody tr th {\n",
       "        vertical-align: top;\n",
       "    }\n",
       "\n",
       "    .dataframe thead th {\n",
       "        text-align: right;\n",
       "    }\n",
       "</style>\n",
       "<table border=\"1\" class=\"dataframe\">\n",
       "  <thead>\n",
       "    <tr style=\"text-align: right;\">\n",
       "      <th></th>\n",
       "      <th>price</th>\n",
       "      <th>bedrooms</th>\n",
       "      <th>bathrooms</th>\n",
       "      <th>sqft_living</th>\n",
       "      <th>sqft_lot</th>\n",
       "      <th>floors</th>\n",
       "      <th>waterfront</th>\n",
       "      <th>view</th>\n",
       "      <th>condition</th>\n",
       "      <th>grade</th>\n",
       "      <th>sqft_above</th>\n",
       "      <th>sqft_basement</th>\n",
       "      <th>sqft_living15</th>\n",
       "      <th>sqft_lot15</th>\n",
       "    </tr>\n",
       "  </thead>\n",
       "  <tbody>\n",
       "    <tr>\n",
       "      <th>0</th>\n",
       "      <td>221900.0</td>\n",
       "      <td>3</td>\n",
       "      <td>1.00</td>\n",
       "      <td>1180</td>\n",
       "      <td>5650</td>\n",
       "      <td>1.0</td>\n",
       "      <td>NO</td>\n",
       "      <td>NONE</td>\n",
       "      <td>Average</td>\n",
       "      <td>7 Average</td>\n",
       "      <td>1180</td>\n",
       "      <td>0.0</td>\n",
       "      <td>1340</td>\n",
       "      <td>5650</td>\n",
       "    </tr>\n",
       "    <tr>\n",
       "      <th>1</th>\n",
       "      <td>538000.0</td>\n",
       "      <td>3</td>\n",
       "      <td>2.25</td>\n",
       "      <td>2570</td>\n",
       "      <td>7242</td>\n",
       "      <td>2.0</td>\n",
       "      <td>NO</td>\n",
       "      <td>NONE</td>\n",
       "      <td>Average</td>\n",
       "      <td>7 Average</td>\n",
       "      <td>2170</td>\n",
       "      <td>400.0</td>\n",
       "      <td>1690</td>\n",
       "      <td>7639</td>\n",
       "    </tr>\n",
       "    <tr>\n",
       "      <th>2</th>\n",
       "      <td>180000.0</td>\n",
       "      <td>2</td>\n",
       "      <td>1.00</td>\n",
       "      <td>770</td>\n",
       "      <td>10000</td>\n",
       "      <td>1.0</td>\n",
       "      <td>NO</td>\n",
       "      <td>NONE</td>\n",
       "      <td>Average</td>\n",
       "      <td>6 Low Average</td>\n",
       "      <td>770</td>\n",
       "      <td>0.0</td>\n",
       "      <td>2720</td>\n",
       "      <td>8062</td>\n",
       "    </tr>\n",
       "    <tr>\n",
       "      <th>3</th>\n",
       "      <td>604000.0</td>\n",
       "      <td>4</td>\n",
       "      <td>3.00</td>\n",
       "      <td>1960</td>\n",
       "      <td>5000</td>\n",
       "      <td>1.0</td>\n",
       "      <td>NO</td>\n",
       "      <td>NONE</td>\n",
       "      <td>Very Good</td>\n",
       "      <td>7 Average</td>\n",
       "      <td>1050</td>\n",
       "      <td>910.0</td>\n",
       "      <td>1360</td>\n",
       "      <td>5000</td>\n",
       "    </tr>\n",
       "    <tr>\n",
       "      <th>4</th>\n",
       "      <td>510000.0</td>\n",
       "      <td>3</td>\n",
       "      <td>2.00</td>\n",
       "      <td>1680</td>\n",
       "      <td>8080</td>\n",
       "      <td>1.0</td>\n",
       "      <td>NO</td>\n",
       "      <td>NONE</td>\n",
       "      <td>Average</td>\n",
       "      <td>8 Good</td>\n",
       "      <td>1680</td>\n",
       "      <td>0.0</td>\n",
       "      <td>1800</td>\n",
       "      <td>7503</td>\n",
       "    </tr>\n",
       "    <tr>\n",
       "      <th>...</th>\n",
       "      <td>...</td>\n",
       "      <td>...</td>\n",
       "      <td>...</td>\n",
       "      <td>...</td>\n",
       "      <td>...</td>\n",
       "      <td>...</td>\n",
       "      <td>...</td>\n",
       "      <td>...</td>\n",
       "      <td>...</td>\n",
       "      <td>...</td>\n",
       "      <td>...</td>\n",
       "      <td>...</td>\n",
       "      <td>...</td>\n",
       "      <td>...</td>\n",
       "    </tr>\n",
       "    <tr>\n",
       "      <th>21592</th>\n",
       "      <td>360000.0</td>\n",
       "      <td>3</td>\n",
       "      <td>2.50</td>\n",
       "      <td>1530</td>\n",
       "      <td>1131</td>\n",
       "      <td>3.0</td>\n",
       "      <td>NO</td>\n",
       "      <td>NONE</td>\n",
       "      <td>Average</td>\n",
       "      <td>8 Good</td>\n",
       "      <td>1530</td>\n",
       "      <td>0.0</td>\n",
       "      <td>1530</td>\n",
       "      <td>1509</td>\n",
       "    </tr>\n",
       "    <tr>\n",
       "      <th>21593</th>\n",
       "      <td>400000.0</td>\n",
       "      <td>4</td>\n",
       "      <td>2.50</td>\n",
       "      <td>2310</td>\n",
       "      <td>5813</td>\n",
       "      <td>2.0</td>\n",
       "      <td>NO</td>\n",
       "      <td>NONE</td>\n",
       "      <td>Average</td>\n",
       "      <td>8 Good</td>\n",
       "      <td>2310</td>\n",
       "      <td>0.0</td>\n",
       "      <td>1830</td>\n",
       "      <td>7200</td>\n",
       "    </tr>\n",
       "    <tr>\n",
       "      <th>21594</th>\n",
       "      <td>402101.0</td>\n",
       "      <td>2</td>\n",
       "      <td>0.75</td>\n",
       "      <td>1020</td>\n",
       "      <td>1350</td>\n",
       "      <td>2.0</td>\n",
       "      <td>NO</td>\n",
       "      <td>NONE</td>\n",
       "      <td>Average</td>\n",
       "      <td>7 Average</td>\n",
       "      <td>1020</td>\n",
       "      <td>0.0</td>\n",
       "      <td>1020</td>\n",
       "      <td>2007</td>\n",
       "    </tr>\n",
       "    <tr>\n",
       "      <th>21595</th>\n",
       "      <td>400000.0</td>\n",
       "      <td>3</td>\n",
       "      <td>2.50</td>\n",
       "      <td>1600</td>\n",
       "      <td>2388</td>\n",
       "      <td>2.0</td>\n",
       "      <td>NO</td>\n",
       "      <td>NONE</td>\n",
       "      <td>Average</td>\n",
       "      <td>8 Good</td>\n",
       "      <td>1600</td>\n",
       "      <td>0.0</td>\n",
       "      <td>1410</td>\n",
       "      <td>1287</td>\n",
       "    </tr>\n",
       "    <tr>\n",
       "      <th>21596</th>\n",
       "      <td>325000.0</td>\n",
       "      <td>2</td>\n",
       "      <td>0.75</td>\n",
       "      <td>1020</td>\n",
       "      <td>1076</td>\n",
       "      <td>2.0</td>\n",
       "      <td>NO</td>\n",
       "      <td>NONE</td>\n",
       "      <td>Average</td>\n",
       "      <td>7 Average</td>\n",
       "      <td>1020</td>\n",
       "      <td>0.0</td>\n",
       "      <td>1020</td>\n",
       "      <td>1357</td>\n",
       "    </tr>\n",
       "  </tbody>\n",
       "</table>\n",
       "<p>21597 rows × 14 columns</p>\n",
       "</div>"
      ],
      "text/plain": [
       "          price  bedrooms  bathrooms  sqft_living  sqft_lot  floors  \\\n",
       "0      221900.0         3       1.00         1180      5650     1.0   \n",
       "1      538000.0         3       2.25         2570      7242     2.0   \n",
       "2      180000.0         2       1.00          770     10000     1.0   \n",
       "3      604000.0         4       3.00         1960      5000     1.0   \n",
       "4      510000.0         3       2.00         1680      8080     1.0   \n",
       "...         ...       ...        ...          ...       ...     ...   \n",
       "21592  360000.0         3       2.50         1530      1131     3.0   \n",
       "21593  400000.0         4       2.50         2310      5813     2.0   \n",
       "21594  402101.0         2       0.75         1020      1350     2.0   \n",
       "21595  400000.0         3       2.50         1600      2388     2.0   \n",
       "21596  325000.0         2       0.75         1020      1076     2.0   \n",
       "\n",
       "      waterfront  view  condition          grade  sqft_above sqft_basement  \\\n",
       "0             NO  NONE    Average      7 Average        1180           0.0   \n",
       "1             NO  NONE    Average      7 Average        2170         400.0   \n",
       "2             NO  NONE    Average  6 Low Average         770           0.0   \n",
       "3             NO  NONE  Very Good      7 Average        1050         910.0   \n",
       "4             NO  NONE    Average         8 Good        1680           0.0   \n",
       "...          ...   ...        ...            ...         ...           ...   \n",
       "21592         NO  NONE    Average         8 Good        1530           0.0   \n",
       "21593         NO  NONE    Average         8 Good        2310           0.0   \n",
       "21594         NO  NONE    Average      7 Average        1020           0.0   \n",
       "21595         NO  NONE    Average         8 Good        1600           0.0   \n",
       "21596         NO  NONE    Average      7 Average        1020           0.0   \n",
       "\n",
       "       sqft_living15  sqft_lot15  \n",
       "0               1340        5650  \n",
       "1               1690        7639  \n",
       "2               2720        8062  \n",
       "3               1360        5000  \n",
       "4               1800        7503  \n",
       "...              ...         ...  \n",
       "21592           1530        1509  \n",
       "21593           1830        7200  \n",
       "21594           1020        2007  \n",
       "21595           1410        1287  \n",
       "21596           1020        1357  \n",
       "\n",
       "[21597 rows x 14 columns]"
      ]
     },
     "execution_count": 78,
     "metadata": {},
     "output_type": "execute_result"
    }
   ],
   "source": [
    "# Returning the bedrooms and bathrooms to their original values\n",
    "# Cleaned data\n",
    "rel_house_data['bedrooms']=house_data['bedrooms']\n",
    "rel_house_data['bathrooms']=house_data['bathrooms']\n",
    "rel_house_data"
   ]
  },
  {
   "cell_type": "code",
   "execution_count": 79,
   "metadata": {},
   "outputs": [
    {
     "name": "stdout",
     "output_type": "stream",
     "text": [
      "<class 'pandas.core.frame.DataFrame'>\n",
      "RangeIndex: 21597 entries, 0 to 21596\n",
      "Data columns (total 14 columns):\n",
      " #   Column         Non-Null Count  Dtype  \n",
      "---  ------         --------------  -----  \n",
      " 0   price          21597 non-null  float64\n",
      " 1   bedrooms       21597 non-null  int64  \n",
      " 2   bathrooms      21597 non-null  float64\n",
      " 3   sqft_living    21597 non-null  int64  \n",
      " 4   sqft_lot       21597 non-null  int64  \n",
      " 5   floors         21597 non-null  float64\n",
      " 6   waterfront     21597 non-null  object \n",
      " 7   view           21597 non-null  object \n",
      " 8   condition      21597 non-null  object \n",
      " 9   grade          21597 non-null  object \n",
      " 10  sqft_above     21597 non-null  int64  \n",
      " 11  sqft_basement  21597 non-null  object \n",
      " 12  sqft_living15  21597 non-null  int64  \n",
      " 13  sqft_lot15     21597 non-null  int64  \n",
      "dtypes: float64(3), int64(6), object(5)\n",
      "memory usage: 2.3+ MB\n"
     ]
    }
   ],
   "source": [
    "rel_house_data.info()"
   ]
  },
  {
   "cell_type": "markdown",
   "metadata": {},
   "source": [
    "# Data Analysis"
   ]
  },
  {
   "cell_type": "code",
   "execution_count": 13,
   "metadata": {},
   "outputs": [
    {
     "data": {
      "text/plain": [
       "price            1.000000\n",
       "sqft_living      0.701917\n",
       "sqft_lot         0.089876\n",
       "floors           0.256804\n",
       "sqft_above       0.605368\n",
       "sqft_living15    0.585241\n",
       "sqft_lot15       0.082845\n",
       "Name: price, dtype: float64"
      ]
     },
     "execution_count": 13,
     "metadata": {},
     "output_type": "execute_result"
    }
   ],
   "source": [
    "#Checking the correlation between price and features of the house\n",
    "rel_house_data.corr()['price']\n"
   ]
  },
  {
   "cell_type": "code",
   "execution_count": 87,
   "metadata": {},
   "outputs": [
    {
     "data": {
      "text/plain": [
       "Text(0, 0.5, 'price')"
      ]
     },
     "execution_count": 87,
     "metadata": {},
     "output_type": "execute_result"
    },
    {
     "data": {
      "image/png": "[encoded data removed]",
      "text/plain": [
       "<Figure size 432x288 with 1 Axes>"
      ]
     },
     "metadata": {
      "needs_background": "light"
     },
     "output_type": "display_data"
    }
   ],
   "source": [
    "# Viewing the relationship between squarefoot of living and houseprice\n",
    "fig,ax=plt.subplots()\n",
    "plt.scatter(x='sqft_living',y='price',data=rel_house_data)\n",
    "plt.xlabel('square foot living space')\n",
    "plt.ylabel('price')"
   ]
  },
  {
   "cell_type": "markdown",
   "metadata": {},
   "source": [
    "this shows a linear relationship between price and square foot living space and even the correlation suggests a positive relationship with price"
   ]
  },
  {
   "cell_type": "code",
   "execution_count": 80,
   "metadata": {},
   "outputs": [
    {
     "data": {
      "text/plain": [
       "3     9824\n",
       "4     6882\n",
       "2     2760\n",
       "5     1601\n",
       "6      272\n",
       "1      196\n",
       "7       38\n",
       "8       13\n",
       "9        6\n",
       "10       3\n",
       "11       1\n",
       "33       1\n",
       "Name: bedrooms, dtype: int64"
      ]
     },
     "execution_count": 80,
     "metadata": {},
     "output_type": "execute_result"
    }
   ],
   "source": [
    "#Counting the number of sold houses per bedroom\n",
    "number_of_houses_sold=rel_house_data['bedrooms'].value_counts()\n",
    "number_of_houses_sold"
   ]
  },
  {
   "cell_type": "code",
   "execution_count": 40,
   "metadata": {},
   "outputs": [
    {
     "data": {
      "text/plain": [
       "<AxesSubplot:>"
      ]
     },
     "execution_count": 40,
     "metadata": {},
     "output_type": "execute_result"
    },
    {
     "data": {
      "image/png": "[encoded data removed]",
      "text/plain": [
       "<Figure size 432x288 with 1 Axes>"
      ]
     },
     "metadata": {
      "needs_background": "light"
     },
     "output_type": "display_data"
    }
   ],
   "source": [
    "#Showing the number of sold houses per bedroom\n",
    "number_of_houses_sold.plot.bar()"
   ]
  },
  {
   "cell_type": "markdown",
   "metadata": {},
   "source": [
    "Houses with three bedrooms are sold more in KingCounty region"
   ]
  },
  {
   "cell_type": "code",
   "execution_count": 45,
   "metadata": {
    "scrolled": true
   },
   "outputs": [
    {
     "data": {
      "text/plain": [
       "<matplotlib.collections.PathCollection at 0x257a31ee220>"
      ]
     },
     "execution_count": 45,
     "metadata": {},
     "output_type": "execute_result"
    },
    {
     "data": {
      "image/png": "[encoded data removed]",
      "text/plain": [
       "<Figure size 432x288 with 1 Axes>"
      ]
     },
     "metadata": {
      "needs_background": "light"
     },
     "output_type": "display_data"
    }
   ],
   "source": [
    "# Showing the relationship between bedrooms and houseprice\n",
    "plt.scatter(house_data['bedrooms'],house_data['price'])"
   ]
  },
  {
   "cell_type": "markdown",
   "metadata": {},
   "source": [
    "Bedrooms is a categorical variable"
   ]
  },
  {
   "cell_type": "code",
   "execution_count": 46,
   "metadata": {},
   "outputs": [
    {
     "data": {
      "text/plain": [
       "<matplotlib.collections.PathCollection at 0x257a3243e20>"
      ]
     },
     "execution_count": 46,
     "metadata": {},
     "output_type": "execute_result"
    },
    {
     "data": {
      "image/png": "[encoded data removed]",
      "text/plain": [
       "<Figure size 432x288 with 1 Axes>"
      ]
     },
     "metadata": {
      "needs_background": "light"
     },
     "output_type": "display_data"
    }
   ],
   "source": [
    "# Showing the relationship between bathrooms and houseprice\n",
    "plt.scatter(house_data['bathrooms'],house_data['price'])"
   ]
  },
  {
   "cell_type": "markdown",
   "metadata": {},
   "source": [
    "This shows there is linear relationship between price and the number of bathrooms in a house"
   ]
  },
  {
   "cell_type": "code",
   "execution_count": 48,
   "metadata": {},
   "outputs": [
    {
     "data": {
      "text/plain": [
       "<matplotlib.collections.PathCollection at 0x257a3116ca0>"
      ]
     },
     "execution_count": 48,
     "metadata": {},
     "output_type": "execute_result"
    },
    {
     "data": {
      "image/png": "[encoded data removed]",
      "text/plain": [
       "<Figure size 432x288 with 1 Axes>"
      ]
     },
     "metadata": {
      "needs_background": "light"
     },
     "output_type": "display_data"
    }
   ],
   "source": [
    "# Showing the relationship between floors and houseprice\n",
    "plt.scatter(house_data['floors'],house_data['price'])"
   ]
  },
  {
   "cell_type": "markdown",
   "metadata": {},
   "source": [
    "The floors is a categorical variable"
   ]
  },
  {
   "cell_type": "code",
   "execution_count": 86,
   "metadata": {},
   "outputs": [
    {
     "data": {
      "text/plain": [
       "<AxesSubplot:>"
      ]
     },
     "execution_count": 86,
     "metadata": {},
     "output_type": "execute_result"
    },
    {
     "data": {
      "image/png": "[encoded data removed]",
      "text/plain": [
       "<Figure size 432x288 with 1 Axes>"
      ]
     },
     "metadata": {
      "needs_background": "light"
     },
     "output_type": "display_data"
    }
   ],
   "source": [
    "#Viewing the number of houses sold in terms of floors\n",
    "rel_house_data['floors'].value_counts().plot.bar()"
   ]
  },
  {
   "cell_type": "markdown",
   "metadata": {},
   "source": [
    "The most sold houses have only one floor followed by houses with two floors"
   ]
  },
  {
   "cell_type": "code",
   "execution_count": 84,
   "metadata": {},
   "outputs": [
    {
     "data": {
      "text/plain": [
       "<matplotlib.collections.PathCollection at 0x257a44edfd0>"
      ]
     },
     "execution_count": 84,
     "metadata": {},
     "output_type": "execute_result"
    },
    {
     "data": {
      "image/png": "[encoded data removed]",
      "text/plain": [
       "<Figure size 432x288 with 1 Axes>"
      ]
     },
     "metadata": {
      "needs_background": "light"
     },
     "output_type": "display_data"
    }
   ],
   "source": [
    "# Showing the relationship between squarefeet of the lot and houseprice\n",
    "plt.scatter(rel_house_data['sqft_lot'],rel_house_data['price'])"
   ]
  },
  {
   "cell_type": "code",
   "execution_count": 85,
   "metadata": {},
   "outputs": [
    {
     "data": {
      "text/plain": [
       "<AxesSubplot:>"
      ]
     },
     "execution_count": 85,
     "metadata": {},
     "output_type": "execute_result"
    },
    {
     "data": {
      "image/png": "[encoded data removed]",
      "text/plain": [
       "<Figure size 432x288 with 1 Axes>"
      ]
     },
     "metadata": {
      "needs_background": "light"
     },
     "output_type": "display_data"
    }
   ],
   "source": [
    "# Showing the relationship between condition and houseprice\n",
    "rel_house_data['condition'].value_counts().plot.bar()"
   ]
  },
  {
   "cell_type": "markdown",
   "metadata": {},
   "source": [
    "Most sold houses have an average condition"
   ]
  },
  {
   "cell_type": "code",
   "execution_count": 83,
   "metadata": {},
   "outputs": [
    {
     "data": {
      "text/plain": [
       "<AxesSubplot:>"
      ]
     },
     "execution_count": 83,
     "metadata": {},
     "output_type": "execute_result"
    },
    {
     "data": {
      "image/png": "[encoded data removed]",
      "text/plain": [
       "<Figure size 432x288 with 1 Axes>"
      ]
     },
     "metadata": {
      "needs_background": "light"
     },
     "output_type": "display_data"
    }
   ],
   "source": [
    "# Showing the relationship between grade and houseprice\n",
    "house_data['grade'].value_counts().plot.bar()"
   ]
  },
  {
   "cell_type": "code",
   "execution_count": 82,
   "metadata": {},
   "outputs": [
    {
     "data": {
      "text/plain": [
       "<matplotlib.collections.PathCollection at 0x257a440a160>"
      ]
     },
     "execution_count": 82,
     "metadata": {},
     "output_type": "execute_result"
    },
    {
     "data": {
      "image/png": "[encoded data removed]",
      "text/plain": [
       "<Figure size 432x288 with 1 Axes>"
      ]
     },
     "metadata": {
      "needs_background": "light"
     },
     "output_type": "display_data"
    }
   ],
   "source": [
    "# Showing the relationship between the view and houseprice\n",
    "plt.scatter(rel_house_data['view'],rel_house_data['price'])"
   ]
  },
  {
   "cell_type": "markdown",
   "metadata": {},
   "source": [
    "The view column is a categorical"
   ]
  },
  {
   "cell_type": "code",
   "execution_count": null,
   "metadata": {},
   "outputs": [],
   "source": [
    "rel_house"
   ]
  },
  {
   "cell_type": "markdown",
   "metadata": {},
   "source": [
    "## Modelling"
   ]
  },
  {
   "cell_type": "code",
   "execution_count": 141,
   "metadata": {},
   "outputs": [],
   "source": [
    "#Load the relevant libraries\n",
    "import statsmodels.api as sm"
   ]
  },
  {
   "cell_type": "markdown",
   "metadata": {},
   "source": [
    "## Simple multiple linear regression"
   ]
  },
  {
   "cell_type": "code",
   "execution_count": 157,
   "metadata": {},
   "outputs": [],
   "source": [
    "# Formulating the dummy variables for  bedrooms,floors,\n",
    "co1_rel_house=rel_house_data.copy()\n",
    "co1_rel_house=co1_rel_house.drop(['price'],axis=1)\n",
    "#Converting bedrooms,floors,bathrooms to category  \n",
    "co1_rel_house['bedrooms']=co1_rel_house['bedrooms'].astype('category')\n",
    "co1_rel_house['floors']=co1_rel_house['floors'].astype('category')\n",
    "\n",
    "#finding\n",
    "co1_rel_house=pd.get_dummies(co1_rel_house,columns=['bedrooms','floors'])\n",
    "#Choosing the reference category as houses with three bedrooms and one floor\n",
    "co1_rel_house=co1_rel_house.drop(['bedrooms_3','floors_1.0'],axis=1)\n"
   ]
  },
  {
   "cell_type": "code",
   "execution_count": 158,
   "metadata": {},
   "outputs": [],
   "source": [
    "co1_rel_house=pd.get_dummies(co1_rel_house,columns=['view','waterfront','condition','grade'],drop_first=True)\n"
   ]
  },
  {
   "cell_type": "code",
   "execution_count": 159,
   "metadata": {},
   "outputs": [],
   "source": [
    "co1_rel_house=co1_rel_house.drop(['sqft_basement'],axis=1)\n"
   ]
  },
  {
   "cell_type": "code",
   "execution_count": 161,
   "metadata": {},
   "outputs": [
    {
     "name": "stdout",
     "output_type": "stream",
     "text": [
      "<class 'pandas.core.frame.DataFrame'>\n",
      "RangeIndex: 21597 entries, 0 to 21596\n",
      "Data columns (total 41 columns):\n",
      " #   Column               Non-Null Count  Dtype  \n",
      "---  ------               --------------  -----  \n",
      " 0   bathrooms            21597 non-null  float64\n",
      " 1   sqft_living          21597 non-null  int64  \n",
      " 2   sqft_lot             21597 non-null  int64  \n",
      " 3   sqft_above           21597 non-null  int64  \n",
      " 4   sqft_living15        21597 non-null  int64  \n",
      " 5   sqft_lot15           21597 non-null  int64  \n",
      " 6   bedrooms_1           21597 non-null  uint8  \n",
      " 7   bedrooms_2           21597 non-null  uint8  \n",
      " 8   bedrooms_4           21597 non-null  uint8  \n",
      " 9   bedrooms_5           21597 non-null  uint8  \n",
      " 10  bedrooms_6           21597 non-null  uint8  \n",
      " 11  bedrooms_7           21597 non-null  uint8  \n",
      " 12  bedrooms_8           21597 non-null  uint8  \n",
      " 13  bedrooms_9           21597 non-null  uint8  \n",
      " 14  bedrooms_10          21597 non-null  uint8  \n",
      " 15  bedrooms_11          21597 non-null  uint8  \n",
      " 16  bedrooms_33          21597 non-null  uint8  \n",
      " 17  floors_1.5           21597 non-null  uint8  \n",
      " 18  floors_2.0           21597 non-null  uint8  \n",
      " 19  floors_2.5           21597 non-null  uint8  \n",
      " 20  floors_3.0           21597 non-null  uint8  \n",
      " 21  floors_3.5           21597 non-null  uint8  \n",
      " 22  view_EXCELLENT       21597 non-null  uint8  \n",
      " 23  view_FAIR            21597 non-null  uint8  \n",
      " 24  view_GOOD            21597 non-null  uint8  \n",
      " 25  view_NONE            21597 non-null  uint8  \n",
      " 26  waterfront_YES       21597 non-null  uint8  \n",
      " 27  condition_Fair       21597 non-null  uint8  \n",
      " 28  condition_Good       21597 non-null  uint8  \n",
      " 29  condition_Poor       21597 non-null  uint8  \n",
      " 30  condition_Very Good  21597 non-null  uint8  \n",
      " 31  grade_11 Excellent   21597 non-null  uint8  \n",
      " 32  grade_12 Luxury      21597 non-null  uint8  \n",
      " 33  grade_13 Mansion     21597 non-null  uint8  \n",
      " 34  grade_3 Poor         21597 non-null  uint8  \n",
      " 35  grade_4 Low          21597 non-null  uint8  \n",
      " 36  grade_5 Fair         21597 non-null  uint8  \n",
      " 37  grade_6 Low Average  21597 non-null  uint8  \n",
      " 38  grade_7 Average      21597 non-null  uint8  \n",
      " 39  grade_8 Good         21597 non-null  uint8  \n",
      " 40  grade_9 Better       21597 non-null  uint8  \n",
      "dtypes: float64(1), int64(5), uint8(35)\n",
      "memory usage: 1.7 MB\n"
     ]
    }
   ],
   "source": [
    "co1_rel_house.info()"
   ]
  },
  {
   "cell_type": "code",
   "execution_count": 169,
   "metadata": {},
   "outputs": [
    {
     "data": {
      "text/plain": [
       "Index(['bathrooms', 'sqft_living', 'sqft_lot', 'sqft_above', 'sqft_living15',\n",
       "       'sqft_lot15', 'bedrooms_1', 'bedrooms_2', 'bedrooms_4', 'bedrooms_5',\n",
       "       'bedrooms_6', 'bedrooms_7', 'bedrooms_8', 'bedrooms_9', 'bedrooms_10',\n",
       "       'bedrooms_11', 'bedrooms_33', 'floors_1.5', 'floors_2.0', 'floors_2.5',\n",
       "       'floors_3.0', 'floors_3.5', 'view_EXCELLENT', 'view_FAIR', 'view_GOOD',\n",
       "       'view_NONE', 'waterfront_YES', 'condition_Fair', 'condition_Good',\n",
       "       'condition_Poor', 'condition_Very Good', 'grade_11 Excellent',\n",
       "       'grade_12 Luxury', 'grade_13 Mansion', 'grade_3 Poor', 'grade_4 Low',\n",
       "       'grade_5 Fair', 'grade_6 Low Average', 'grade_7 Average',\n",
       "       'grade_8 Good', 'grade_9 Better'],\n",
       "      dtype='object')"
      ]
     },
     "execution_count": 169,
     "metadata": {},
     "output_type": "execute_result"
    }
   ],
   "source": [
    "co1_rel_house.columns"
   ]
  },
  {
   "cell_type": "code",
   "execution_count": 170,
   "metadata": {},
   "outputs": [],
   "source": [
    "Xs=co1_rel_house[['bathrooms', 'sqft_living', 'sqft_lot', 'sqft_above', 'sqft_living15',\n",
    "       'sqft_lot15', 'bedrooms_1', 'bedrooms_2', 'bedrooms_4', 'bedrooms_5',\n",
    "       'bedrooms_6', 'bedrooms_7', 'bedrooms_8', 'bedrooms_9', 'bedrooms_10',\n",
    "       'bedrooms_11', 'bedrooms_33', 'floors_1.5', 'floors_2.0', 'floors_2.5',\n",
    "       'floors_3.0', 'floors_3.5', 'view_EXCELLENT', 'view_FAIR', 'view_GOOD',\n",
    "       'view_NONE', 'waterfront_YES', 'condition_Fair', 'condition_Good',\n",
    "       'condition_Poor', 'condition_Very Good', 'grade_11 Excellent',\n",
    "       'grade_12 Luxury', 'grade_13 Mansion', 'grade_3 Poor', 'grade_4 Low',\n",
    "       'grade_5 Fair', 'grade_6 Low Average', 'grade_7 Average',\n",
    "       'grade_8 Good', 'grade_9 Better']]"
   ]
  },
  {
   "cell_type": "code",
   "execution_count": 174,
   "metadata": {},
   "outputs": [
    {
     "data": {
      "text/html": [
       "<table class=\"simpletable\">\n",
       "<caption>OLS Regression Results</caption>\n",
       "<tr>\n",
       "  <th>Dep. Variable:</th>          <td>price</td>      <th>  R-squared:         </th>  <td>   0.658</td>  \n",
       "</tr>\n",
       "<tr>\n",
       "  <th>Model:</th>                   <td>OLS</td>       <th>  Adj. R-squared:    </th>  <td>   0.658</td>  \n",
       "</tr>\n",
       "<tr>\n",
       "  <th>Method:</th>             <td>Least Squares</td>  <th>  F-statistic:       </th>  <td>   1013.</td>  \n",
       "</tr>\n",
       "<tr>\n",
       "  <th>Date:</th>             <td>Thu, 29 Sep 2022</td> <th>  Prob (F-statistic):</th>   <td>  0.00</td>   \n",
       "</tr>\n",
       "<tr>\n",
       "  <th>Time:</th>                 <td>21:28:55</td>     <th>  Log-Likelihood:    </th> <td>-2.9579e+05</td>\n",
       "</tr>\n",
       "<tr>\n",
       "  <th>No. Observations:</th>      <td> 21597</td>      <th>  AIC:               </th>  <td>5.917e+05</td> \n",
       "</tr>\n",
       "<tr>\n",
       "  <th>Df Residuals:</th>          <td> 21555</td>      <th>  BIC:               </th>  <td>5.920e+05</td> \n",
       "</tr>\n",
       "<tr>\n",
       "  <th>Df Model:</th>              <td>    41</td>      <th>                     </th>      <td> </td>     \n",
       "</tr>\n",
       "<tr>\n",
       "  <th>Covariance Type:</th>      <td>nonrobust</td>    <th>                     </th>      <td> </td>     \n",
       "</tr>\n",
       "</table>\n",
       "<table class=\"simpletable\">\n",
       "<tr>\n",
       "           <td></td>              <th>coef</th>     <th>std err</th>      <th>t</th>      <th>P>|t|</th>  <th>[0.025</th>    <th>0.975]</th>  \n",
       "</tr>\n",
       "<tr>\n",
       "  <th>const</th>               <td> 5.166e+05</td> <td> 1.62e+04</td> <td>   31.912</td> <td> 0.000</td> <td> 4.85e+05</td> <td> 5.48e+05</td>\n",
       "</tr>\n",
       "<tr>\n",
       "  <th>bathrooms</th>           <td>  1.31e+04</td> <td> 3385.863</td> <td>    3.870</td> <td> 0.000</td> <td> 6468.401</td> <td> 1.97e+04</td>\n",
       "</tr>\n",
       "<tr>\n",
       "  <th>sqft_living</th>         <td>  173.5629</td> <td>    4.673</td> <td>   37.142</td> <td> 0.000</td> <td>  164.404</td> <td>  182.722</td>\n",
       "</tr>\n",
       "<tr>\n",
       "  <th>sqft_lot</th>            <td>   -0.0071</td> <td>    0.051</td> <td>   -0.139</td> <td> 0.890</td> <td>   -0.107</td> <td>    0.093</td>\n",
       "</tr>\n",
       "<tr>\n",
       "  <th>sqft_above</th>          <td>  -42.0745</td> <td>    4.728</td> <td>   -8.900</td> <td> 0.000</td> <td>  -51.341</td> <td>  -32.808</td>\n",
       "</tr>\n",
       "<tr>\n",
       "  <th>sqft_living15</th>       <td>   29.7787</td> <td>    3.654</td> <td>    8.149</td> <td> 0.000</td> <td>   22.616</td> <td>   36.942</td>\n",
       "</tr>\n",
       "<tr>\n",
       "  <th>sqft_lot15</th>          <td>   -0.7211</td> <td>    0.078</td> <td>   -9.243</td> <td> 0.000</td> <td>   -0.874</td> <td>   -0.568</td>\n",
       "</tr>\n",
       "<tr>\n",
       "  <th>bedrooms_1</th>          <td> 7.001e+04</td> <td> 1.62e+04</td> <td>    4.310</td> <td> 0.000</td> <td> 3.82e+04</td> <td> 1.02e+05</td>\n",
       "</tr>\n",
       "<tr>\n",
       "  <th>bedrooms_2</th>          <td>  7.01e+04</td> <td> 5007.648</td> <td>   13.999</td> <td> 0.000</td> <td> 6.03e+04</td> <td> 7.99e+04</td>\n",
       "</tr>\n",
       "<tr>\n",
       "  <th>bedrooms_4</th>          <td>-3.081e+04</td> <td> 3784.358</td> <td>   -8.140</td> <td> 0.000</td> <td>-3.82e+04</td> <td>-2.34e+04</td>\n",
       "</tr>\n",
       "<tr>\n",
       "  <th>bedrooms_5</th>          <td>-1.458e+04</td> <td> 6487.078</td> <td>   -2.247</td> <td> 0.025</td> <td>-2.73e+04</td> <td>-1860.052</td>\n",
       "</tr>\n",
       "<tr>\n",
       "  <th>bedrooms_6</th>          <td>-1.415e+04</td> <td> 1.38e+04</td> <td>   -1.024</td> <td> 0.306</td> <td>-4.12e+04</td> <td> 1.29e+04</td>\n",
       "</tr>\n",
       "<tr>\n",
       "  <th>bedrooms_7</th>          <td>-3.532e+04</td> <td> 3.55e+04</td> <td>   -0.996</td> <td> 0.319</td> <td>-1.05e+05</td> <td> 3.42e+04</td>\n",
       "</tr>\n",
       "<tr>\n",
       "  <th>bedrooms_8</th>          <td> 1.892e+05</td> <td> 6.03e+04</td> <td>    3.138</td> <td> 0.002</td> <td>  7.1e+04</td> <td> 3.07e+05</td>\n",
       "</tr>\n",
       "<tr>\n",
       "  <th>bedrooms_9</th>          <td> 1.708e+04</td> <td> 8.83e+04</td> <td>    0.193</td> <td> 0.847</td> <td>-1.56e+05</td> <td>  1.9e+05</td>\n",
       "</tr>\n",
       "<tr>\n",
       "  <th>bedrooms_10</th>         <td> 3995.8329</td> <td> 1.24e+05</td> <td>    0.032</td> <td> 0.974</td> <td> -2.4e+05</td> <td> 2.48e+05</td>\n",
       "</tr>\n",
       "<tr>\n",
       "  <th>bedrooms_11</th>         <td> -2.26e+04</td> <td> 2.15e+05</td> <td>   -0.105</td> <td> 0.916</td> <td>-4.44e+05</td> <td> 3.99e+05</td>\n",
       "</tr>\n",
       "<tr>\n",
       "  <th>bedrooms_33</th>         <td> 1.688e+05</td> <td> 2.15e+05</td> <td>    0.785</td> <td> 0.432</td> <td>-2.53e+05</td> <td>  5.9e+05</td>\n",
       "</tr>\n",
       "<tr>\n",
       "  <th>floors_1.5</th>          <td> 9.633e+04</td> <td> 5508.433</td> <td>   17.487</td> <td> 0.000</td> <td> 8.55e+04</td> <td> 1.07e+05</td>\n",
       "</tr>\n",
       "<tr>\n",
       "  <th>floors_2.0</th>          <td>-1.647e+04</td> <td> 4653.616</td> <td>   -3.538</td> <td> 0.000</td> <td>-2.56e+04</td> <td>-7344.756</td>\n",
       "</tr>\n",
       "<tr>\n",
       "  <th>floors_2.5</th>          <td> 1.815e+05</td> <td> 1.76e+04</td> <td>   10.315</td> <td> 0.000</td> <td> 1.47e+05</td> <td> 2.16e+05</td>\n",
       "</tr>\n",
       "<tr>\n",
       "  <th>floors_3.0</th>          <td> 6.364e+04</td> <td> 9858.733</td> <td>    6.455</td> <td> 0.000</td> <td> 4.43e+04</td> <td>  8.3e+04</td>\n",
       "</tr>\n",
       "<tr>\n",
       "  <th>floors_3.5</th>          <td> 1.397e+05</td> <td> 8.19e+04</td> <td>    1.706</td> <td> 0.088</td> <td>-2.08e+04</td> <td>    3e+05</td>\n",
       "</tr>\n",
       "<tr>\n",
       "  <th>view_EXCELLENT</th>      <td>  1.87e+05</td> <td> 1.63e+04</td> <td>   11.454</td> <td> 0.000</td> <td> 1.55e+05</td> <td> 2.19e+05</td>\n",
       "</tr>\n",
       "<tr>\n",
       "  <th>view_FAIR</th>           <td> 6.235e+04</td> <td> 1.37e+04</td> <td>    4.537</td> <td> 0.000</td> <td> 3.54e+04</td> <td> 8.93e+04</td>\n",
       "</tr>\n",
       "<tr>\n",
       "  <th>view_GOOD</th>           <td> 5.558e+04</td> <td> 1.19e+04</td> <td>    4.688</td> <td> 0.000</td> <td> 3.23e+04</td> <td> 7.88e+04</td>\n",
       "</tr>\n",
       "<tr>\n",
       "  <th>view_NONE</th>           <td>-7.583e+04</td> <td> 7304.500</td> <td>  -10.381</td> <td> 0.000</td> <td>-9.01e+04</td> <td>-6.15e+04</td>\n",
       "</tr>\n",
       "<tr>\n",
       "  <th>waterfront_YES</th>      <td> 5.495e+05</td> <td> 2.18e+04</td> <td>   25.209</td> <td> 0.000</td> <td> 5.07e+05</td> <td> 5.92e+05</td>\n",
       "</tr>\n",
       "<tr>\n",
       "  <th>condition_Fair</th>      <td> 3904.9094</td> <td> 1.68e+04</td> <td>    0.233</td> <td> 0.816</td> <td> -2.9e+04</td> <td> 3.68e+04</td>\n",
       "</tr>\n",
       "<tr>\n",
       "  <th>condition_Good</th>      <td> 4.462e+04</td> <td> 3584.811</td> <td>   12.447</td> <td> 0.000</td> <td> 3.76e+04</td> <td> 5.16e+04</td>\n",
       "</tr>\n",
       "<tr>\n",
       "  <th>condition_Poor</th>      <td> 4222.2210</td> <td> 4.03e+04</td> <td>    0.105</td> <td> 0.917</td> <td>-7.48e+04</td> <td> 8.32e+04</td>\n",
       "</tr>\n",
       "<tr>\n",
       "  <th>condition_Very Good</th> <td> 1.133e+05</td> <td> 5729.018</td> <td>   19.776</td> <td> 0.000</td> <td> 1.02e+05</td> <td> 1.25e+05</td>\n",
       "</tr>\n",
       "<tr>\n",
       "  <th>grade_11 Excellent</th>  <td> 2.588e+05</td> <td> 1.28e+04</td> <td>   20.192</td> <td> 0.000</td> <td> 2.34e+05</td> <td> 2.84e+05</td>\n",
       "</tr>\n",
       "<tr>\n",
       "  <th>grade_12 Luxury</th>     <td> 7.241e+05</td> <td> 2.45e+04</td> <td>   29.558</td> <td> 0.000</td> <td> 6.76e+05</td> <td> 7.72e+05</td>\n",
       "</tr>\n",
       "<tr>\n",
       "  <th>grade_13 Mansion</th>    <td> 1.939e+06</td> <td> 6.13e+04</td> <td>   31.605</td> <td> 0.000</td> <td> 1.82e+06</td> <td> 2.06e+06</td>\n",
       "</tr>\n",
       "<tr>\n",
       "  <th>grade_3 Poor</th>        <td>-4.712e+05</td> <td> 2.16e+05</td> <td>   -2.183</td> <td> 0.029</td> <td>-8.94e+05</td> <td>-4.82e+04</td>\n",
       "</tr>\n",
       "<tr>\n",
       "  <th>grade_4 Low</th>         <td>-4.702e+05</td> <td> 4.33e+04</td> <td>  -10.865</td> <td> 0.000</td> <td>-5.55e+05</td> <td>-3.85e+05</td>\n",
       "</tr>\n",
       "<tr>\n",
       "  <th>grade_5 Fair</th>        <td>-4.714e+05</td> <td> 1.73e+04</td> <td>  -27.189</td> <td> 0.000</td> <td>-5.05e+05</td> <td>-4.37e+05</td>\n",
       "</tr>\n",
       "<tr>\n",
       "  <th>grade_6 Low Average</th> <td>-4.285e+05</td> <td> 1.09e+04</td> <td>  -39.390</td> <td> 0.000</td> <td> -4.5e+05</td> <td>-4.07e+05</td>\n",
       "</tr>\n",
       "<tr>\n",
       "  <th>grade_7 Average</th>     <td>-3.794e+05</td> <td> 9050.383</td> <td>  -41.919</td> <td> 0.000</td> <td>-3.97e+05</td> <td>-3.62e+05</td>\n",
       "</tr>\n",
       "<tr>\n",
       "  <th>grade_8 Good</th>        <td>-3.134e+05</td> <td> 8156.332</td> <td>  -38.421</td> <td> 0.000</td> <td>-3.29e+05</td> <td>-2.97e+05</td>\n",
       "</tr>\n",
       "<tr>\n",
       "  <th>grade_9 Better</th>      <td>-1.788e+05</td> <td> 7918.905</td> <td>  -22.582</td> <td> 0.000</td> <td>-1.94e+05</td> <td>-1.63e+05</td>\n",
       "</tr>\n",
       "</table>\n",
       "<table class=\"simpletable\">\n",
       "<tr>\n",
       "  <th>Omnibus:</th>       <td>12250.386</td> <th>  Durbin-Watson:     </th>  <td>   1.983</td> \n",
       "</tr>\n",
       "<tr>\n",
       "  <th>Prob(Omnibus):</th>  <td> 0.000</td>   <th>  Jarque-Bera (JB):  </th> <td>404875.317</td>\n",
       "</tr>\n",
       "<tr>\n",
       "  <th>Skew:</th>           <td> 2.152</td>   <th>  Prob(JB):          </th>  <td>    0.00</td> \n",
       "</tr>\n",
       "<tr>\n",
       "  <th>Kurtosis:</th>       <td>23.770</td>   <th>  Cond. No.          </th>  <td>7.46e+06</td> \n",
       "</tr>\n",
       "</table><br/><br/>Notes:<br/>[1] Standard Errors assume that the covariance matrix of the errors is correctly specified.<br/>[2] The condition number is large, 7.46e+06. This might indicate that there are<br/>strong multicollinearity or other numerical problems."
      ],
      "text/plain": [
       "<class 'statsmodels.iolib.summary.Summary'>\n",
       "\"\"\"\n",
       "                            OLS Regression Results                            \n",
       "==============================================================================\n",
       "Dep. Variable:                  price   R-squared:                       0.658\n",
       "Model:                            OLS   Adj. R-squared:                  0.658\n",
       "Method:                 Least Squares   F-statistic:                     1013.\n",
       "Date:                Thu, 29 Sep 2022   Prob (F-statistic):               0.00\n",
       "Time:                        21:28:55   Log-Likelihood:            -2.9579e+05\n",
       "No. Observations:               21597   AIC:                         5.917e+05\n",
       "Df Residuals:                   21555   BIC:                         5.920e+05\n",
       "Df Model:                          41                                         \n",
       "Covariance Type:            nonrobust                                         \n",
       "=======================================================================================\n",
       "                          coef    std err          t      P>|t|      [0.025      0.975]\n",
       "---------------------------------------------------------------------------------------\n",
       "const                5.166e+05   1.62e+04     31.912      0.000    4.85e+05    5.48e+05\n",
       "bathrooms             1.31e+04   3385.863      3.870      0.000    6468.401    1.97e+04\n",
       "sqft_living           173.5629      4.673     37.142      0.000     164.404     182.722\n",
       "sqft_lot               -0.0071      0.051     -0.139      0.890      -0.107       0.093\n",
       "sqft_above            -42.0745      4.728     -8.900      0.000     -51.341     -32.808\n",
       "sqft_living15          29.7787      3.654      8.149      0.000      22.616      36.942\n",
       "sqft_lot15             -0.7211      0.078     -9.243      0.000      -0.874      -0.568\n",
       "bedrooms_1           7.001e+04   1.62e+04      4.310      0.000    3.82e+04    1.02e+05\n",
       "bedrooms_2            7.01e+04   5007.648     13.999      0.000    6.03e+04    7.99e+04\n",
       "bedrooms_4          -3.081e+04   3784.358     -8.140      0.000   -3.82e+04   -2.34e+04\n",
       "bedrooms_5          -1.458e+04   6487.078     -2.247      0.025   -2.73e+04   -1860.052\n",
       "bedrooms_6          -1.415e+04   1.38e+04     -1.024      0.306   -4.12e+04    1.29e+04\n",
       "bedrooms_7          -3.532e+04   3.55e+04     -0.996      0.319   -1.05e+05    3.42e+04\n",
       "bedrooms_8           1.892e+05   6.03e+04      3.138      0.002     7.1e+04    3.07e+05\n",
       "bedrooms_9           1.708e+04   8.83e+04      0.193      0.847   -1.56e+05     1.9e+05\n",
       "bedrooms_10          3995.8329   1.24e+05      0.032      0.974    -2.4e+05    2.48e+05\n",
       "bedrooms_11          -2.26e+04   2.15e+05     -0.105      0.916   -4.44e+05    3.99e+05\n",
       "bedrooms_33          1.688e+05   2.15e+05      0.785      0.432   -2.53e+05     5.9e+05\n",
       "floors_1.5           9.633e+04   5508.433     17.487      0.000    8.55e+04    1.07e+05\n",
       "floors_2.0          -1.647e+04   4653.616     -3.538      0.000   -2.56e+04   -7344.756\n",
       "floors_2.5           1.815e+05   1.76e+04     10.315      0.000    1.47e+05    2.16e+05\n",
       "floors_3.0           6.364e+04   9858.733      6.455      0.000    4.43e+04     8.3e+04\n",
       "floors_3.5           1.397e+05   8.19e+04      1.706      0.088   -2.08e+04       3e+05\n",
       "view_EXCELLENT        1.87e+05   1.63e+04     11.454      0.000    1.55e+05    2.19e+05\n",
       "view_FAIR            6.235e+04   1.37e+04      4.537      0.000    3.54e+04    8.93e+04\n",
       "view_GOOD            5.558e+04   1.19e+04      4.688      0.000    3.23e+04    7.88e+04\n",
       "view_NONE           -7.583e+04   7304.500    -10.381      0.000   -9.01e+04   -6.15e+04\n",
       "waterfront_YES       5.495e+05   2.18e+04     25.209      0.000    5.07e+05    5.92e+05\n",
       "condition_Fair       3904.9094   1.68e+04      0.233      0.816    -2.9e+04    3.68e+04\n",
       "condition_Good       4.462e+04   3584.811     12.447      0.000    3.76e+04    5.16e+04\n",
       "condition_Poor       4222.2210   4.03e+04      0.105      0.917   -7.48e+04    8.32e+04\n",
       "condition_Very Good  1.133e+05   5729.018     19.776      0.000    1.02e+05    1.25e+05\n",
       "grade_11 Excellent   2.588e+05   1.28e+04     20.192      0.000    2.34e+05    2.84e+05\n",
       "grade_12 Luxury      7.241e+05   2.45e+04     29.558      0.000    6.76e+05    7.72e+05\n",
       "grade_13 Mansion     1.939e+06   6.13e+04     31.605      0.000    1.82e+06    2.06e+06\n",
       "grade_3 Poor        -4.712e+05   2.16e+05     -2.183      0.029   -8.94e+05   -4.82e+04\n",
       "grade_4 Low         -4.702e+05   4.33e+04    -10.865      0.000   -5.55e+05   -3.85e+05\n",
       "grade_5 Fair        -4.714e+05   1.73e+04    -27.189      0.000   -5.05e+05   -4.37e+05\n",
       "grade_6 Low Average -4.285e+05   1.09e+04    -39.390      0.000    -4.5e+05   -4.07e+05\n",
       "grade_7 Average     -3.794e+05   9050.383    -41.919      0.000   -3.97e+05   -3.62e+05\n",
       "grade_8 Good        -3.134e+05   8156.332    -38.421      0.000   -3.29e+05   -2.97e+05\n",
       "grade_9 Better      -1.788e+05   7918.905    -22.582      0.000   -1.94e+05   -1.63e+05\n",
       "==============================================================================\n",
       "Omnibus:                    12250.386   Durbin-Watson:                   1.983\n",
       "Prob(Omnibus):                  0.000   Jarque-Bera (JB):           404875.317\n",
       "Skew:                           2.152   Prob(JB):                         0.00\n",
       "Kurtosis:                      23.770   Cond. No.                     7.46e+06\n",
       "==============================================================================\n",
       "\n",
       "Notes:\n",
       "[1] Standard Errors assume that the covariance matrix of the errors is correctly specified.\n",
       "[2] The condition number is large, 7.46e+06. This might indicate that there are\n",
       "strong multicollinearity or other numerical problems.\n",
       "\"\"\""
      ]
     },
     "execution_count": 174,
     "metadata": {},
     "output_type": "execute_result"
    }
   ],
   "source": [
    "model3=sm.OLS(endog=rel_house_data['price'],exog=sm.add_constant(Xs))\n",
    "results3=model3.fit()\n",
    "results3.summary()"
   ]
  },
  {
   "cell_type": "code",
   "execution_count": 147,
   "metadata": {},
   "outputs": [],
   "source": [
    "newX=rel_house_data[['bathrooms',\n",
    " 'sqft_living',\n",
    " 'sqft_lot', \n",
    " 'sqft_above',\n",
    " 'sqft_living15',\n",
    " 'sqft_lot15',\n",
    " ]]"
   ]
  },
  {
   "cell_type": "code",
   "execution_count": 149,
   "metadata": {},
   "outputs": [
    {
     "data": {
      "text/html": [
       "<table class=\"simpletable\">\n",
       "<caption>OLS Regression Results</caption>\n",
       "<tr>\n",
       "  <th>Dep. Variable:</th>          <td>price</td>      <th>  R-squared:         </th>  <td>   0.504</td>  \n",
       "</tr>\n",
       "<tr>\n",
       "  <th>Model:</th>                   <td>OLS</td>       <th>  Adj. R-squared:    </th>  <td>   0.504</td>  \n",
       "</tr>\n",
       "<tr>\n",
       "  <th>Method:</th>             <td>Least Squares</td>  <th>  F-statistic:       </th>  <td>   3654.</td>  \n",
       "</tr>\n",
       "<tr>\n",
       "  <th>Date:</th>             <td>Thu, 29 Sep 2022</td> <th>  Prob (F-statistic):</th>   <td>  0.00</td>   \n",
       "</tr>\n",
       "<tr>\n",
       "  <th>Time:</th>                 <td>20:20:52</td>     <th>  Log-Likelihood:    </th> <td>-2.9982e+05</td>\n",
       "</tr>\n",
       "<tr>\n",
       "  <th>No. Observations:</th>      <td> 21597</td>      <th>  AIC:               </th>  <td>5.997e+05</td> \n",
       "</tr>\n",
       "<tr>\n",
       "  <th>Df Residuals:</th>          <td> 21590</td>      <th>  BIC:               </th>  <td>5.997e+05</td> \n",
       "</tr>\n",
       "<tr>\n",
       "  <th>Df Model:</th>              <td>     6</td>      <th>                     </th>      <td> </td>     \n",
       "</tr>\n",
       "<tr>\n",
       "  <th>Covariance Type:</th>      <td>nonrobust</td>    <th>                     </th>      <td> </td>     \n",
       "</tr>\n",
       "</table>\n",
       "<table class=\"simpletable\">\n",
       "<tr>\n",
       "        <td></td>           <th>coef</th>     <th>std err</th>      <th>t</th>      <th>P>|t|</th>  <th>[0.025</th>    <th>0.975]</th>  \n",
       "</tr>\n",
       "<tr>\n",
       "  <th>const</th>         <td>-9.651e+04</td> <td> 6097.876</td> <td>  -15.827</td> <td> 0.000</td> <td>-1.08e+05</td> <td>-8.46e+04</td>\n",
       "</tr>\n",
       "<tr>\n",
       "  <th>bathrooms</th>     <td>-5662.3329</td> <td> 3521.478</td> <td>   -1.608</td> <td> 0.108</td> <td>-1.26e+04</td> <td> 1240.025</td>\n",
       "</tr>\n",
       "<tr>\n",
       "  <th>sqft_living</th>   <td>  271.2491</td> <td>    4.699</td> <td>   57.719</td> <td> 0.000</td> <td>  262.038</td> <td>  280.460</td>\n",
       "</tr>\n",
       "<tr>\n",
       "  <th>sqft_lot</th>      <td>    0.0796</td> <td>    0.061</td> <td>    1.299</td> <td> 0.194</td> <td>   -0.041</td> <td>    0.200</td>\n",
       "</tr>\n",
       "<tr>\n",
       "  <th>sqft_above</th>    <td>  -34.1278</td> <td>    4.555</td> <td>   -7.493</td> <td> 0.000</td> <td>  -43.055</td> <td>  -25.200</td>\n",
       "</tr>\n",
       "<tr>\n",
       "  <th>sqft_living15</th> <td>   77.7715</td> <td>    4.037</td> <td>   19.263</td> <td> 0.000</td> <td>   69.858</td> <td>   85.685</td>\n",
       "</tr>\n",
       "<tr>\n",
       "  <th>sqft_lot15</th>    <td>   -0.7966</td> <td>    0.094</td> <td>   -8.516</td> <td> 0.000</td> <td>   -0.980</td> <td>   -0.613</td>\n",
       "</tr>\n",
       "</table>\n",
       "<table class=\"simpletable\">\n",
       "<tr>\n",
       "  <th>Omnibus:</th>       <td>15506.353</td> <th>  Durbin-Watson:     </th>  <td>   1.983</td> \n",
       "</tr>\n",
       "<tr>\n",
       "  <th>Prob(Omnibus):</th>  <td> 0.000</td>   <th>  Jarque-Bera (JB):  </th> <td>684063.127</td>\n",
       "</tr>\n",
       "<tr>\n",
       "  <th>Skew:</th>           <td> 2.962</td>   <th>  Prob(JB):          </th>  <td>    0.00</td> \n",
       "</tr>\n",
       "<tr>\n",
       "  <th>Kurtosis:</th>       <td>29.927</td>   <th>  Cond. No.          </th>  <td>1.83e+05</td> \n",
       "</tr>\n",
       "</table><br/><br/>Notes:<br/>[1] Standard Errors assume that the covariance matrix of the errors is correctly specified.<br/>[2] The condition number is large, 1.83e+05. This might indicate that there are<br/>strong multicollinearity or other numerical problems."
      ],
      "text/plain": [
       "<class 'statsmodels.iolib.summary.Summary'>\n",
       "\"\"\"\n",
       "                            OLS Regression Results                            \n",
       "==============================================================================\n",
       "Dep. Variable:                  price   R-squared:                       0.504\n",
       "Model:                            OLS   Adj. R-squared:                  0.504\n",
       "Method:                 Least Squares   F-statistic:                     3654.\n",
       "Date:                Thu, 29 Sep 2022   Prob (F-statistic):               0.00\n",
       "Time:                        20:20:52   Log-Likelihood:            -2.9982e+05\n",
       "No. Observations:               21597   AIC:                         5.997e+05\n",
       "Df Residuals:                   21590   BIC:                         5.997e+05\n",
       "Df Model:                           6                                         \n",
       "Covariance Type:            nonrobust                                         \n",
       "=================================================================================\n",
       "                    coef    std err          t      P>|t|      [0.025      0.975]\n",
       "---------------------------------------------------------------------------------\n",
       "const         -9.651e+04   6097.876    -15.827      0.000   -1.08e+05   -8.46e+04\n",
       "bathrooms     -5662.3329   3521.478     -1.608      0.108   -1.26e+04    1240.025\n",
       "sqft_living     271.2491      4.699     57.719      0.000     262.038     280.460\n",
       "sqft_lot          0.0796      0.061      1.299      0.194      -0.041       0.200\n",
       "sqft_above      -34.1278      4.555     -7.493      0.000     -43.055     -25.200\n",
       "sqft_living15    77.7715      4.037     19.263      0.000      69.858      85.685\n",
       "sqft_lot15       -0.7966      0.094     -8.516      0.000      -0.980      -0.613\n",
       "==============================================================================\n",
       "Omnibus:                    15506.353   Durbin-Watson:                   1.983\n",
       "Prob(Omnibus):                  0.000   Jarque-Bera (JB):           684063.127\n",
       "Skew:                           2.962   Prob(JB):                         0.00\n",
       "Kurtosis:                      29.927   Cond. No.                     1.83e+05\n",
       "==============================================================================\n",
       "\n",
       "Notes:\n",
       "[1] Standard Errors assume that the covariance matrix of the errors is correctly specified.\n",
       "[2] The condition number is large, 1.83e+05. This might indicate that there are\n",
       "strong multicollinearity or other numerical problems.\n",
       "\"\"\""
      ]
     },
     "execution_count": 149,
     "metadata": {},
     "output_type": "execute_result"
    }
   ],
   "source": [
    "model1=sm.OLS(endog=rel_house_data['price'],exog=sm.add_constant(newX))\n",
    "results1=model1.fit()\n",
    "results1.summary()"
   ]
  },
  {
   "cell_type": "code",
   "execution_count": 175,
   "metadata": {},
   "outputs": [
    {
     "data": {
      "text/plain": [
       "Index(['price', 'bedrooms', 'bathrooms', 'sqft_living', 'sqft_lot', 'floors',\n",
       "       'sqft_above', 'sqft_living15', 'sqft_lot15', 'waterfront_YES',\n",
       "       'view_EXCELLENT', 'view_FAIR', 'view_GOOD', 'view_NONE',\n",
       "       'condition_Fair', 'condition_Good', 'condition_Poor',\n",
       "       'condition_Very Good', 'grade_11 Excellent', 'grade_12 Luxury',\n",
       "       'grade_13 Mansion', 'grade_3 Poor', 'grade_4 Low', 'grade_5 Fair',\n",
       "       'grade_6 Low Average', 'grade_7 Average', 'grade_8 Good',\n",
       "       'grade_9 Better'],\n",
       "      dtype='object')"
      ]
     },
     "execution_count": 175,
     "metadata": {},
     "output_type": "execute_result"
    }
   ],
   "source": [
    "cop2_house=rel_house_data.copy()\n",
    "cop2_house=pd.get_dummies(cop2_house,columns=['waterfront','view','condition','grade'],drop_first=True)\n",
    "cop2_house=cop2_house.drop('sqft_basement',axis=1)\n",
    "cop2_house.columns\n",
    "                          "
   ]
  },
  {
   "cell_type": "code",
   "execution_count": 178,
   "metadata": {},
   "outputs": [],
   "source": [
    "x2=cop2_house[[ 'bedrooms', 'bathrooms', 'sqft_living', 'sqft_lot', 'floors',\n",
    "       'sqft_above', 'sqft_living15', 'sqft_lot15', 'waterfront_YES',\n",
    "       'view_EXCELLENT', 'view_FAIR', 'view_GOOD', 'view_NONE',\n",
    "       'condition_Fair', 'condition_Good', 'condition_Poor',\n",
    "       'condition_Very Good', 'grade_11 Excellent', 'grade_12 Luxury',\n",
    "       'grade_13 Mansion', 'grade_3 Poor', 'grade_4 Low', 'grade_5 Fair',\n",
    "       'grade_6 Low Average', 'grade_7 Average', 'grade_8 Good',\n",
    "       'grade_9 Better']]"
   ]
  },
  {
   "cell_type": "code",
   "execution_count": 179,
   "metadata": {},
   "outputs": [
    {
     "data": {
      "text/html": [
       "<table class=\"simpletable\">\n",
       "<caption>OLS Regression Results</caption>\n",
       "<tr>\n",
       "  <th>Dep. Variable:</th>          <td>price</td>      <th>  R-squared:         </th>  <td>   0.647</td>  \n",
       "</tr>\n",
       "<tr>\n",
       "  <th>Model:</th>                   <td>OLS</td>       <th>  Adj. R-squared:    </th>  <td>   0.647</td>  \n",
       "</tr>\n",
       "<tr>\n",
       "  <th>Method:</th>             <td>Least Squares</td>  <th>  F-statistic:       </th>  <td>   1465.</td>  \n",
       "</tr>\n",
       "<tr>\n",
       "  <th>Date:</th>             <td>Thu, 29 Sep 2022</td> <th>  Prob (F-statistic):</th>   <td>  0.00</td>   \n",
       "</tr>\n",
       "<tr>\n",
       "  <th>Time:</th>                 <td>21:45:45</td>     <th>  Log-Likelihood:    </th> <td>-2.9614e+05</td>\n",
       "</tr>\n",
       "<tr>\n",
       "  <th>No. Observations:</th>      <td> 21597</td>      <th>  AIC:               </th>  <td>5.923e+05</td> \n",
       "</tr>\n",
       "<tr>\n",
       "  <th>Df Residuals:</th>          <td> 21569</td>      <th>  BIC:               </th>  <td>5.926e+05</td> \n",
       "</tr>\n",
       "<tr>\n",
       "  <th>Df Model:</th>              <td>    27</td>      <th>                     </th>      <td> </td>     \n",
       "</tr>\n",
       "<tr>\n",
       "  <th>Covariance Type:</th>      <td>nonrobust</td>    <th>                     </th>      <td> </td>     \n",
       "</tr>\n",
       "</table>\n",
       "<table class=\"simpletable\">\n",
       "<tr>\n",
       "           <td></td>              <th>coef</th>     <th>std err</th>      <th>t</th>      <th>P>|t|</th>  <th>[0.025</th>    <th>0.975]</th>  \n",
       "</tr>\n",
       "<tr>\n",
       "  <th>const</th>               <td> 6.066e+05</td> <td> 1.63e+04</td> <td>   37.270</td> <td> 0.000</td> <td> 5.75e+05</td> <td> 6.38e+05</td>\n",
       "</tr>\n",
       "<tr>\n",
       "  <th>bedrooms</th>            <td>-1.816e+04</td> <td> 2095.157</td> <td>   -8.666</td> <td> 0.000</td> <td>-2.23e+04</td> <td> -1.4e+04</td>\n",
       "</tr>\n",
       "<tr>\n",
       "  <th>bathrooms</th>           <td>-2892.6227</td> <td> 3359.071</td> <td>   -0.861</td> <td> 0.389</td> <td>-9476.651</td> <td> 3691.405</td>\n",
       "</tr>\n",
       "<tr>\n",
       "  <th>sqft_living</th>         <td>  188.0437</td> <td>    4.672</td> <td>   40.246</td> <td> 0.000</td> <td>  178.886</td> <td>  197.202</td>\n",
       "</tr>\n",
       "<tr>\n",
       "  <th>sqft_lot</th>            <td>    0.0189</td> <td>    0.052</td> <td>    0.365</td> <td> 0.715</td> <td>   -0.083</td> <td>    0.121</td>\n",
       "</tr>\n",
       "<tr>\n",
       "  <th>floors</th>              <td> 2.305e+04</td> <td> 3870.748</td> <td>    5.955</td> <td> 0.000</td> <td> 1.55e+04</td> <td> 3.06e+04</td>\n",
       "</tr>\n",
       "<tr>\n",
       "  <th>sqft_above</th>          <td>  -58.6816</td> <td>    4.645</td> <td>  -12.634</td> <td> 0.000</td> <td>  -67.786</td> <td>  -49.578</td>\n",
       "</tr>\n",
       "<tr>\n",
       "  <th>sqft_living15</th>       <td>   18.8743</td> <td>    3.674</td> <td>    5.138</td> <td> 0.000</td> <td>   11.674</td> <td>   26.075</td>\n",
       "</tr>\n",
       "<tr>\n",
       "  <th>sqft_lot15</th>          <td>   -0.7068</td> <td>    0.079</td> <td>   -8.925</td> <td> 0.000</td> <td>   -0.862</td> <td>   -0.552</td>\n",
       "</tr>\n",
       "<tr>\n",
       "  <th>waterfront_YES</th>      <td> 5.502e+05</td> <td> 2.21e+04</td> <td>   24.852</td> <td> 0.000</td> <td> 5.07e+05</td> <td> 5.94e+05</td>\n",
       "</tr>\n",
       "<tr>\n",
       "  <th>view_EXCELLENT</th>      <td> 1.932e+05</td> <td> 1.66e+04</td> <td>   11.652</td> <td> 0.000</td> <td> 1.61e+05</td> <td> 2.26e+05</td>\n",
       "</tr>\n",
       "<tr>\n",
       "  <th>view_FAIR</th>           <td> 5.972e+04</td> <td>  1.4e+04</td> <td>    4.278</td> <td> 0.000</td> <td> 3.24e+04</td> <td> 8.71e+04</td>\n",
       "</tr>\n",
       "<tr>\n",
       "  <th>view_GOOD</th>           <td> 5.702e+04</td> <td>  1.2e+04</td> <td>    4.736</td> <td> 0.000</td> <td> 3.34e+04</td> <td> 8.06e+04</td>\n",
       "</tr>\n",
       "<tr>\n",
       "  <th>view_NONE</th>           <td>-8.394e+04</td> <td> 7411.600</td> <td>  -11.326</td> <td> 0.000</td> <td>-9.85e+04</td> <td>-6.94e+04</td>\n",
       "</tr>\n",
       "<tr>\n",
       "  <th>condition_Fair</th>      <td> 5560.7874</td> <td>  1.7e+04</td> <td>    0.326</td> <td> 0.744</td> <td>-2.78e+04</td> <td>  3.9e+04</td>\n",
       "</tr>\n",
       "<tr>\n",
       "  <th>condition_Good</th>      <td> 5.068e+04</td> <td> 3622.465</td> <td>   13.990</td> <td> 0.000</td> <td> 4.36e+04</td> <td> 5.78e+04</td>\n",
       "</tr>\n",
       "<tr>\n",
       "  <th>condition_Poor</th>      <td> 1.806e+04</td> <td> 4.09e+04</td> <td>    0.441</td> <td> 0.659</td> <td>-6.22e+04</td> <td> 9.83e+04</td>\n",
       "</tr>\n",
       "<tr>\n",
       "  <th>condition_Very Good</th> <td> 1.266e+05</td> <td> 5769.042</td> <td>   21.939</td> <td> 0.000</td> <td> 1.15e+05</td> <td> 1.38e+05</td>\n",
       "</tr>\n",
       "<tr>\n",
       "  <th>grade_11 Excellent</th>  <td> 2.724e+05</td> <td>  1.3e+04</td> <td>   20.976</td> <td> 0.000</td> <td> 2.47e+05</td> <td> 2.98e+05</td>\n",
       "</tr>\n",
       "<tr>\n",
       "  <th>grade_12 Luxury</th>     <td> 7.483e+05</td> <td> 2.48e+04</td> <td>   30.176</td> <td> 0.000</td> <td>    7e+05</td> <td> 7.97e+05</td>\n",
       "</tr>\n",
       "<tr>\n",
       "  <th>grade_13 Mansion</th>    <td> 2.023e+06</td> <td> 6.21e+04</td> <td>   32.575</td> <td> 0.000</td> <td>  1.9e+06</td> <td> 2.15e+06</td>\n",
       "</tr>\n",
       "<tr>\n",
       "  <th>grade_3 Poor</th>        <td>-4.741e+05</td> <td> 2.19e+05</td> <td>   -2.167</td> <td> 0.030</td> <td>-9.03e+05</td> <td>-4.54e+04</td>\n",
       "</tr>\n",
       "<tr>\n",
       "  <th>grade_4 Low</th>         <td>-4.447e+05</td> <td> 4.34e+04</td> <td>  -10.245</td> <td> 0.000</td> <td> -5.3e+05</td> <td> -3.6e+05</td>\n",
       "</tr>\n",
       "<tr>\n",
       "  <th>grade_5 Fair</th>        <td>-4.511e+05</td> <td> 1.74e+04</td> <td>  -25.922</td> <td> 0.000</td> <td>-4.85e+05</td> <td>-4.17e+05</td>\n",
       "</tr>\n",
       "<tr>\n",
       "  <th>grade_6 Low Average</th> <td>-4.147e+05</td> <td>  1.1e+04</td> <td>  -37.793</td> <td> 0.000</td> <td>-4.36e+05</td> <td>-3.93e+05</td>\n",
       "</tr>\n",
       "<tr>\n",
       "  <th>grade_7 Average</th>     <td>-3.798e+05</td> <td> 9151.268</td> <td>  -41.501</td> <td> 0.000</td> <td>-3.98e+05</td> <td>-3.62e+05</td>\n",
       "</tr>\n",
       "<tr>\n",
       "  <th>grade_8 Good</th>        <td>-3.171e+05</td> <td> 8265.390</td> <td>  -38.369</td> <td> 0.000</td> <td>-3.33e+05</td> <td>-3.01e+05</td>\n",
       "</tr>\n",
       "<tr>\n",
       "  <th>grade_9 Better</th>      <td>-1.857e+05</td> <td> 8032.011</td> <td>  -23.116</td> <td> 0.000</td> <td>-2.01e+05</td> <td> -1.7e+05</td>\n",
       "</tr>\n",
       "</table>\n",
       "<table class=\"simpletable\">\n",
       "<tr>\n",
       "  <th>Omnibus:</th>       <td>12273.541</td> <th>  Durbin-Watson:     </th>  <td>   1.981</td> \n",
       "</tr>\n",
       "<tr>\n",
       "  <th>Prob(Omnibus):</th>  <td> 0.000</td>   <th>  Jarque-Bera (JB):  </th> <td>391768.283</td>\n",
       "</tr>\n",
       "<tr>\n",
       "  <th>Skew:</th>           <td> 2.169</td>   <th>  Prob(JB):          </th>  <td>    0.00</td> \n",
       "</tr>\n",
       "<tr>\n",
       "  <th>Kurtosis:</th>       <td>23.409</td>   <th>  Cond. No.          </th>  <td>7.44e+06</td> \n",
       "</tr>\n",
       "</table><br/><br/>Notes:<br/>[1] Standard Errors assume that the covariance matrix of the errors is correctly specified.<br/>[2] The condition number is large, 7.44e+06. This might indicate that there are<br/>strong multicollinearity or other numerical problems."
      ],
      "text/plain": [
       "<class 'statsmodels.iolib.summary.Summary'>\n",
       "\"\"\"\n",
       "                            OLS Regression Results                            \n",
       "==============================================================================\n",
       "Dep. Variable:                  price   R-squared:                       0.647\n",
       "Model:                            OLS   Adj. R-squared:                  0.647\n",
       "Method:                 Least Squares   F-statistic:                     1465.\n",
       "Date:                Thu, 29 Sep 2022   Prob (F-statistic):               0.00\n",
       "Time:                        21:45:45   Log-Likelihood:            -2.9614e+05\n",
       "No. Observations:               21597   AIC:                         5.923e+05\n",
       "Df Residuals:                   21569   BIC:                         5.926e+05\n",
       "Df Model:                          27                                         \n",
       "Covariance Type:            nonrobust                                         \n",
       "=======================================================================================\n",
       "                          coef    std err          t      P>|t|      [0.025      0.975]\n",
       "---------------------------------------------------------------------------------------\n",
       "const                6.066e+05   1.63e+04     37.270      0.000    5.75e+05    6.38e+05\n",
       "bedrooms            -1.816e+04   2095.157     -8.666      0.000   -2.23e+04    -1.4e+04\n",
       "bathrooms           -2892.6227   3359.071     -0.861      0.389   -9476.651    3691.405\n",
       "sqft_living           188.0437      4.672     40.246      0.000     178.886     197.202\n",
       "sqft_lot                0.0189      0.052      0.365      0.715      -0.083       0.121\n",
       "floors               2.305e+04   3870.748      5.955      0.000    1.55e+04    3.06e+04\n",
       "sqft_above            -58.6816      4.645    -12.634      0.000     -67.786     -49.578\n",
       "sqft_living15          18.8743      3.674      5.138      0.000      11.674      26.075\n",
       "sqft_lot15             -0.7068      0.079     -8.925      0.000      -0.862      -0.552\n",
       "waterfront_YES       5.502e+05   2.21e+04     24.852      0.000    5.07e+05    5.94e+05\n",
       "view_EXCELLENT       1.932e+05   1.66e+04     11.652      0.000    1.61e+05    2.26e+05\n",
       "view_FAIR            5.972e+04    1.4e+04      4.278      0.000    3.24e+04    8.71e+04\n",
       "view_GOOD            5.702e+04    1.2e+04      4.736      0.000    3.34e+04    8.06e+04\n",
       "view_NONE           -8.394e+04   7411.600    -11.326      0.000   -9.85e+04   -6.94e+04\n",
       "condition_Fair       5560.7874    1.7e+04      0.326      0.744   -2.78e+04     3.9e+04\n",
       "condition_Good       5.068e+04   3622.465     13.990      0.000    4.36e+04    5.78e+04\n",
       "condition_Poor       1.806e+04   4.09e+04      0.441      0.659   -6.22e+04    9.83e+04\n",
       "condition_Very Good  1.266e+05   5769.042     21.939      0.000    1.15e+05    1.38e+05\n",
       "grade_11 Excellent   2.724e+05    1.3e+04     20.976      0.000    2.47e+05    2.98e+05\n",
       "grade_12 Luxury      7.483e+05   2.48e+04     30.176      0.000       7e+05    7.97e+05\n",
       "grade_13 Mansion     2.023e+06   6.21e+04     32.575      0.000     1.9e+06    2.15e+06\n",
       "grade_3 Poor        -4.741e+05   2.19e+05     -2.167      0.030   -9.03e+05   -4.54e+04\n",
       "grade_4 Low         -4.447e+05   4.34e+04    -10.245      0.000    -5.3e+05    -3.6e+05\n",
       "grade_5 Fair        -4.511e+05   1.74e+04    -25.922      0.000   -4.85e+05   -4.17e+05\n",
       "grade_6 Low Average -4.147e+05    1.1e+04    -37.793      0.000   -4.36e+05   -3.93e+05\n",
       "grade_7 Average     -3.798e+05   9151.268    -41.501      0.000   -3.98e+05   -3.62e+05\n",
       "grade_8 Good        -3.171e+05   8265.390    -38.369      0.000   -3.33e+05   -3.01e+05\n",
       "grade_9 Better      -1.857e+05   8032.011    -23.116      0.000   -2.01e+05    -1.7e+05\n",
       "==============================================================================\n",
       "Omnibus:                    12273.541   Durbin-Watson:                   1.981\n",
       "Prob(Omnibus):                  0.000   Jarque-Bera (JB):           391768.283\n",
       "Skew:                           2.169   Prob(JB):                         0.00\n",
       "Kurtosis:                      23.409   Cond. No.                     7.44e+06\n",
       "==============================================================================\n",
       "\n",
       "Notes:\n",
       "[1] Standard Errors assume that the covariance matrix of the errors is correctly specified.\n",
       "[2] The condition number is large, 7.44e+06. This might indicate that there are\n",
       "strong multicollinearity or other numerical problems.\n",
       "\"\"\""
      ]
     },
     "execution_count": 179,
     "metadata": {},
     "output_type": "execute_result"
    }
   ],
   "source": [
    "model4=sm.OLS(endog=rel_house_data['price'],exog=sm.add_constant(x2))\n",
    "results4=model4.fit()\n",
    "results4.summary()"
   ]
  },
  {
   "cell_type": "code",
   "execution_count": null,
   "metadata": {},
   "outputs": [],
   "source": []
  }
 ],
 "metadata": {
  "kernelspec": {
   "display_name": "Python 3",
   "language": "python",
   "name": "python3"
  },
  "language_info": {
   "codemirror_mode": {
    "name": "ipython",
    "version": 3
   },
   "file_extension": ".py",
   "mimetype": "text/x-python",
   "name": "python",
   "nbconvert_exporter": "python",
   "pygments_lexer": "ipython3",
   "version": "3.8.5"
  }
 },
 "nbformat": 4,
 "nbformat_minor": 2
}
