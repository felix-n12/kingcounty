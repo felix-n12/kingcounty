{
 "cells": [
  {
   "cell_type": "markdown",
   "metadata": {},
   "source": [
    "## Final Project Submission\n",
    "\n",
    "Please fill out:\n",
    "* Student name: Felix Muriithi\n",
    "* Student pace: full time\n",
    "* Scheduled project review date/time: \n",
    "* Instructor name: Antonny Muiko\n",
    "* Blog post URL:\n"
   ]
  },
  {
   "cell_type": "markdown",
   "metadata": {},
   "source": [
    "# Business Understanding\n",
    "Many features of a property affect their prices .We need to determine whether physical aspect of the property in King County region on how they ffect their prices of the .The main purpose is to predict salesprice of property based on its features.This information can be used by homeowners,real estate agents and real estate brokers to predict the price of the property based on its features .Homeowners can use it to assess the value of their property and to determine"
   ]
  },
  {
   "cell_type": "markdown",
   "metadata": {},
   "source": [
    "# Data Understanding\n"
   ]
  },
  {
   "cell_type": "code",
   "execution_count": 217,
   "metadata": {},
   "outputs": [],
   "source": [
    "#loading and importing libraries\n",
    "import numpy as np\n",
    "import pandas as pd\n",
    "import seaborn as sns\n",
    "import matplotlib.pyplot as plt\n",
    "%matplotlib inline"
   ]
  },
  {
   "cell_type": "code",
   "execution_count": 2,
   "metadata": {},
   "outputs": [
    {
     "data": {
      "text/html": [
       "<div>\n",
       "<style scoped>\n",
       "    .dataframe tbody tr th:only-of-type {\n",
       "        vertical-align: middle;\n",
       "    }\n",
       "\n",
       "    .dataframe tbody tr th {\n",
       "        vertical-align: top;\n",
       "    }\n",
       "\n",
       "    .dataframe thead th {\n",
       "        text-align: right;\n",
       "    }\n",
       "</style>\n",
       "<table border=\"1\" class=\"dataframe\">\n",
       "  <thead>\n",
       "    <tr style=\"text-align: right;\">\n",
       "      <th></th>\n",
       "      <th>id</th>\n",
       "      <th>date</th>\n",
       "      <th>price</th>\n",
       "      <th>bedrooms</th>\n",
       "      <th>bathrooms</th>\n",
       "      <th>sqft_living</th>\n",
       "      <th>sqft_lot</th>\n",
       "      <th>floors</th>\n",
       "      <th>waterfront</th>\n",
       "      <th>view</th>\n",
       "      <th>...</th>\n",
       "      <th>grade</th>\n",
       "      <th>sqft_above</th>\n",
       "      <th>sqft_basement</th>\n",
       "      <th>yr_built</th>\n",
       "      <th>yr_renovated</th>\n",
       "      <th>zipcode</th>\n",
       "      <th>lat</th>\n",
       "      <th>long</th>\n",
       "      <th>sqft_living15</th>\n",
       "      <th>sqft_lot15</th>\n",
       "    </tr>\n",
       "  </thead>\n",
       "  <tbody>\n",
       "    <tr>\n",
       "      <th>0</th>\n",
       "      <td>7129300520</td>\n",
       "      <td>10/13/2014</td>\n",
       "      <td>221900.0</td>\n",
       "      <td>3</td>\n",
       "      <td>1.00</td>\n",
       "      <td>1180</td>\n",
       "      <td>5650</td>\n",
       "      <td>1.0</td>\n",
       "      <td>NaN</td>\n",
       "      <td>NONE</td>\n",
       "      <td>...</td>\n",
       "      <td>7 Average</td>\n",
       "      <td>1180</td>\n",
       "      <td>0.0</td>\n",
       "      <td>1955</td>\n",
       "      <td>0.0</td>\n",
       "      <td>98178</td>\n",
       "      <td>47.5112</td>\n",
       "      <td>-122.257</td>\n",
       "      <td>1340</td>\n",
       "      <td>5650</td>\n",
       "    </tr>\n",
       "    <tr>\n",
       "      <th>1</th>\n",
       "      <td>6414100192</td>\n",
       "      <td>12/9/2014</td>\n",
       "      <td>538000.0</td>\n",
       "      <td>3</td>\n",
       "      <td>2.25</td>\n",
       "      <td>2570</td>\n",
       "      <td>7242</td>\n",
       "      <td>2.0</td>\n",
       "      <td>NO</td>\n",
       "      <td>NONE</td>\n",
       "      <td>...</td>\n",
       "      <td>7 Average</td>\n",
       "      <td>2170</td>\n",
       "      <td>400.0</td>\n",
       "      <td>1951</td>\n",
       "      <td>1991.0</td>\n",
       "      <td>98125</td>\n",
       "      <td>47.7210</td>\n",
       "      <td>-122.319</td>\n",
       "      <td>1690</td>\n",
       "      <td>7639</td>\n",
       "    </tr>\n",
       "    <tr>\n",
       "      <th>2</th>\n",
       "      <td>5631500400</td>\n",
       "      <td>2/25/2015</td>\n",
       "      <td>180000.0</td>\n",
       "      <td>2</td>\n",
       "      <td>1.00</td>\n",
       "      <td>770</td>\n",
       "      <td>10000</td>\n",
       "      <td>1.0</td>\n",
       "      <td>NO</td>\n",
       "      <td>NONE</td>\n",
       "      <td>...</td>\n",
       "      <td>6 Low Average</td>\n",
       "      <td>770</td>\n",
       "      <td>0.0</td>\n",
       "      <td>1933</td>\n",
       "      <td>NaN</td>\n",
       "      <td>98028</td>\n",
       "      <td>47.7379</td>\n",
       "      <td>-122.233</td>\n",
       "      <td>2720</td>\n",
       "      <td>8062</td>\n",
       "    </tr>\n",
       "    <tr>\n",
       "      <th>3</th>\n",
       "      <td>2487200875</td>\n",
       "      <td>12/9/2014</td>\n",
       "      <td>604000.0</td>\n",
       "      <td>4</td>\n",
       "      <td>3.00</td>\n",
       "      <td>1960</td>\n",
       "      <td>5000</td>\n",
       "      <td>1.0</td>\n",
       "      <td>NO</td>\n",
       "      <td>NONE</td>\n",
       "      <td>...</td>\n",
       "      <td>7 Average</td>\n",
       "      <td>1050</td>\n",
       "      <td>910.0</td>\n",
       "      <td>1965</td>\n",
       "      <td>0.0</td>\n",
       "      <td>98136</td>\n",
       "      <td>47.5208</td>\n",
       "      <td>-122.393</td>\n",
       "      <td>1360</td>\n",
       "      <td>5000</td>\n",
       "    </tr>\n",
       "    <tr>\n",
       "      <th>4</th>\n",
       "      <td>1954400510</td>\n",
       "      <td>2/18/2015</td>\n",
       "      <td>510000.0</td>\n",
       "      <td>3</td>\n",
       "      <td>2.00</td>\n",
       "      <td>1680</td>\n",
       "      <td>8080</td>\n",
       "      <td>1.0</td>\n",
       "      <td>NO</td>\n",
       "      <td>NONE</td>\n",
       "      <td>...</td>\n",
       "      <td>8 Good</td>\n",
       "      <td>1680</td>\n",
       "      <td>0.0</td>\n",
       "      <td>1987</td>\n",
       "      <td>0.0</td>\n",
       "      <td>98074</td>\n",
       "      <td>47.6168</td>\n",
       "      <td>-122.045</td>\n",
       "      <td>1800</td>\n",
       "      <td>7503</td>\n",
       "    </tr>\n",
       "  </tbody>\n",
       "</table>\n",
       "<p>5 rows × 21 columns</p>\n",
       "</div>"
      ],
      "text/plain": [
       "           id        date     price  bedrooms  bathrooms  sqft_living  \\\n",
       "0  7129300520  10/13/2014  221900.0         3       1.00         1180   \n",
       "1  6414100192   12/9/2014  538000.0         3       2.25         2570   \n",
       "2  5631500400   2/25/2015  180000.0         2       1.00          770   \n",
       "3  2487200875   12/9/2014  604000.0         4       3.00         1960   \n",
       "4  1954400510   2/18/2015  510000.0         3       2.00         1680   \n",
       "\n",
       "   sqft_lot  floors waterfront  view  ...          grade sqft_above  \\\n",
       "0      5650     1.0        NaN  NONE  ...      7 Average       1180   \n",
       "1      7242     2.0         NO  NONE  ...      7 Average       2170   \n",
       "2     10000     1.0         NO  NONE  ...  6 Low Average        770   \n",
       "3      5000     1.0         NO  NONE  ...      7 Average       1050   \n",
       "4      8080     1.0         NO  NONE  ...         8 Good       1680   \n",
       "\n",
       "   sqft_basement yr_built  yr_renovated  zipcode      lat     long  \\\n",
       "0            0.0     1955           0.0    98178  47.5112 -122.257   \n",
       "1          400.0     1951        1991.0    98125  47.7210 -122.319   \n",
       "2            0.0     1933           NaN    98028  47.7379 -122.233   \n",
       "3          910.0     1965           0.0    98136  47.5208 -122.393   \n",
       "4            0.0     1987           0.0    98074  47.6168 -122.045   \n",
       "\n",
       "   sqft_living15  sqft_lot15  \n",
       "0           1340        5650  \n",
       "1           1690        7639  \n",
       "2           2720        8062  \n",
       "3           1360        5000  \n",
       "4           1800        7503  \n",
       "\n",
       "[5 rows x 21 columns]"
      ]
     },
     "execution_count": 2,
     "metadata": {},
     "output_type": "execute_result"
    }
   ],
   "source": [
    "#Viewing the contents of the data\n",
    "house_data=pd.read_csv('kc_house_data.csv')\n",
    "house_data.head()"
   ]
  },
  {
   "cell_type": "code",
   "execution_count": 3,
   "metadata": {},
   "outputs": [
    {
     "data": {
      "text/plain": [
       "(21597, 21)"
      ]
     },
     "execution_count": 3,
     "metadata": {},
     "output_type": "execute_result"
    }
   ],
   "source": [
    "#viewing how many rows and columns are there\n",
    "house_data.shape"
   ]
  },
  {
   "cell_type": "code",
   "execution_count": 4,
   "metadata": {},
   "outputs": [
    {
     "name": "stdout",
     "output_type": "stream",
     "text": [
      "<class 'pandas.core.frame.DataFrame'>\n",
      "RangeIndex: 21597 entries, 0 to 21596\n",
      "Data columns (total 21 columns):\n",
      " #   Column         Non-Null Count  Dtype  \n",
      "---  ------         --------------  -----  \n",
      " 0   id             21597 non-null  int64  \n",
      " 1   date           21597 non-null  object \n",
      " 2   price          21597 non-null  float64\n",
      " 3   bedrooms       21597 non-null  int64  \n",
      " 4   bathrooms      21597 non-null  float64\n",
      " 5   sqft_living    21597 non-null  int64  \n",
      " 6   sqft_lot       21597 non-null  int64  \n",
      " 7   floors         21597 non-null  float64\n",
      " 8   waterfront     19221 non-null  object \n",
      " 9   view           21534 non-null  object \n",
      " 10  condition      21597 non-null  object \n",
      " 11  grade          21597 non-null  object \n",
      " 12  sqft_above     21597 non-null  int64  \n",
      " 13  sqft_basement  21597 non-null  object \n",
      " 14  yr_built       21597 non-null  int64  \n",
      " 15  yr_renovated   17755 non-null  float64\n",
      " 16  zipcode        21597 non-null  int64  \n",
      " 17  lat            21597 non-null  float64\n",
      " 18  long           21597 non-null  float64\n",
      " 19  sqft_living15  21597 non-null  int64  \n",
      " 20  sqft_lot15     21597 non-null  int64  \n",
      "dtypes: float64(6), int64(9), object(6)\n",
      "memory usage: 3.5+ MB\n"
     ]
    }
   ],
   "source": [
    "#checking the datatype and number of entries of each column\n",
    "house_data.info()"
   ]
  },
  {
   "cell_type": "code",
   "execution_count": 5,
   "metadata": {},
   "outputs": [
    {
     "data": {
      "text/plain": [
       "Index(['id', 'date', 'price', 'bedrooms', 'bathrooms', 'sqft_living',\n",
       "       'sqft_lot', 'floors', 'waterfront', 'view', 'condition', 'grade',\n",
       "       'sqft_above', 'sqft_basement', 'yr_built', 'yr_renovated', 'zipcode',\n",
       "       'lat', 'long', 'sqft_living15', 'sqft_lot15'],\n",
       "      dtype='object')"
      ]
     },
     "execution_count": 5,
     "metadata": {},
     "output_type": "execute_result"
    }
   ],
   "source": [
    "#Viewing the columns of the data\n",
    "house_data.columns"
   ]
  },
  {
   "cell_type": "code",
   "execution_count": 6,
   "metadata": {},
   "outputs": [
    {
     "data": {
      "text/html": [
       "<div>\n",
       "<style scoped>\n",
       "    .dataframe tbody tr th:only-of-type {\n",
       "        vertical-align: middle;\n",
       "    }\n",
       "\n",
       "    .dataframe tbody tr th {\n",
       "        vertical-align: top;\n",
       "    }\n",
       "\n",
       "    .dataframe thead th {\n",
       "        text-align: right;\n",
       "    }\n",
       "</style>\n",
       "<table border=\"1\" class=\"dataframe\">\n",
       "  <thead>\n",
       "    <tr style=\"text-align: right;\">\n",
       "      <th></th>\n",
       "      <th>id</th>\n",
       "      <th>price</th>\n",
       "      <th>bedrooms</th>\n",
       "      <th>bathrooms</th>\n",
       "      <th>sqft_living</th>\n",
       "      <th>sqft_lot</th>\n",
       "      <th>floors</th>\n",
       "      <th>sqft_above</th>\n",
       "      <th>yr_built</th>\n",
       "      <th>yr_renovated</th>\n",
       "      <th>zipcode</th>\n",
       "      <th>lat</th>\n",
       "      <th>long</th>\n",
       "      <th>sqft_living15</th>\n",
       "      <th>sqft_lot15</th>\n",
       "    </tr>\n",
       "  </thead>\n",
       "  <tbody>\n",
       "    <tr>\n",
       "      <th>count</th>\n",
       "      <td>2.159700e+04</td>\n",
       "      <td>2.159700e+04</td>\n",
       "      <td>21597.000000</td>\n",
       "      <td>21597.000000</td>\n",
       "      <td>21597.000000</td>\n",
       "      <td>2.159700e+04</td>\n",
       "      <td>21597.000000</td>\n",
       "      <td>21597.000000</td>\n",
       "      <td>21597.000000</td>\n",
       "      <td>17755.000000</td>\n",
       "      <td>21597.000000</td>\n",
       "      <td>21597.000000</td>\n",
       "      <td>21597.000000</td>\n",
       "      <td>21597.000000</td>\n",
       "      <td>21597.000000</td>\n",
       "    </tr>\n",
       "    <tr>\n",
       "      <th>mean</th>\n",
       "      <td>4.580474e+09</td>\n",
       "      <td>5.402966e+05</td>\n",
       "      <td>3.373200</td>\n",
       "      <td>2.115826</td>\n",
       "      <td>2080.321850</td>\n",
       "      <td>1.509941e+04</td>\n",
       "      <td>1.494096</td>\n",
       "      <td>1788.596842</td>\n",
       "      <td>1970.999676</td>\n",
       "      <td>83.636778</td>\n",
       "      <td>98077.951845</td>\n",
       "      <td>47.560093</td>\n",
       "      <td>-122.213982</td>\n",
       "      <td>1986.620318</td>\n",
       "      <td>12758.283512</td>\n",
       "    </tr>\n",
       "    <tr>\n",
       "      <th>std</th>\n",
       "      <td>2.876736e+09</td>\n",
       "      <td>3.673681e+05</td>\n",
       "      <td>0.926299</td>\n",
       "      <td>0.768984</td>\n",
       "      <td>918.106125</td>\n",
       "      <td>4.141264e+04</td>\n",
       "      <td>0.539683</td>\n",
       "      <td>827.759761</td>\n",
       "      <td>29.375234</td>\n",
       "      <td>399.946414</td>\n",
       "      <td>53.513072</td>\n",
       "      <td>0.138552</td>\n",
       "      <td>0.140724</td>\n",
       "      <td>685.230472</td>\n",
       "      <td>27274.441950</td>\n",
       "    </tr>\n",
       "    <tr>\n",
       "      <th>min</th>\n",
       "      <td>1.000102e+06</td>\n",
       "      <td>7.800000e+04</td>\n",
       "      <td>1.000000</td>\n",
       "      <td>0.500000</td>\n",
       "      <td>370.000000</td>\n",
       "      <td>5.200000e+02</td>\n",
       "      <td>1.000000</td>\n",
       "      <td>370.000000</td>\n",
       "      <td>1900.000000</td>\n",
       "      <td>0.000000</td>\n",
       "      <td>98001.000000</td>\n",
       "      <td>47.155900</td>\n",
       "      <td>-122.519000</td>\n",
       "      <td>399.000000</td>\n",
       "      <td>651.000000</td>\n",
       "    </tr>\n",
       "    <tr>\n",
       "      <th>25%</th>\n",
       "      <td>2.123049e+09</td>\n",
       "      <td>3.220000e+05</td>\n",
       "      <td>3.000000</td>\n",
       "      <td>1.750000</td>\n",
       "      <td>1430.000000</td>\n",
       "      <td>5.040000e+03</td>\n",
       "      <td>1.000000</td>\n",
       "      <td>1190.000000</td>\n",
       "      <td>1951.000000</td>\n",
       "      <td>0.000000</td>\n",
       "      <td>98033.000000</td>\n",
       "      <td>47.471100</td>\n",
       "      <td>-122.328000</td>\n",
       "      <td>1490.000000</td>\n",
       "      <td>5100.000000</td>\n",
       "    </tr>\n",
       "    <tr>\n",
       "      <th>50%</th>\n",
       "      <td>3.904930e+09</td>\n",
       "      <td>4.500000e+05</td>\n",
       "      <td>3.000000</td>\n",
       "      <td>2.250000</td>\n",
       "      <td>1910.000000</td>\n",
       "      <td>7.618000e+03</td>\n",
       "      <td>1.500000</td>\n",
       "      <td>1560.000000</td>\n",
       "      <td>1975.000000</td>\n",
       "      <td>0.000000</td>\n",
       "      <td>98065.000000</td>\n",
       "      <td>47.571800</td>\n",
       "      <td>-122.231000</td>\n",
       "      <td>1840.000000</td>\n",
       "      <td>7620.000000</td>\n",
       "    </tr>\n",
       "    <tr>\n",
       "      <th>75%</th>\n",
       "      <td>7.308900e+09</td>\n",
       "      <td>6.450000e+05</td>\n",
       "      <td>4.000000</td>\n",
       "      <td>2.500000</td>\n",
       "      <td>2550.000000</td>\n",
       "      <td>1.068500e+04</td>\n",
       "      <td>2.000000</td>\n",
       "      <td>2210.000000</td>\n",
       "      <td>1997.000000</td>\n",
       "      <td>0.000000</td>\n",
       "      <td>98118.000000</td>\n",
       "      <td>47.678000</td>\n",
       "      <td>-122.125000</td>\n",
       "      <td>2360.000000</td>\n",
       "      <td>10083.000000</td>\n",
       "    </tr>\n",
       "    <tr>\n",
       "      <th>max</th>\n",
       "      <td>9.900000e+09</td>\n",
       "      <td>7.700000e+06</td>\n",
       "      <td>33.000000</td>\n",
       "      <td>8.000000</td>\n",
       "      <td>13540.000000</td>\n",
       "      <td>1.651359e+06</td>\n",
       "      <td>3.500000</td>\n",
       "      <td>9410.000000</td>\n",
       "      <td>2015.000000</td>\n",
       "      <td>2015.000000</td>\n",
       "      <td>98199.000000</td>\n",
       "      <td>47.777600</td>\n",
       "      <td>-121.315000</td>\n",
       "      <td>6210.000000</td>\n",
       "      <td>871200.000000</td>\n",
       "    </tr>\n",
       "  </tbody>\n",
       "</table>\n",
       "</div>"
      ],
      "text/plain": [
       "                 id         price      bedrooms     bathrooms   sqft_living  \\\n",
       "count  2.159700e+04  2.159700e+04  21597.000000  21597.000000  21597.000000   \n",
       "mean   4.580474e+09  5.402966e+05      3.373200      2.115826   2080.321850   \n",
       "std    2.876736e+09  3.673681e+05      0.926299      0.768984    918.106125   \n",
       "min    1.000102e+06  7.800000e+04      1.000000      0.500000    370.000000   \n",
       "25%    2.123049e+09  3.220000e+05      3.000000      1.750000   1430.000000   \n",
       "50%    3.904930e+09  4.500000e+05      3.000000      2.250000   1910.000000   \n",
       "75%    7.308900e+09  6.450000e+05      4.000000      2.500000   2550.000000   \n",
       "max    9.900000e+09  7.700000e+06     33.000000      8.000000  13540.000000   \n",
       "\n",
       "           sqft_lot        floors    sqft_above      yr_built  yr_renovated  \\\n",
       "count  2.159700e+04  21597.000000  21597.000000  21597.000000  17755.000000   \n",
       "mean   1.509941e+04      1.494096   1788.596842   1970.999676     83.636778   \n",
       "std    4.141264e+04      0.539683    827.759761     29.375234    399.946414   \n",
       "min    5.200000e+02      1.000000    370.000000   1900.000000      0.000000   \n",
       "25%    5.040000e+03      1.000000   1190.000000   1951.000000      0.000000   \n",
       "50%    7.618000e+03      1.500000   1560.000000   1975.000000      0.000000   \n",
       "75%    1.068500e+04      2.000000   2210.000000   1997.000000      0.000000   \n",
       "max    1.651359e+06      3.500000   9410.000000   2015.000000   2015.000000   \n",
       "\n",
       "            zipcode           lat          long  sqft_living15     sqft_lot15  \n",
       "count  21597.000000  21597.000000  21597.000000   21597.000000   21597.000000  \n",
       "mean   98077.951845     47.560093   -122.213982    1986.620318   12758.283512  \n",
       "std       53.513072      0.138552      0.140724     685.230472   27274.441950  \n",
       "min    98001.000000     47.155900   -122.519000     399.000000     651.000000  \n",
       "25%    98033.000000     47.471100   -122.328000    1490.000000    5100.000000  \n",
       "50%    98065.000000     47.571800   -122.231000    1840.000000    7620.000000  \n",
       "75%    98118.000000     47.678000   -122.125000    2360.000000   10083.000000  \n",
       "max    98199.000000     47.777600   -121.315000    6210.000000  871200.000000  "
      ]
     },
     "execution_count": 6,
     "metadata": {},
     "output_type": "execute_result"
    }
   ],
   "source": [
    "#Viewing the summary statistics\n",
    "house_data.describe()"
   ]
  },
  {
   "cell_type": "markdown",
   "metadata": {},
   "source": [
    "The largest property has 33 bedrooms.\n",
    "The oldest house was built in 1900\n",
    "The property with the highest floors has 3.5 floors"
   ]
  },
  {
   "cell_type": "markdown",
   "metadata": {},
   "source": [
    "# Data Cleaning"
   ]
  },
  {
   "cell_type": "code",
   "execution_count": 76,
   "metadata": {},
   "outputs": [],
   "source": [
    "#identify missing values\n",
    "missingval=house_data.isnull().sum().sort_values(ascending=False)\n",
    "#identify percentage of missing values to the total data\n",
    "percentage_of_missing_val=(house_data.isnull().sum()/len(house_data)).sort_values(ascending=False)\n"
   ]
  },
  {
   "cell_type": "code",
   "execution_count": 58,
   "metadata": {},
   "outputs": [],
   "source": [
    "#Handling missing data\n",
    "#Three columns have missing values\n",
    "#Replacing missing values in waterfront with none to show no presence of water body on the property\n",
    "house_data['waterfront']=house_data['waterfront'].fillna('No')\n",
    "#Replacing missing values in view with none to show no presence of views on the property\n",
    "house_data['view']=house_data['view'].fillna('NONE')\n",
    "#Replacing missing values in yr_renovated with 0 to show there was no renovations on the property\n",
    "house_data['yr_renovated']=house_data['yr_renovated'].fillna(0)\n"
   ]
  },
  {
   "cell_type": "code",
   "execution_count": 9,
   "metadata": {},
   "outputs": [
    {
     "data": {
      "text/plain": [
       "0"
      ]
     },
     "execution_count": 9,
     "metadata": {},
     "output_type": "execute_result"
    }
   ],
   "source": [
    "#checking if rows are duplicated\n",
    "house_data.duplicated().sum()"
   ]
  },
  {
   "cell_type": "markdown",
   "metadata": {},
   "source": [
    "There are no duplicates"
   ]
  },
  {
   "cell_type": "code",
   "execution_count": 10,
   "metadata": {},
   "outputs": [],
   "source": [
    "#droping the columns that we wont check the outliers\n",
    "rel_house_data=house_data.drop(['id', 'date','yr_built', 'yr_renovated', 'zipcode',\n",
    "       'lat', 'long'],axis=1)"
   ]
  },
  {
   "cell_type": "code",
   "execution_count": 11,
   "metadata": {},
   "outputs": [
    {
     "data": {
      "image/png": "[encoded data removed]",
      "text/plain": [
       "<Figure size 1440x720 with 1 Axes>"
      ]
     },
     "metadata": {
      "needs_background": "light"
     },
     "output_type": "display_data"
    }
   ],
   "source": [
    "#checking for outliers\n",
    "plt.figure(figsize=(20,10))\n",
    "rel_house_data.boxplot()\n",
    "plt.show()\n",
    "#price,sqft_lot and sqft_lot15 have outliers"
   ]
  },
  {
   "cell_type": "markdown",
   "metadata": {},
   "source": [
    "The data has outliers but they seem genuine so we wont have to remove them"
   ]
  },
  {
   "cell_type": "code",
   "execution_count": 61,
   "metadata": {},
   "outputs": [
    {
     "name": "stdout",
     "output_type": "stream",
     "text": [
      "<class 'pandas.core.frame.DataFrame'>\n",
      "RangeIndex: 21597 entries, 0 to 21596\n",
      "Data columns (total 14 columns):\n",
      " #   Column         Non-Null Count  Dtype  \n",
      "---  ------         --------------  -----  \n",
      " 0   price          21597 non-null  float64\n",
      " 1   bedrooms       21597 non-null  object \n",
      " 2   bathrooms      21597 non-null  object \n",
      " 3   sqft_living    21597 non-null  int64  \n",
      " 4   sqft_lot       21597 non-null  int64  \n",
      " 5   floors         21597 non-null  float64\n",
      " 6   waterfront     21597 non-null  object \n",
      " 7   view           21597 non-null  object \n",
      " 8   condition      21597 non-null  object \n",
      " 9   grade          21597 non-null  object \n",
      " 10  sqft_above     21597 non-null  int64  \n",
      " 11  sqft_basement  21597 non-null  object \n",
      " 12  sqft_living15  21597 non-null  int64  \n",
      " 13  sqft_lot15     21597 non-null  int64  \n",
      "dtypes: float64(2), int64(5), object(7)\n",
      "memory usage: 2.3+ MB\n"
     ]
    }
   ],
   "source": [
    "# Dataframe after dropping the columns we wont use  \n",
    "rel_house_data.info()"
   ]
  },
  {
   "cell_type": "code",
   "execution_count": 62,
   "metadata": {},
   "outputs": [
    {
     "data": {
      "text/html": [
       "<div>\n",
       "<style scoped>\n",
       "    .dataframe tbody tr th:only-of-type {\n",
       "        vertical-align: middle;\n",
       "    }\n",
       "\n",
       "    .dataframe tbody tr th {\n",
       "        vertical-align: top;\n",
       "    }\n",
       "\n",
       "    .dataframe thead th {\n",
       "        text-align: right;\n",
       "    }\n",
       "</style>\n",
       "<table border=\"1\" class=\"dataframe\">\n",
       "  <thead>\n",
       "    <tr style=\"text-align: right;\">\n",
       "      <th></th>\n",
       "      <th>price</th>\n",
       "      <th>bedrooms</th>\n",
       "      <th>bathrooms</th>\n",
       "      <th>sqft_living</th>\n",
       "      <th>sqft_lot</th>\n",
       "      <th>floors</th>\n",
       "      <th>waterfront</th>\n",
       "      <th>view</th>\n",
       "      <th>condition</th>\n",
       "      <th>grade</th>\n",
       "      <th>sqft_above</th>\n",
       "      <th>sqft_basement</th>\n",
       "      <th>sqft_living15</th>\n",
       "      <th>sqft_lot15</th>\n",
       "    </tr>\n",
       "  </thead>\n",
       "  <tbody>\n",
       "    <tr>\n",
       "      <th>0</th>\n",
       "      <td>221900.0</td>\n",
       "      <td>0        3\\n1        3\\n2        2\\n3        4...</td>\n",
       "      <td>0        1.00\\n1        2.25\\n2        1.00\\n3...</td>\n",
       "      <td>1180</td>\n",
       "      <td>5650</td>\n",
       "      <td>1.0</td>\n",
       "      <td>No</td>\n",
       "      <td>NONE</td>\n",
       "      <td>Average</td>\n",
       "      <td>7 Average</td>\n",
       "      <td>1180</td>\n",
       "      <td>0.0</td>\n",
       "      <td>1340</td>\n",
       "      <td>5650</td>\n",
       "    </tr>\n",
       "    <tr>\n",
       "      <th>1</th>\n",
       "      <td>538000.0</td>\n",
       "      <td>0        3\\n1        3\\n2        2\\n3        4...</td>\n",
       "      <td>0        1.00\\n1        2.25\\n2        1.00\\n3...</td>\n",
       "      <td>2570</td>\n",
       "      <td>7242</td>\n",
       "      <td>2.0</td>\n",
       "      <td>NO</td>\n",
       "      <td>NONE</td>\n",
       "      <td>Average</td>\n",
       "      <td>7 Average</td>\n",
       "      <td>2170</td>\n",
       "      <td>400.0</td>\n",
       "      <td>1690</td>\n",
       "      <td>7639</td>\n",
       "    </tr>\n",
       "    <tr>\n",
       "      <th>2</th>\n",
       "      <td>180000.0</td>\n",
       "      <td>0        3\\n1        3\\n2        2\\n3        4...</td>\n",
       "      <td>0        1.00\\n1        2.25\\n2        1.00\\n3...</td>\n",
       "      <td>770</td>\n",
       "      <td>10000</td>\n",
       "      <td>1.0</td>\n",
       "      <td>NO</td>\n",
       "      <td>NONE</td>\n",
       "      <td>Average</td>\n",
       "      <td>6 Low Average</td>\n",
       "      <td>770</td>\n",
       "      <td>0.0</td>\n",
       "      <td>2720</td>\n",
       "      <td>8062</td>\n",
       "    </tr>\n",
       "    <tr>\n",
       "      <th>3</th>\n",
       "      <td>604000.0</td>\n",
       "      <td>0        3\\n1        3\\n2        2\\n3        4...</td>\n",
       "      <td>0        1.00\\n1        2.25\\n2        1.00\\n3...</td>\n",
       "      <td>1960</td>\n",
       "      <td>5000</td>\n",
       "      <td>1.0</td>\n",
       "      <td>NO</td>\n",
       "      <td>NONE</td>\n",
       "      <td>Very Good</td>\n",
       "      <td>7 Average</td>\n",
       "      <td>1050</td>\n",
       "      <td>910.0</td>\n",
       "      <td>1360</td>\n",
       "      <td>5000</td>\n",
       "    </tr>\n",
       "    <tr>\n",
       "      <th>4</th>\n",
       "      <td>510000.0</td>\n",
       "      <td>0        3\\n1        3\\n2        2\\n3        4...</td>\n",
       "      <td>0        1.00\\n1        2.25\\n2        1.00\\n3...</td>\n",
       "      <td>1680</td>\n",
       "      <td>8080</td>\n",
       "      <td>1.0</td>\n",
       "      <td>NO</td>\n",
       "      <td>NONE</td>\n",
       "      <td>Average</td>\n",
       "      <td>8 Good</td>\n",
       "      <td>1680</td>\n",
       "      <td>0.0</td>\n",
       "      <td>1800</td>\n",
       "      <td>7503</td>\n",
       "    </tr>\n",
       "  </tbody>\n",
       "</table>\n",
       "</div>"
      ],
      "text/plain": [
       "      price                                           bedrooms  \\\n",
       "0  221900.0  0        3\\n1        3\\n2        2\\n3        4...   \n",
       "1  538000.0  0        3\\n1        3\\n2        2\\n3        4...   \n",
       "2  180000.0  0        3\\n1        3\\n2        2\\n3        4...   \n",
       "3  604000.0  0        3\\n1        3\\n2        2\\n3        4...   \n",
       "4  510000.0  0        3\\n1        3\\n2        2\\n3        4...   \n",
       "\n",
       "                                           bathrooms  sqft_living  sqft_lot  \\\n",
       "0  0        1.00\\n1        2.25\\n2        1.00\\n3...         1180      5650   \n",
       "1  0        1.00\\n1        2.25\\n2        1.00\\n3...         2570      7242   \n",
       "2  0        1.00\\n1        2.25\\n2        1.00\\n3...          770     10000   \n",
       "3  0        1.00\\n1        2.25\\n2        1.00\\n3...         1960      5000   \n",
       "4  0        1.00\\n1        2.25\\n2        1.00\\n3...         1680      8080   \n",
       "\n",
       "   floors waterfront  view  condition          grade  sqft_above  \\\n",
       "0     1.0         No  NONE    Average      7 Average        1180   \n",
       "1     2.0         NO  NONE    Average      7 Average        2170   \n",
       "2     1.0         NO  NONE    Average  6 Low Average         770   \n",
       "3     1.0         NO  NONE  Very Good      7 Average        1050   \n",
       "4     1.0         NO  NONE    Average         8 Good        1680   \n",
       "\n",
       "  sqft_basement  sqft_living15  sqft_lot15  \n",
       "0           0.0           1340        5650  \n",
       "1         400.0           1690        7639  \n",
       "2           0.0           2720        8062  \n",
       "3         910.0           1360        5000  \n",
       "4           0.0           1800        7503  "
      ]
     },
     "execution_count": 62,
     "metadata": {},
     "output_type": "execute_result"
    }
   ],
   "source": [
    "rel_house_data.head()"
   ]
  },
  {
   "cell_type": "code",
   "execution_count": 65,
   "metadata": {},
   "outputs": [
    {
     "data": {
      "text/plain": [
       "NO     19075\n",
       "No      2376\n",
       "YES      146\n",
       "Name: waterfront, dtype: int64"
      ]
     },
     "execution_count": 65,
     "metadata": {},
     "output_type": "execute_result"
    }
   ],
   "source": [
    "#Viewing unique values in the waterfront column\n",
    "rel_house_data['waterfront'].value_counts()"
   ]
  },
  {
   "cell_type": "code",
   "execution_count": 68,
   "metadata": {},
   "outputs": [],
   "source": [
    "# Replacing No with NO\n",
    "rel_house_data['waterfront'].replace('No','NO',inplace = True)"
   ]
  },
  {
   "cell_type": "code",
   "execution_count": 69,
   "metadata": {},
   "outputs": [
    {
     "data": {
      "text/plain": [
       "NONE         19422\n",
       "AVERAGE        957\n",
       "GOOD           508\n",
       "FAIR           330\n",
       "EXCELLENT      317\n",
       "None            63\n",
       "Name: view, dtype: int64"
      ]
     },
     "execution_count": 69,
     "metadata": {},
     "output_type": "execute_result"
    }
   ],
   "source": [
    "#Viewing the unique values in the view column\n",
    "rel_house_data['view'].value_counts()"
   ]
  },
  {
   "cell_type": "code",
   "execution_count": 70,
   "metadata": {},
   "outputs": [],
   "source": [
    "# Replace None with NONE\n",
    "rel_house_data['view'].replace('None','NONE',inplace=True)"
   ]
  },
  {
   "cell_type": "code",
   "execution_count": 73,
   "metadata": {},
   "outputs": [
    {
     "data": {
      "text/plain": [
       "Average      14020\n",
       "Good          5677\n",
       "Very Good     1701\n",
       "Fair           170\n",
       "Poor            29\n",
       "Name: condition, dtype: int64"
      ]
     },
     "execution_count": 73,
     "metadata": {},
     "output_type": "execute_result"
    }
   ],
   "source": [
    "#Viewing unique values in the condition column\n",
    "rel_house_data['condition'].value_counts()"
   ]
  },
  {
   "cell_type": "code",
   "execution_count": 74,
   "metadata": {},
   "outputs": [
    {
     "data": {
      "text/plain": [
       "7 Average        8974\n",
       "8 Good           6065\n",
       "9 Better         2615\n",
       "6 Low Average    2038\n",
       "10 Very Good     1134\n",
       "11 Excellent      399\n",
       "5 Fair            242\n",
       "12 Luxury          89\n",
       "4 Low              27\n",
       "13 Mansion         13\n",
       "3 Poor              1\n",
       "Name: grade, dtype: int64"
      ]
     },
     "execution_count": 74,
     "metadata": {},
     "output_type": "execute_result"
    }
   ],
   "source": [
    "#Viewing unique values in the grade column\n",
    "rel_house_data['grade'].value_counts()"
   ]
  },
  {
   "cell_type": "code",
   "execution_count": 77,
   "metadata": {},
   "outputs": [
    {
     "data": {
      "text/html": [
       "<div>\n",
       "<style scoped>\n",
       "    .dataframe tbody tr th:only-of-type {\n",
       "        vertical-align: middle;\n",
       "    }\n",
       "\n",
       "    .dataframe tbody tr th {\n",
       "        vertical-align: top;\n",
       "    }\n",
       "\n",
       "    .dataframe thead th {\n",
       "        text-align: right;\n",
       "    }\n",
       "</style>\n",
       "<table border=\"1\" class=\"dataframe\">\n",
       "  <thead>\n",
       "    <tr style=\"text-align: right;\">\n",
       "      <th></th>\n",
       "      <th>price</th>\n",
       "      <th>bedrooms</th>\n",
       "      <th>bathrooms</th>\n",
       "      <th>sqft_living</th>\n",
       "      <th>sqft_lot</th>\n",
       "      <th>floors</th>\n",
       "      <th>waterfront</th>\n",
       "      <th>view</th>\n",
       "      <th>condition</th>\n",
       "      <th>grade</th>\n",
       "      <th>sqft_above</th>\n",
       "      <th>sqft_basement</th>\n",
       "      <th>sqft_living15</th>\n",
       "      <th>sqft_lot15</th>\n",
       "    </tr>\n",
       "  </thead>\n",
       "  <tbody>\n",
       "    <tr>\n",
       "      <th>0</th>\n",
       "      <td>221900.0</td>\n",
       "      <td>0        3\\n1        3\\n2        2\\n3        4...</td>\n",
       "      <td>0        1.00\\n1        2.25\\n2        1.00\\n3...</td>\n",
       "      <td>1180</td>\n",
       "      <td>5650</td>\n",
       "      <td>1.0</td>\n",
       "      <td>NO</td>\n",
       "      <td>NONE</td>\n",
       "      <td>Average</td>\n",
       "      <td>7 Average</td>\n",
       "      <td>1180</td>\n",
       "      <td>0.0</td>\n",
       "      <td>1340</td>\n",
       "      <td>5650</td>\n",
       "    </tr>\n",
       "    <tr>\n",
       "      <th>1</th>\n",
       "      <td>538000.0</td>\n",
       "      <td>0        3\\n1        3\\n2        2\\n3        4...</td>\n",
       "      <td>0        1.00\\n1        2.25\\n2        1.00\\n3...</td>\n",
       "      <td>2570</td>\n",
       "      <td>7242</td>\n",
       "      <td>2.0</td>\n",
       "      <td>NO</td>\n",
       "      <td>NONE</td>\n",
       "      <td>Average</td>\n",
       "      <td>7 Average</td>\n",
       "      <td>2170</td>\n",
       "      <td>400.0</td>\n",
       "      <td>1690</td>\n",
       "      <td>7639</td>\n",
       "    </tr>\n",
       "    <tr>\n",
       "      <th>2</th>\n",
       "      <td>180000.0</td>\n",
       "      <td>0        3\\n1        3\\n2        2\\n3        4...</td>\n",
       "      <td>0        1.00\\n1        2.25\\n2        1.00\\n3...</td>\n",
       "      <td>770</td>\n",
       "      <td>10000</td>\n",
       "      <td>1.0</td>\n",
       "      <td>NO</td>\n",
       "      <td>NONE</td>\n",
       "      <td>Average</td>\n",
       "      <td>6 Low Average</td>\n",
       "      <td>770</td>\n",
       "      <td>0.0</td>\n",
       "      <td>2720</td>\n",
       "      <td>8062</td>\n",
       "    </tr>\n",
       "    <tr>\n",
       "      <th>3</th>\n",
       "      <td>604000.0</td>\n",
       "      <td>0        3\\n1        3\\n2        2\\n3        4...</td>\n",
       "      <td>0        1.00\\n1        2.25\\n2        1.00\\n3...</td>\n",
       "      <td>1960</td>\n",
       "      <td>5000</td>\n",
       "      <td>1.0</td>\n",
       "      <td>NO</td>\n",
       "      <td>NONE</td>\n",
       "      <td>Very Good</td>\n",
       "      <td>7 Average</td>\n",
       "      <td>1050</td>\n",
       "      <td>910.0</td>\n",
       "      <td>1360</td>\n",
       "      <td>5000</td>\n",
       "    </tr>\n",
       "    <tr>\n",
       "      <th>4</th>\n",
       "      <td>510000.0</td>\n",
       "      <td>0        3\\n1        3\\n2        2\\n3        4...</td>\n",
       "      <td>0        1.00\\n1        2.25\\n2        1.00\\n3...</td>\n",
       "      <td>1680</td>\n",
       "      <td>8080</td>\n",
       "      <td>1.0</td>\n",
       "      <td>NO</td>\n",
       "      <td>NONE</td>\n",
       "      <td>Average</td>\n",
       "      <td>8 Good</td>\n",
       "      <td>1680</td>\n",
       "      <td>0.0</td>\n",
       "      <td>1800</td>\n",
       "      <td>7503</td>\n",
       "    </tr>\n",
       "  </tbody>\n",
       "</table>\n",
       "</div>"
      ],
      "text/plain": [
       "      price                                           bedrooms  \\\n",
       "0  221900.0  0        3\\n1        3\\n2        2\\n3        4...   \n",
       "1  538000.0  0        3\\n1        3\\n2        2\\n3        4...   \n",
       "2  180000.0  0        3\\n1        3\\n2        2\\n3        4...   \n",
       "3  604000.0  0        3\\n1        3\\n2        2\\n3        4...   \n",
       "4  510000.0  0        3\\n1        3\\n2        2\\n3        4...   \n",
       "\n",
       "                                           bathrooms  sqft_living  sqft_lot  \\\n",
       "0  0        1.00\\n1        2.25\\n2        1.00\\n3...         1180      5650   \n",
       "1  0        1.00\\n1        2.25\\n2        1.00\\n3...         2570      7242   \n",
       "2  0        1.00\\n1        2.25\\n2        1.00\\n3...          770     10000   \n",
       "3  0        1.00\\n1        2.25\\n2        1.00\\n3...         1960      5000   \n",
       "4  0        1.00\\n1        2.25\\n2        1.00\\n3...         1680      8080   \n",
       "\n",
       "   floors waterfront  view  condition          grade  sqft_above  \\\n",
       "0     1.0         NO  NONE    Average      7 Average        1180   \n",
       "1     2.0         NO  NONE    Average      7 Average        2170   \n",
       "2     1.0         NO  NONE    Average  6 Low Average         770   \n",
       "3     1.0         NO  NONE  Very Good      7 Average        1050   \n",
       "4     1.0         NO  NONE    Average         8 Good        1680   \n",
       "\n",
       "  sqft_basement  sqft_living15  sqft_lot15  \n",
       "0           0.0           1340        5650  \n",
       "1         400.0           1690        7639  \n",
       "2           0.0           2720        8062  \n",
       "3         910.0           1360        5000  \n",
       "4           0.0           1800        7503  "
      ]
     },
     "execution_count": 77,
     "metadata": {},
     "output_type": "execute_result"
    }
   ],
   "source": [
    "# Viewing the data we are going to use\n",
    "rel_house_data.head()"
   ]
  },
  {
   "cell_type": "code",
   "execution_count": 78,
   "metadata": {},
   "outputs": [
    {
     "data": {
      "text/html": [
       "<div>\n",
       "<style scoped>\n",
       "    .dataframe tbody tr th:only-of-type {\n",
       "        vertical-align: middle;\n",
       "    }\n",
       "\n",
       "    .dataframe tbody tr th {\n",
       "        vertical-align: top;\n",
       "    }\n",
       "\n",
       "    .dataframe thead th {\n",
       "        text-align: right;\n",
       "    }\n",
       "</style>\n",
       "<table border=\"1\" class=\"dataframe\">\n",
       "  <thead>\n",
       "    <tr style=\"text-align: right;\">\n",
       "      <th></th>\n",
       "      <th>price</th>\n",
       "      <th>bedrooms</th>\n",
       "      <th>bathrooms</th>\n",
       "      <th>sqft_living</th>\n",
       "      <th>sqft_lot</th>\n",
       "      <th>floors</th>\n",
       "      <th>waterfront</th>\n",
       "      <th>view</th>\n",
       "      <th>condition</th>\n",
       "      <th>grade</th>\n",
       "      <th>sqft_above</th>\n",
       "      <th>sqft_basement</th>\n",
       "      <th>sqft_living15</th>\n",
       "      <th>sqft_lot15</th>\n",
       "    </tr>\n",
       "  </thead>\n",
       "  <tbody>\n",
       "    <tr>\n",
       "      <th>0</th>\n",
       "      <td>221900.0</td>\n",
       "      <td>3</td>\n",
       "      <td>1.00</td>\n",
       "      <td>1180</td>\n",
       "      <td>5650</td>\n",
       "      <td>1.0</td>\n",
       "      <td>NO</td>\n",
       "      <td>NONE</td>\n",
       "      <td>Average</td>\n",
       "      <td>7 Average</td>\n",
       "      <td>1180</td>\n",
       "      <td>0.0</td>\n",
       "      <td>1340</td>\n",
       "      <td>5650</td>\n",
       "    </tr>\n",
       "    <tr>\n",
       "      <th>1</th>\n",
       "      <td>538000.0</td>\n",
       "      <td>3</td>\n",
       "      <td>2.25</td>\n",
       "      <td>2570</td>\n",
       "      <td>7242</td>\n",
       "      <td>2.0</td>\n",
       "      <td>NO</td>\n",
       "      <td>NONE</td>\n",
       "      <td>Average</td>\n",
       "      <td>7 Average</td>\n",
       "      <td>2170</td>\n",
       "      <td>400.0</td>\n",
       "      <td>1690</td>\n",
       "      <td>7639</td>\n",
       "    </tr>\n",
       "    <tr>\n",
       "      <th>2</th>\n",
       "      <td>180000.0</td>\n",
       "      <td>2</td>\n",
       "      <td>1.00</td>\n",
       "      <td>770</td>\n",
       "      <td>10000</td>\n",
       "      <td>1.0</td>\n",
       "      <td>NO</td>\n",
       "      <td>NONE</td>\n",
       "      <td>Average</td>\n",
       "      <td>6 Low Average</td>\n",
       "      <td>770</td>\n",
       "      <td>0.0</td>\n",
       "      <td>2720</td>\n",
       "      <td>8062</td>\n",
       "    </tr>\n",
       "    <tr>\n",
       "      <th>3</th>\n",
       "      <td>604000.0</td>\n",
       "      <td>4</td>\n",
       "      <td>3.00</td>\n",
       "      <td>1960</td>\n",
       "      <td>5000</td>\n",
       "      <td>1.0</td>\n",
       "      <td>NO</td>\n",
       "      <td>NONE</td>\n",
       "      <td>Very Good</td>\n",
       "      <td>7 Average</td>\n",
       "      <td>1050</td>\n",
       "      <td>910.0</td>\n",
       "      <td>1360</td>\n",
       "      <td>5000</td>\n",
       "    </tr>\n",
       "    <tr>\n",
       "      <th>4</th>\n",
       "      <td>510000.0</td>\n",
       "      <td>3</td>\n",
       "      <td>2.00</td>\n",
       "      <td>1680</td>\n",
       "      <td>8080</td>\n",
       "      <td>1.0</td>\n",
       "      <td>NO</td>\n",
       "      <td>NONE</td>\n",
       "      <td>Average</td>\n",
       "      <td>8 Good</td>\n",
       "      <td>1680</td>\n",
       "      <td>0.0</td>\n",
       "      <td>1800</td>\n",
       "      <td>7503</td>\n",
       "    </tr>\n",
       "    <tr>\n",
       "      <th>...</th>\n",
       "      <td>...</td>\n",
       "      <td>...</td>\n",
       "      <td>...</td>\n",
       "      <td>...</td>\n",
       "      <td>...</td>\n",
       "      <td>...</td>\n",
       "      <td>...</td>\n",
       "      <td>...</td>\n",
       "      <td>...</td>\n",
       "      <td>...</td>\n",
       "      <td>...</td>\n",
       "      <td>...</td>\n",
       "      <td>...</td>\n",
       "      <td>...</td>\n",
       "    </tr>\n",
       "    <tr>\n",
       "      <th>21592</th>\n",
       "      <td>360000.0</td>\n",
       "      <td>3</td>\n",
       "      <td>2.50</td>\n",
       "      <td>1530</td>\n",
       "      <td>1131</td>\n",
       "      <td>3.0</td>\n",
       "      <td>NO</td>\n",
       "      <td>NONE</td>\n",
       "      <td>Average</td>\n",
       "      <td>8 Good</td>\n",
       "      <td>1530</td>\n",
       "      <td>0.0</td>\n",
       "      <td>1530</td>\n",
       "      <td>1509</td>\n",
       "    </tr>\n",
       "    <tr>\n",
       "      <th>21593</th>\n",
       "      <td>400000.0</td>\n",
       "      <td>4</td>\n",
       "      <td>2.50</td>\n",
       "      <td>2310</td>\n",
       "      <td>5813</td>\n",
       "      <td>2.0</td>\n",
       "      <td>NO</td>\n",
       "      <td>NONE</td>\n",
       "      <td>Average</td>\n",
       "      <td>8 Good</td>\n",
       "      <td>2310</td>\n",
       "      <td>0.0</td>\n",
       "      <td>1830</td>\n",
       "      <td>7200</td>\n",
       "    </tr>\n",
       "    <tr>\n",
       "      <th>21594</th>\n",
       "      <td>402101.0</td>\n",
       "      <td>2</td>\n",
       "      <td>0.75</td>\n",
       "      <td>1020</td>\n",
       "      <td>1350</td>\n",
       "      <td>2.0</td>\n",
       "      <td>NO</td>\n",
       "      <td>NONE</td>\n",
       "      <td>Average</td>\n",
       "      <td>7 Average</td>\n",
       "      <td>1020</td>\n",
       "      <td>0.0</td>\n",
       "      <td>1020</td>\n",
       "      <td>2007</td>\n",
       "    </tr>\n",
       "    <tr>\n",
       "      <th>21595</th>\n",
       "      <td>400000.0</td>\n",
       "      <td>3</td>\n",
       "      <td>2.50</td>\n",
       "      <td>1600</td>\n",
       "      <td>2388</td>\n",
       "      <td>2.0</td>\n",
       "      <td>NO</td>\n",
       "      <td>NONE</td>\n",
       "      <td>Average</td>\n",
       "      <td>8 Good</td>\n",
       "      <td>1600</td>\n",
       "      <td>0.0</td>\n",
       "      <td>1410</td>\n",
       "      <td>1287</td>\n",
       "    </tr>\n",
       "    <tr>\n",
       "      <th>21596</th>\n",
       "      <td>325000.0</td>\n",
       "      <td>2</td>\n",
       "      <td>0.75</td>\n",
       "      <td>1020</td>\n",
       "      <td>1076</td>\n",
       "      <td>2.0</td>\n",
       "      <td>NO</td>\n",
       "      <td>NONE</td>\n",
       "      <td>Average</td>\n",
       "      <td>7 Average</td>\n",
       "      <td>1020</td>\n",
       "      <td>0.0</td>\n",
       "      <td>1020</td>\n",
       "      <td>1357</td>\n",
       "    </tr>\n",
       "  </tbody>\n",
       "</table>\n",
       "<p>21597 rows × 14 columns</p>\n",
       "</div>"
      ],
      "text/plain": [
       "          price  bedrooms  bathrooms  sqft_living  sqft_lot  floors  \\\n",
       "0      221900.0         3       1.00         1180      5650     1.0   \n",
       "1      538000.0         3       2.25         2570      7242     2.0   \n",
       "2      180000.0         2       1.00          770     10000     1.0   \n",
       "3      604000.0         4       3.00         1960      5000     1.0   \n",
       "4      510000.0         3       2.00         1680      8080     1.0   \n",
       "...         ...       ...        ...          ...       ...     ...   \n",
       "21592  360000.0         3       2.50         1530      1131     3.0   \n",
       "21593  400000.0         4       2.50         2310      5813     2.0   \n",
       "21594  402101.0         2       0.75         1020      1350     2.0   \n",
       "21595  400000.0         3       2.50         1600      2388     2.0   \n",
       "21596  325000.0         2       0.75         1020      1076     2.0   \n",
       "\n",
       "      waterfront  view  condition          grade  sqft_above sqft_basement  \\\n",
       "0             NO  NONE    Average      7 Average        1180           0.0   \n",
       "1             NO  NONE    Average      7 Average        2170         400.0   \n",
       "2             NO  NONE    Average  6 Low Average         770           0.0   \n",
       "3             NO  NONE  Very Good      7 Average        1050         910.0   \n",
       "4             NO  NONE    Average         8 Good        1680           0.0   \n",
       "...          ...   ...        ...            ...         ...           ...   \n",
       "21592         NO  NONE    Average         8 Good        1530           0.0   \n",
       "21593         NO  NONE    Average         8 Good        2310           0.0   \n",
       "21594         NO  NONE    Average      7 Average        1020           0.0   \n",
       "21595         NO  NONE    Average         8 Good        1600           0.0   \n",
       "21596         NO  NONE    Average      7 Average        1020           0.0   \n",
       "\n",
       "       sqft_living15  sqft_lot15  \n",
       "0               1340        5650  \n",
       "1               1690        7639  \n",
       "2               2720        8062  \n",
       "3               1360        5000  \n",
       "4               1800        7503  \n",
       "...              ...         ...  \n",
       "21592           1530        1509  \n",
       "21593           1830        7200  \n",
       "21594           1020        2007  \n",
       "21595           1410        1287  \n",
       "21596           1020        1357  \n",
       "\n",
       "[21597 rows x 14 columns]"
      ]
     },
     "execution_count": 78,
     "metadata": {},
     "output_type": "execute_result"
    }
   ],
   "source": [
    "# Returning the bedrooms and bathrooms to their original values\n",
    "# Cleaned data\n",
    "rel_house_data['bedrooms']=house_data['bedrooms']\n",
    "rel_house_data['bathrooms']=house_data['bathrooms']\n",
    "rel_house_data"
   ]
  },
  {
   "cell_type": "code",
   "execution_count": 79,
   "metadata": {},
   "outputs": [
    {
     "name": "stdout",
     "output_type": "stream",
     "text": [
      "<class 'pandas.core.frame.DataFrame'>\n",
      "RangeIndex: 21597 entries, 0 to 21596\n",
      "Data columns (total 14 columns):\n",
      " #   Column         Non-Null Count  Dtype  \n",
      "---  ------         --------------  -----  \n",
      " 0   price          21597 non-null  float64\n",
      " 1   bedrooms       21597 non-null  int64  \n",
      " 2   bathrooms      21597 non-null  float64\n",
      " 3   sqft_living    21597 non-null  int64  \n",
      " 4   sqft_lot       21597 non-null  int64  \n",
      " 5   floors         21597 non-null  float64\n",
      " 6   waterfront     21597 non-null  object \n",
      " 7   view           21597 non-null  object \n",
      " 8   condition      21597 non-null  object \n",
      " 9   grade          21597 non-null  object \n",
      " 10  sqft_above     21597 non-null  int64  \n",
      " 11  sqft_basement  21597 non-null  object \n",
      " 12  sqft_living15  21597 non-null  int64  \n",
      " 13  sqft_lot15     21597 non-null  int64  \n",
      "dtypes: float64(3), int64(6), object(5)\n",
      "memory usage: 2.3+ MB\n"
     ]
    }
   ],
   "source": [
    "rel_house_data.info()"
   ]
  },
  {
   "cell_type": "markdown",
   "metadata": {},
   "source": [
    "# Data Analysis"
   ]
  },
  {
   "cell_type": "code",
   "execution_count": 13,
   "metadata": {},
   "outputs": [
    {
     "data": {
      "text/plain": [
       "price            1.000000\n",
       "sqft_living      0.701917\n",
       "sqft_lot         0.089876\n",
       "floors           0.256804\n",
       "sqft_above       0.605368\n",
       "sqft_living15    0.585241\n",
       "sqft_lot15       0.082845\n",
       "Name: price, dtype: float64"
      ]
     },
     "execution_count": 13,
     "metadata": {},
     "output_type": "execute_result"
    }
   ],
   "source": [
    "#Checking the correlation between price and features of the house\n",
    "rel_house_data.corr()['price']\n"
   ]
  },
  {
   "cell_type": "code",
   "execution_count": 87,
   "metadata": {},
   "outputs": [
    {
     "data": {
      "text/plain": [
       "Text(0, 0.5, 'price')"
      ]
     },
     "execution_count": 87,
     "metadata": {},
     "output_type": "execute_result"
    },
    {
     "data": {
      "image/png": "[encoded data removed]",
      "text/plain": [
       "<Figure size 432x288 with 1 Axes>"
      ]
     },
     "metadata": {
      "needs_background": "light"
     },
     "output_type": "display_data"
    }
   ],
   "source": [
    "# Viewing the relationship between squarefoot of living and houseprice\n",
    "fig,ax=plt.subplots()\n",
    "plt.scatter(x='sqft_living',y='price',data=rel_house_data)\n",
    "plt.xlabel('square foot living space')\n",
    "plt.ylabel('price')"
   ]
  },
  {
   "cell_type": "markdown",
   "metadata": {},
   "source": [
    "this shows a linear relationship between price and square foot living space and even the correlation suggests a positive relationship with price"
   ]
  },
  {
   "cell_type": "code",
   "execution_count": 80,
   "metadata": {},
   "outputs": [
    {
     "data": {
      "text/plain": [
       "3     9824\n",
       "4     6882\n",
       "2     2760\n",
       "5     1601\n",
       "6      272\n",
       "1      196\n",
       "7       38\n",
       "8       13\n",
       "9        6\n",
       "10       3\n",
       "11       1\n",
       "33       1\n",
       "Name: bedrooms, dtype: int64"
      ]
     },
     "execution_count": 80,
     "metadata": {},
     "output_type": "execute_result"
    }
   ],
   "source": [
    "#Counting the number of sold houses per bedroom\n",
    "number_of_houses_sold=rel_house_data['bedrooms'].value_counts()\n",
    "number_of_houses_sold"
   ]
  },
  {
   "cell_type": "code",
   "execution_count": 40,
   "metadata": {},
   "outputs": [
    {
     "data": {
      "text/plain": [
       "<AxesSubplot:>"
      ]
     },
     "execution_count": 40,
     "metadata": {},
     "output_type": "execute_result"
    },
    {
     "data": {
      "image/png": "[encoded data removed]",
      "text/plain": [
       "<Figure size 432x288 with 1 Axes>"
      ]
     },
     "metadata": {
      "needs_background": "light"
     },
     "output_type": "display_data"
    }
   ],
   "source": [
    "#Showing the number of sold houses per bedroom\n",
    "number_of_houses_sold.plot.bar()"
   ]
  },
  {
   "cell_type": "markdown",
   "metadata": {},
   "source": [
    "Houses with three bedrooms are sold more in KingCounty region"
   ]
  },
  {
   "cell_type": "code",
   "execution_count": 45,
   "metadata": {
    "scrolled": true
   },
   "outputs": [
    {
     "data": {
      "text/plain": [
       "<matplotlib.collections.PathCollection at 0x257a31ee220>"
      ]
     },
     "execution_count": 45,
     "metadata": {},
     "output_type": "execute_result"
    },
    {
     "data": {
      "image/png": "[encoded data removed]",
      "text/plain": [
       "<Figure size 432x288 with 1 Axes>"
      ]
     },
     "metadata": {
      "needs_background": "light"
     },
     "output_type": "display_data"
    }
   ],
   "source": [
    "# Showing the relationship between bedrooms and houseprice\n",
    "plt.scatter(house_data['bedrooms'],house_data['price'])"
   ]
  },
  {
   "cell_type": "markdown",
   "metadata": {},
   "source": [
    "Bedrooms is a categorical variable"
   ]
  },
  {
   "cell_type": "code",
   "execution_count": 46,
   "metadata": {},
   "outputs": [
    {
     "data": {
      "text/plain": [
       "<matplotlib.collections.PathCollection at 0x257a3243e20>"
      ]
     },
     "execution_count": 46,
     "metadata": {},
     "output_type": "execute_result"
    },
    {
     "data": {
      "image/png": "[encoded data removed]",
      "text/plain": [
       "<Figure size 432x288 with 1 Axes>"
      ]
     },
     "metadata": {
      "needs_background": "light"
     },
     "output_type": "display_data"
    }
   ],
   "source": [
    "# Showing the relationship between bathrooms and houseprice\n",
    "plt.scatter(house_data['bathrooms'],house_data['price'])"
   ]
  },
  {
   "cell_type": "markdown",
   "metadata": {},
   "source": [
    "This shows there is linear relationship between price and the number of bathrooms in a house"
   ]
  },
  {
   "cell_type": "code",
   "execution_count": 48,
   "metadata": {},
   "outputs": [
    {
     "data": {
      "text/plain": [
       "<matplotlib.collections.PathCollection at 0x257a3116ca0>"
      ]
     },
     "execution_count": 48,
     "metadata": {},
     "output_type": "execute_result"
    },
    {
     "data": {
      "image/png": "[encoded data removed]",
      "text/plain": [
       "<Figure size 432x288 with 1 Axes>"
      ]
     },
     "metadata": {
      "needs_background": "light"
     },
     "output_type": "display_data"
    }
   ],
   "source": [
    "# Showing the relationship between floors and houseprice\n",
    "plt.scatter(house_data['floors'],house_data['price'])"
   ]
  },
  {
   "cell_type": "markdown",
   "metadata": {},
   "source": [
    "The floors is a categorical variable"
   ]
  },
  {
   "cell_type": "code",
   "execution_count": 86,
   "metadata": {},
   "outputs": [
    {
     "data": {
      "text/plain": [
       "<AxesSubplot:>"
      ]
     },
     "execution_count": 86,
     "metadata": {},
     "output_type": "execute_result"
    },
    {
     "data": {
      "image/png": "[encoded data removed]",
      "text/plain": [
       "<Figure size 432x288 with 1 Axes>"
      ]
     },
     "metadata": {
      "needs_background": "light"
     },
     "output_type": "display_data"
    }
   ],
   "source": [
    "#Viewing the number of houses sold in terms of floors\n",
    "rel_house_data['floors'].value_counts().plot.bar()"
   ]
  },
  {
   "cell_type": "markdown",
   "metadata": {},
   "source": [
    "The most sold houses have only one floor followed by houses with two floors"
   ]
  },
  {
   "cell_type": "code",
   "execution_count": 84,
   "metadata": {},
   "outputs": [
    {
     "data": {
      "text/plain": [
       "<matplotlib.collections.PathCollection at 0x257a44edfd0>"
      ]
     },
     "execution_count": 84,
     "metadata": {},
     "output_type": "execute_result"
    },
    {
     "data": {
      "image/png": "[encoded data removed]",
      "text/plain": [
       "<Figure size 432x288 with 1 Axes>"
      ]
     },
     "metadata": {
      "needs_background": "light"
     },
     "output_type": "display_data"
    }
   ],
   "source": [
    "# Showing the relationship between squarefeet of the lot and houseprice\n",
    "plt.scatter(rel_house_data['sqft_lot'],rel_house_data['price'])"
   ]
  },
  {
   "cell_type": "code",
   "execution_count": 85,
   "metadata": {},
   "outputs": [
    {
     "data": {
      "text/plain": [
       "<AxesSubplot:>"
      ]
     },
     "execution_count": 85,
     "metadata": {},
     "output_type": "execute_result"
    },
    {
     "data": {
      "image/png": "[encoded data removed]",
      "text/plain": [
       "<Figure size 432x288 with 1 Axes>"
      ]
     },
     "metadata": {
      "needs_background": "light"
     },
     "output_type": "display_data"
    }
   ],
   "source": [
    "# Showing the relationship between condition and houseprice\n",
    "rel_house_data['condition'].value_counts().plot.bar()"
   ]
  },
  {
   "cell_type": "markdown",
   "metadata": {},
   "source": [
    "Most sold houses have an average condition"
   ]
  },
  {
   "cell_type": "code",
   "execution_count": 83,
   "metadata": {},
   "outputs": [
    {
     "data": {
      "text/plain": [
       "<AxesSubplot:>"
      ]
     },
     "execution_count": 83,
     "metadata": {},
     "output_type": "execute_result"
    },
    {
     "data": {
      "image/png": "[encoded data removed]",
      "text/plain": [
       "<Figure size 432x288 with 1 Axes>"
      ]
     },
     "metadata": {
      "needs_background": "light"
     },
     "output_type": "display_data"
    }
   ],
   "source": [
    "# Showing the relationship between grade and houseprice\n",
    "house_data['grade'].value_counts().plot.bar()"
   ]
  },
  {
   "cell_type": "code",
   "execution_count": 82,
   "metadata": {},
   "outputs": [
    {
     "data": {
      "text/plain": [
       "<matplotlib.collections.PathCollection at 0x257a440a160>"
      ]
     },
     "execution_count": 82,
     "metadata": {},
     "output_type": "execute_result"
    },
    {
     "data": {
      "image/png": "[encoded data removed]",
      "text/plain": [
       "<Figure size 432x288 with 1 Axes>"
      ]
     },
     "metadata": {
      "needs_background": "light"
     },
     "output_type": "display_data"
    }
   ],
   "source": [
    "# Showing the relationship between the view and houseprice\n",
    "plt.scatter(rel_house_data['view'],rel_house_data['price'])"
   ]
  },
  {
   "cell_type": "markdown",
   "metadata": {},
   "source": [
    "The view column is a categorical"
   ]
  },
  {
   "cell_type": "code",
   "execution_count": 192,
   "metadata": {},
   "outputs": [
    {
     "data": {
      "text/html": [
       "<div>\n",
       "<style scoped>\n",
       "    .dataframe tbody tr th:only-of-type {\n",
       "        vertical-align: middle;\n",
       "    }\n",
       "\n",
       "    .dataframe tbody tr th {\n",
       "        vertical-align: top;\n",
       "    }\n",
       "\n",
       "    .dataframe thead th {\n",
       "        text-align: right;\n",
       "    }\n",
       "</style>\n",
       "<table border=\"1\" class=\"dataframe\">\n",
       "  <thead>\n",
       "    <tr style=\"text-align: right;\">\n",
       "      <th></th>\n",
       "      <th>bedrooms</th>\n",
       "      <th>bathrooms</th>\n",
       "      <th>sqft_living</th>\n",
       "      <th>sqft_lot</th>\n",
       "      <th>floors</th>\n",
       "      <th>sqft_above</th>\n",
       "      <th>sqft_living15</th>\n",
       "      <th>sqft_lot15</th>\n",
       "    </tr>\n",
       "  </thead>\n",
       "  <tbody>\n",
       "    <tr>\n",
       "      <th>bedrooms</th>\n",
       "      <td>True</td>\n",
       "      <td>False</td>\n",
       "      <td>False</td>\n",
       "      <td>False</td>\n",
       "      <td>False</td>\n",
       "      <td>False</td>\n",
       "      <td>False</td>\n",
       "      <td>False</td>\n",
       "    </tr>\n",
       "    <tr>\n",
       "      <th>bathrooms</th>\n",
       "      <td>False</td>\n",
       "      <td>True</td>\n",
       "      <td>True</td>\n",
       "      <td>False</td>\n",
       "      <td>False</td>\n",
       "      <td>False</td>\n",
       "      <td>False</td>\n",
       "      <td>False</td>\n",
       "    </tr>\n",
       "    <tr>\n",
       "      <th>sqft_living</th>\n",
       "      <td>False</td>\n",
       "      <td>True</td>\n",
       "      <td>True</td>\n",
       "      <td>False</td>\n",
       "      <td>False</td>\n",
       "      <td>True</td>\n",
       "      <td>True</td>\n",
       "      <td>False</td>\n",
       "    </tr>\n",
       "    <tr>\n",
       "      <th>sqft_lot</th>\n",
       "      <td>False</td>\n",
       "      <td>False</td>\n",
       "      <td>False</td>\n",
       "      <td>True</td>\n",
       "      <td>False</td>\n",
       "      <td>False</td>\n",
       "      <td>False</td>\n",
       "      <td>False</td>\n",
       "    </tr>\n",
       "    <tr>\n",
       "      <th>floors</th>\n",
       "      <td>False</td>\n",
       "      <td>False</td>\n",
       "      <td>False</td>\n",
       "      <td>False</td>\n",
       "      <td>True</td>\n",
       "      <td>False</td>\n",
       "      <td>False</td>\n",
       "      <td>False</td>\n",
       "    </tr>\n",
       "    <tr>\n",
       "      <th>sqft_above</th>\n",
       "      <td>False</td>\n",
       "      <td>False</td>\n",
       "      <td>True</td>\n",
       "      <td>False</td>\n",
       "      <td>False</td>\n",
       "      <td>True</td>\n",
       "      <td>False</td>\n",
       "      <td>False</td>\n",
       "    </tr>\n",
       "    <tr>\n",
       "      <th>sqft_living15</th>\n",
       "      <td>False</td>\n",
       "      <td>False</td>\n",
       "      <td>True</td>\n",
       "      <td>False</td>\n",
       "      <td>False</td>\n",
       "      <td>False</td>\n",
       "      <td>True</td>\n",
       "      <td>False</td>\n",
       "    </tr>\n",
       "    <tr>\n",
       "      <th>sqft_lot15</th>\n",
       "      <td>False</td>\n",
       "      <td>False</td>\n",
       "      <td>False</td>\n",
       "      <td>False</td>\n",
       "      <td>False</td>\n",
       "      <td>False</td>\n",
       "      <td>False</td>\n",
       "      <td>True</td>\n",
       "    </tr>\n",
       "  </tbody>\n",
       "</table>\n",
       "</div>"
      ],
      "text/plain": [
       "               bedrooms  bathrooms  sqft_living  sqft_lot  floors  sqft_above  \\\n",
       "bedrooms           True      False        False     False   False       False   \n",
       "bathrooms         False       True         True     False   False       False   \n",
       "sqft_living       False       True         True     False   False        True   \n",
       "sqft_lot          False      False        False      True   False       False   \n",
       "floors            False      False        False     False    True       False   \n",
       "sqft_above        False      False         True     False   False        True   \n",
       "sqft_living15     False      False         True     False   False       False   \n",
       "sqft_lot15        False      False        False     False   False       False   \n",
       "\n",
       "               sqft_living15  sqft_lot15  \n",
       "bedrooms               False       False  \n",
       "bathrooms              False       False  \n",
       "sqft_living             True       False  \n",
       "sqft_lot               False       False  \n",
       "floors                 False       False  \n",
       "sqft_above             False       False  \n",
       "sqft_living15           True       False  \n",
       "sqft_lot15             False        True  "
      ]
     },
     "execution_count": 192,
     "metadata": {},
     "output_type": "execute_result"
    }
   ],
   "source": [
    "#checking for multicollinearity in the predictors\n",
    "abs(rel_house_data.drop(['price'],axis=1).corr())>0.75"
   ]
  },
  {
   "cell_type": "markdown",
   "metadata": {},
   "source": [
    "From the above correlations we note that sqft living has above a correlation of 0.75/\n",
    "with sqft_above,sqft_living15 and bathrooms\n",
    "We will have to drop sqft_above and sqft_living15,bathrooms"
   ]
  },
  {
   "cell_type": "code",
   "execution_count": 203,
   "metadata": {},
   "outputs": [],
   "source": [
    "# Remedy for multicollinearity\n",
    "rel_house_data=rel_house_data.drop(['bathrooms'],axis=1)"
   ]
  },
  {
   "cell_type": "code",
   "execution_count": 205,
   "metadata": {},
   "outputs": [
    {
     "data": {
      "text/plain": [
       "Index(['price', 'bedrooms', 'sqft_living', 'sqft_lot', 'floors', 'waterfront',\n",
       "       'view', 'condition', 'grade', 'sqft_basement', 'sqft_lot15'],\n",
       "      dtype='object')"
      ]
     },
     "execution_count": 205,
     "metadata": {},
     "output_type": "execute_result"
    }
   ],
   "source": [
    "#Checking to see if we have dropped the sqft_above and sqft_living15,bathrooms columns\n",
    "rel_house_data.columns"
   ]
  },
  {
   "cell_type": "markdown",
   "metadata": {},
   "source": [
    "## Modelling"
   ]
  },
  {
   "cell_type": "code",
   "execution_count": 141,
   "metadata": {},
   "outputs": [],
   "source": [
    "#Load the relevant libraries\n",
    "import statsmodels.api as sm"
   ]
  },
  {
   "cell_type": "markdown",
   "metadata": {},
   "source": [
    "## Simple multiple linear regression"
   ]
  },
  {
   "cell_type": "code",
   "execution_count": 206,
   "metadata": {},
   "outputs": [],
   "source": [
    "# Formulating the dummy variables for  bedrooms,floors,\n",
    "co1_rel_house=rel_house_data.copy()\n",
    "co1_rel_house=co1_rel_house.drop(['price'],axis=1)\n",
    "#Converting bedrooms,floors,bathrooms to category  \n",
    "co1_rel_house['bedrooms']=co1_rel_house['bedrooms'].astype('category')\n",
    "co1_rel_house['floors']=co1_rel_house['floors'].astype('category')\n",
    "\n",
    "#finding\n",
    "co1_rel_house=pd.get_dummies(co1_rel_house,columns=['bedrooms','floors'])\n",
    "#Choosing the reference category as houses with three bedrooms and one floor\n",
    "co1_rel_house=co1_rel_house.drop(['bedrooms_3','floors_1.0'],axis=1)\n"
   ]
  },
  {
   "cell_type": "code",
   "execution_count": 207,
   "metadata": {},
   "outputs": [],
   "source": [
    "#Getting the dummy variables\n",
    "co1_rel_house=pd.get_dummies(co1_rel_house,columns=['view','waterfront','condition','grade'],drop_first=True)\n"
   ]
  },
  {
   "cell_type": "code",
   "execution_count": 208,
   "metadata": {},
   "outputs": [],
   "source": [
    "#Removing the sqft_basement column\n",
    "co1_rel_house=co1_rel_house.drop(['sqft_basement'],axis=1)\n"
   ]
  },
  {
   "cell_type": "code",
   "execution_count": 209,
   "metadata": {},
   "outputs": [
    {
     "name": "stdout",
     "output_type": "stream",
     "text": [
      "<class 'pandas.core.frame.DataFrame'>\n",
      "RangeIndex: 21597 entries, 0 to 21596\n",
      "Data columns (total 38 columns):\n",
      " #   Column               Non-Null Count  Dtype\n",
      "---  ------               --------------  -----\n",
      " 0   sqft_living          21597 non-null  int64\n",
      " 1   sqft_lot             21597 non-null  int64\n",
      " 2   sqft_lot15           21597 non-null  int64\n",
      " 3   bedrooms_1           21597 non-null  uint8\n",
      " 4   bedrooms_2           21597 non-null  uint8\n",
      " 5   bedrooms_4           21597 non-null  uint8\n",
      " 6   bedrooms_5           21597 non-null  uint8\n",
      " 7   bedrooms_6           21597 non-null  uint8\n",
      " 8   bedrooms_7           21597 non-null  uint8\n",
      " 9   bedrooms_8           21597 non-null  uint8\n",
      " 10  bedrooms_9           21597 non-null  uint8\n",
      " 11  bedrooms_10          21597 non-null  uint8\n",
      " 12  bedrooms_11          21597 non-null  uint8\n",
      " 13  bedrooms_33          21597 non-null  uint8\n",
      " 14  floors_1.5           21597 non-null  uint8\n",
      " 15  floors_2.0           21597 non-null  uint8\n",
      " 16  floors_2.5           21597 non-null  uint8\n",
      " 17  floors_3.0           21597 non-null  uint8\n",
      " 18  floors_3.5           21597 non-null  uint8\n",
      " 19  view_EXCELLENT       21597 non-null  uint8\n",
      " 20  view_FAIR            21597 non-null  uint8\n",
      " 21  view_GOOD            21597 non-null  uint8\n",
      " 22  view_NONE            21597 non-null  uint8\n",
      " 23  waterfront_YES       21597 non-null  uint8\n",
      " 24  condition_Fair       21597 non-null  uint8\n",
      " 25  condition_Good       21597 non-null  uint8\n",
      " 26  condition_Poor       21597 non-null  uint8\n",
      " 27  condition_Very Good  21597 non-null  uint8\n",
      " 28  grade_11 Excellent   21597 non-null  uint8\n",
      " 29  grade_12 Luxury      21597 non-null  uint8\n",
      " 30  grade_13 Mansion     21597 non-null  uint8\n",
      " 31  grade_3 Poor         21597 non-null  uint8\n",
      " 32  grade_4 Low          21597 non-null  uint8\n",
      " 33  grade_5 Fair         21597 non-null  uint8\n",
      " 34  grade_6 Low Average  21597 non-null  uint8\n",
      " 35  grade_7 Average      21597 non-null  uint8\n",
      " 36  grade_8 Good         21597 non-null  uint8\n",
      " 37  grade_9 Better       21597 non-null  uint8\n",
      "dtypes: int64(3), uint8(35)\n",
      "memory usage: 1.2 MB\n"
     ]
    }
   ],
   "source": [
    "#Viewing the contents to see the dummy variables\n",
    "co1_rel_house.info()"
   ]
  },
  {
   "cell_type": "code",
   "execution_count": 210,
   "metadata": {},
   "outputs": [
    {
     "data": {
      "text/plain": [
       "Index(['sqft_living', 'sqft_lot', 'sqft_lot15', 'bedrooms_1', 'bedrooms_2',\n",
       "       'bedrooms_4', 'bedrooms_5', 'bedrooms_6', 'bedrooms_7', 'bedrooms_8',\n",
       "       'bedrooms_9', 'bedrooms_10', 'bedrooms_11', 'bedrooms_33', 'floors_1.5',\n",
       "       'floors_2.0', 'floors_2.5', 'floors_3.0', 'floors_3.5',\n",
       "       'view_EXCELLENT', 'view_FAIR', 'view_GOOD', 'view_NONE',\n",
       "       'waterfront_YES', 'condition_Fair', 'condition_Good', 'condition_Poor',\n",
       "       'condition_Very Good', 'grade_11 Excellent', 'grade_12 Luxury',\n",
       "       'grade_13 Mansion', 'grade_3 Poor', 'grade_4 Low', 'grade_5 Fair',\n",
       "       'grade_6 Low Average', 'grade_7 Average', 'grade_8 Good',\n",
       "       'grade_9 Better'],\n",
       "      dtype='object')"
      ]
     },
     "execution_count": 210,
     "metadata": {},
     "output_type": "execute_result"
    }
   ],
   "source": [
    "co1_rel_house.columns"
   ]
  },
  {
   "cell_type": "code",
   "execution_count": 211,
   "metadata": {},
   "outputs": [],
   "source": [
    "Xs=co1_rel_house[['sqft_living', 'sqft_lot','sqft_lot15', \n",
    "                  'bedrooms_1', 'bedrooms_2', 'bedrooms_4', 'bedrooms_5',\n",
    "                  'bedrooms_6', 'bedrooms_7', 'bedrooms_8', 'bedrooms_9', 'bedrooms_10',\n",
    "                  'bedrooms_11', 'bedrooms_33', 'floors_1.5', 'floors_2.0', 'floors_2.5',\n",
    "                  'floors_3.0', 'floors_3.5', 'view_EXCELLENT', 'view_FAIR', 'view_GOOD',\n",
    "                  'view_NONE', 'waterfront_YES', 'condition_Fair', 'condition_Good',\n",
    "                  'condition_Poor', 'condition_Very Good', 'grade_11 Excellent',\n",
    "                  'grade_12 Luxury', 'grade_13 Mansion', 'grade_3 Poor', 'grade_4 Low',\n",
    "                  'grade_5 Fair', 'grade_6 Low Average', 'grade_7 Average',\n",
    "                  'grade_8 Good', 'grade_9 Better']]"
   ]
  },
  {
   "cell_type": "code",
   "execution_count": 212,
   "metadata": {},
   "outputs": [
    {
     "data": {
      "text/html": [
       "<table class=\"simpletable\">\n",
       "<caption>OLS Regression Results</caption>\n",
       "<tr>\n",
       "  <th>Dep. Variable:</th>          <td>price</td>      <th>  R-squared:         </th>  <td>   0.656</td>  \n",
       "</tr>\n",
       "<tr>\n",
       "  <th>Model:</th>                   <td>OLS</td>       <th>  Adj. R-squared:    </th>  <td>   0.655</td>  \n",
       "</tr>\n",
       "<tr>\n",
       "  <th>Method:</th>             <td>Least Squares</td>  <th>  F-statistic:       </th>  <td>   1082.</td>  \n",
       "</tr>\n",
       "<tr>\n",
       "  <th>Date:</th>             <td>Fri, 30 Sep 2022</td> <th>  Prob (F-statistic):</th>   <td>  0.00</td>   \n",
       "</tr>\n",
       "<tr>\n",
       "  <th>Time:</th>                 <td>10:44:43</td>     <th>  Log-Likelihood:    </th> <td>-2.9587e+05</td>\n",
       "</tr>\n",
       "<tr>\n",
       "  <th>No. Observations:</th>      <td> 21597</td>      <th>  AIC:               </th>  <td>5.918e+05</td> \n",
       "</tr>\n",
       "<tr>\n",
       "  <th>Df Residuals:</th>          <td> 21558</td>      <th>  BIC:               </th>  <td>5.921e+05</td> \n",
       "</tr>\n",
       "<tr>\n",
       "  <th>Df Model:</th>              <td>    38</td>      <th>                     </th>      <td> </td>     \n",
       "</tr>\n",
       "<tr>\n",
       "  <th>Covariance Type:</th>      <td>nonrobust</td>    <th>                     </th>      <td> </td>     \n",
       "</tr>\n",
       "</table>\n",
       "<table class=\"simpletable\">\n",
       "<tr>\n",
       "           <td></td>              <th>coef</th>     <th>std err</th>      <th>t</th>      <th>P>|t|</th>  <th>[0.025</th>    <th>0.975]</th>  \n",
       "</tr>\n",
       "<tr>\n",
       "  <th>const</th>               <td> 5.677e+05</td> <td>  1.4e+04</td> <td>   40.492</td> <td> 0.000</td> <td>  5.4e+05</td> <td> 5.95e+05</td>\n",
       "</tr>\n",
       "<tr>\n",
       "  <th>sqft_living</th>         <td>  163.8687</td> <td>    3.167</td> <td>   51.742</td> <td> 0.000</td> <td>  157.661</td> <td>  170.076</td>\n",
       "</tr>\n",
       "<tr>\n",
       "  <th>sqft_lot</th>            <td>   -0.0455</td> <td>    0.051</td> <td>   -0.888</td> <td> 0.374</td> <td>   -0.146</td> <td>    0.055</td>\n",
       "</tr>\n",
       "<tr>\n",
       "  <th>sqft_lot15</th>          <td>   -0.7153</td> <td>    0.078</td> <td>   -9.177</td> <td> 0.000</td> <td>   -0.868</td> <td>   -0.562</td>\n",
       "</tr>\n",
       "<tr>\n",
       "  <th>bedrooms_1</th>          <td> 7.241e+04</td> <td> 1.63e+04</td> <td>    4.450</td> <td> 0.000</td> <td> 4.05e+04</td> <td> 1.04e+05</td>\n",
       "</tr>\n",
       "<tr>\n",
       "  <th>bedrooms_2</th>          <td> 6.858e+04</td> <td> 4962.564</td> <td>   13.819</td> <td> 0.000</td> <td> 5.89e+04</td> <td> 7.83e+04</td>\n",
       "</tr>\n",
       "<tr>\n",
       "  <th>bedrooms_4</th>          <td>-2.917e+04</td> <td> 3788.765</td> <td>   -7.700</td> <td> 0.000</td> <td>-3.66e+04</td> <td>-2.17e+04</td>\n",
       "</tr>\n",
       "<tr>\n",
       "  <th>bedrooms_5</th>          <td>-9008.4725</td> <td> 6469.694</td> <td>   -1.392</td> <td> 0.164</td> <td>-2.17e+04</td> <td> 3672.607</td>\n",
       "</tr>\n",
       "<tr>\n",
       "  <th>bedrooms_6</th>          <td>-1.047e+04</td> <td> 1.38e+04</td> <td>   -0.760</td> <td> 0.447</td> <td>-3.75e+04</td> <td> 1.65e+04</td>\n",
       "</tr>\n",
       "<tr>\n",
       "  <th>bedrooms_7</th>          <td>-4.269e+04</td> <td> 3.55e+04</td> <td>   -1.203</td> <td> 0.229</td> <td>-1.12e+05</td> <td> 2.69e+04</td>\n",
       "</tr>\n",
       "<tr>\n",
       "  <th>bedrooms_8</th>          <td> 1.979e+05</td> <td> 6.04e+04</td> <td>    3.274</td> <td> 0.001</td> <td> 7.94e+04</td> <td> 3.16e+05</td>\n",
       "</tr>\n",
       "<tr>\n",
       "  <th>bedrooms_9</th>          <td> 3.115e+04</td> <td> 8.85e+04</td> <td>    0.352</td> <td> 0.725</td> <td>-1.42e+05</td> <td> 2.05e+05</td>\n",
       "</tr>\n",
       "<tr>\n",
       "  <th>bedrooms_10</th>         <td> 1.588e+04</td> <td> 1.25e+05</td> <td>    0.127</td> <td> 0.899</td> <td>-2.29e+05</td> <td>  2.6e+05</td>\n",
       "</tr>\n",
       "<tr>\n",
       "  <th>bedrooms_11</th>         <td>-3.347e+04</td> <td> 2.16e+05</td> <td>   -0.155</td> <td> 0.877</td> <td>-4.56e+05</td> <td> 3.89e+05</td>\n",
       "</tr>\n",
       "<tr>\n",
       "  <th>bedrooms_33</th>         <td> 1.655e+05</td> <td> 2.16e+05</td> <td>    0.767</td> <td> 0.443</td> <td>-2.57e+05</td> <td> 5.88e+05</td>\n",
       "</tr>\n",
       "<tr>\n",
       "  <th>floors_1.5</th>          <td> 8.359e+04</td> <td> 5415.013</td> <td>   15.437</td> <td> 0.000</td> <td>  7.3e+04</td> <td> 9.42e+04</td>\n",
       "</tr>\n",
       "<tr>\n",
       "  <th>floors_2.0</th>          <td>-3.043e+04</td> <td> 3890.791</td> <td>   -7.821</td> <td> 0.000</td> <td>-3.81e+04</td> <td>-2.28e+04</td>\n",
       "</tr>\n",
       "<tr>\n",
       "  <th>floors_2.5</th>          <td>  1.58e+05</td> <td> 1.74e+04</td> <td>    9.056</td> <td> 0.000</td> <td> 1.24e+05</td> <td> 1.92e+05</td>\n",
       "</tr>\n",
       "<tr>\n",
       "  <th>floors_3.0</th>          <td> 4.736e+04</td> <td> 9397.868</td> <td>    5.040</td> <td> 0.000</td> <td> 2.89e+04</td> <td> 6.58e+04</td>\n",
       "</tr>\n",
       "<tr>\n",
       "  <th>floors_3.5</th>          <td> 1.193e+05</td> <td> 8.21e+04</td> <td>    1.452</td> <td> 0.146</td> <td>-4.17e+04</td> <td>  2.8e+05</td>\n",
       "</tr>\n",
       "<tr>\n",
       "  <th>view_EXCELLENT</th>      <td> 1.958e+05</td> <td> 1.64e+04</td> <td>   11.966</td> <td> 0.000</td> <td> 1.64e+05</td> <td> 2.28e+05</td>\n",
       "</tr>\n",
       "<tr>\n",
       "  <th>view_FAIR</th>           <td> 6.444e+04</td> <td> 1.38e+04</td> <td>    4.673</td> <td> 0.000</td> <td> 3.74e+04</td> <td> 9.15e+04</td>\n",
       "</tr>\n",
       "<tr>\n",
       "  <th>view_GOOD</th>           <td> 6.277e+04</td> <td> 1.19e+04</td> <td>    5.283</td> <td> 0.000</td> <td> 3.95e+04</td> <td> 8.61e+04</td>\n",
       "</tr>\n",
       "<tr>\n",
       "  <th>view_NONE</th>           <td>-8.584e+04</td> <td> 7274.090</td> <td>  -11.800</td> <td> 0.000</td> <td>   -1e+05</td> <td>-7.16e+04</td>\n",
       "</tr>\n",
       "<tr>\n",
       "  <th>waterfront_YES</th>      <td>  5.43e+05</td> <td> 2.19e+04</td> <td>   24.838</td> <td> 0.000</td> <td>    5e+05</td> <td> 5.86e+05</td>\n",
       "</tr>\n",
       "<tr>\n",
       "  <th>condition_Fair</th>      <td> 2853.6525</td> <td> 1.68e+04</td> <td>    0.170</td> <td> 0.865</td> <td>-3.01e+04</td> <td> 3.58e+04</td>\n",
       "</tr>\n",
       "<tr>\n",
       "  <th>condition_Good</th>      <td> 4.472e+04</td> <td> 3587.552</td> <td>   12.465</td> <td> 0.000</td> <td> 3.77e+04</td> <td> 5.17e+04</td>\n",
       "</tr>\n",
       "<tr>\n",
       "  <th>condition_Poor</th>      <td> 9441.9475</td> <td> 4.04e+04</td> <td>    0.234</td> <td> 0.815</td> <td>-6.98e+04</td> <td> 8.87e+04</td>\n",
       "</tr>\n",
       "<tr>\n",
       "  <th>condition_Very Good</th> <td> 1.166e+05</td> <td> 5722.994</td> <td>   20.372</td> <td> 0.000</td> <td> 1.05e+05</td> <td> 1.28e+05</td>\n",
       "</tr>\n",
       "<tr>\n",
       "  <th>grade_11 Excellent</th>  <td> 2.561e+05</td> <td> 1.28e+04</td> <td>   20.001</td> <td> 0.000</td> <td> 2.31e+05</td> <td> 2.81e+05</td>\n",
       "</tr>\n",
       "<tr>\n",
       "  <th>grade_12 Luxury</th>     <td> 7.155e+05</td> <td> 2.45e+04</td> <td>   29.207</td> <td> 0.000</td> <td> 6.68e+05</td> <td> 7.64e+05</td>\n",
       "</tr>\n",
       "<tr>\n",
       "  <th>grade_13 Mansion</th>    <td> 1.903e+06</td> <td> 6.14e+04</td> <td>   30.982</td> <td> 0.000</td> <td> 1.78e+06</td> <td> 2.02e+06</td>\n",
       "</tr>\n",
       "<tr>\n",
       "  <th>grade_3 Poor</th>        <td>-4.848e+05</td> <td> 2.17e+05</td> <td>   -2.239</td> <td> 0.025</td> <td>-9.09e+05</td> <td>-6.03e+04</td>\n",
       "</tr>\n",
       "<tr>\n",
       "  <th>grade_4 Low</th>         <td>-4.771e+05</td> <td> 4.33e+04</td> <td>  -11.007</td> <td> 0.000</td> <td>-5.62e+05</td> <td>-3.92e+05</td>\n",
       "</tr>\n",
       "<tr>\n",
       "  <th>grade_5 Fair</th>        <td>-4.853e+05</td> <td> 1.71e+04</td> <td>  -28.327</td> <td> 0.000</td> <td>-5.19e+05</td> <td>-4.52e+05</td>\n",
       "</tr>\n",
       "<tr>\n",
       "  <th>grade_6 Low Average</th> <td>-4.433e+05</td> <td> 1.04e+04</td> <td>  -42.501</td> <td> 0.000</td> <td>-4.64e+05</td> <td>-4.23e+05</td>\n",
       "</tr>\n",
       "<tr>\n",
       "  <th>grade_7 Average</th>     <td>-3.858e+05</td> <td> 8641.609</td> <td>  -44.650</td> <td> 0.000</td> <td>-4.03e+05</td> <td>-3.69e+05</td>\n",
       "</tr>\n",
       "<tr>\n",
       "  <th>grade_8 Good</th>        <td>-3.127e+05</td> <td> 7919.722</td> <td>  -39.482</td> <td> 0.000</td> <td>-3.28e+05</td> <td>-2.97e+05</td>\n",
       "</tr>\n",
       "<tr>\n",
       "  <th>grade_9 Better</th>      <td>-1.785e+05</td> <td> 7893.376</td> <td>  -22.610</td> <td> 0.000</td> <td>-1.94e+05</td> <td>-1.63e+05</td>\n",
       "</tr>\n",
       "</table>\n",
       "<table class=\"simpletable\">\n",
       "<tr>\n",
       "  <th>Omnibus:</th>       <td>11939.324</td> <th>  Durbin-Watson:     </th>  <td>   1.986</td> \n",
       "</tr>\n",
       "<tr>\n",
       "  <th>Prob(Omnibus):</th>  <td> 0.000</td>   <th>  Jarque-Bera (JB):  </th> <td>367015.366</td>\n",
       "</tr>\n",
       "<tr>\n",
       "  <th>Skew:</th>           <td> 2.094</td>   <th>  Prob(JB):          </th>  <td>    0.00</td> \n",
       "</tr>\n",
       "<tr>\n",
       "  <th>Kurtosis:</th>       <td>22.756</td>   <th>  Cond. No.          </th>  <td>7.46e+06</td> \n",
       "</tr>\n",
       "</table><br/><br/>Notes:<br/>[1] Standard Errors assume that the covariance matrix of the errors is correctly specified.<br/>[2] The condition number is large, 7.46e+06. This might indicate that there are<br/>strong multicollinearity or other numerical problems."
      ],
      "text/plain": [
       "<class 'statsmodels.iolib.summary.Summary'>\n",
       "\"\"\"\n",
       "                            OLS Regression Results                            \n",
       "==============================================================================\n",
       "Dep. Variable:                  price   R-squared:                       0.656\n",
       "Model:                            OLS   Adj. R-squared:                  0.655\n",
       "Method:                 Least Squares   F-statistic:                     1082.\n",
       "Date:                Fri, 30 Sep 2022   Prob (F-statistic):               0.00\n",
       "Time:                        10:44:43   Log-Likelihood:            -2.9587e+05\n",
       "No. Observations:               21597   AIC:                         5.918e+05\n",
       "Df Residuals:                   21558   BIC:                         5.921e+05\n",
       "Df Model:                          38                                         \n",
       "Covariance Type:            nonrobust                                         \n",
       "=======================================================================================\n",
       "                          coef    std err          t      P>|t|      [0.025      0.975]\n",
       "---------------------------------------------------------------------------------------\n",
       "const                5.677e+05    1.4e+04     40.492      0.000     5.4e+05    5.95e+05\n",
       "sqft_living           163.8687      3.167     51.742      0.000     157.661     170.076\n",
       "sqft_lot               -0.0455      0.051     -0.888      0.374      -0.146       0.055\n",
       "sqft_lot15             -0.7153      0.078     -9.177      0.000      -0.868      -0.562\n",
       "bedrooms_1           7.241e+04   1.63e+04      4.450      0.000    4.05e+04    1.04e+05\n",
       "bedrooms_2           6.858e+04   4962.564     13.819      0.000    5.89e+04    7.83e+04\n",
       "bedrooms_4          -2.917e+04   3788.765     -7.700      0.000   -3.66e+04   -2.17e+04\n",
       "bedrooms_5          -9008.4725   6469.694     -1.392      0.164   -2.17e+04    3672.607\n",
       "bedrooms_6          -1.047e+04   1.38e+04     -0.760      0.447   -3.75e+04    1.65e+04\n",
       "bedrooms_7          -4.269e+04   3.55e+04     -1.203      0.229   -1.12e+05    2.69e+04\n",
       "bedrooms_8           1.979e+05   6.04e+04      3.274      0.001    7.94e+04    3.16e+05\n",
       "bedrooms_9           3.115e+04   8.85e+04      0.352      0.725   -1.42e+05    2.05e+05\n",
       "bedrooms_10          1.588e+04   1.25e+05      0.127      0.899   -2.29e+05     2.6e+05\n",
       "bedrooms_11         -3.347e+04   2.16e+05     -0.155      0.877   -4.56e+05    3.89e+05\n",
       "bedrooms_33          1.655e+05   2.16e+05      0.767      0.443   -2.57e+05    5.88e+05\n",
       "floors_1.5           8.359e+04   5415.013     15.437      0.000     7.3e+04    9.42e+04\n",
       "floors_2.0          -3.043e+04   3890.791     -7.821      0.000   -3.81e+04   -2.28e+04\n",
       "floors_2.5            1.58e+05   1.74e+04      9.056      0.000    1.24e+05    1.92e+05\n",
       "floors_3.0           4.736e+04   9397.868      5.040      0.000    2.89e+04    6.58e+04\n",
       "floors_3.5           1.193e+05   8.21e+04      1.452      0.146   -4.17e+04     2.8e+05\n",
       "view_EXCELLENT       1.958e+05   1.64e+04     11.966      0.000    1.64e+05    2.28e+05\n",
       "view_FAIR            6.444e+04   1.38e+04      4.673      0.000    3.74e+04    9.15e+04\n",
       "view_GOOD            6.277e+04   1.19e+04      5.283      0.000    3.95e+04    8.61e+04\n",
       "view_NONE           -8.584e+04   7274.090    -11.800      0.000      -1e+05   -7.16e+04\n",
       "waterfront_YES        5.43e+05   2.19e+04     24.838      0.000       5e+05    5.86e+05\n",
       "condition_Fair       2853.6525   1.68e+04      0.170      0.865   -3.01e+04    3.58e+04\n",
       "condition_Good       4.472e+04   3587.552     12.465      0.000    3.77e+04    5.17e+04\n",
       "condition_Poor       9441.9475   4.04e+04      0.234      0.815   -6.98e+04    8.87e+04\n",
       "condition_Very Good  1.166e+05   5722.994     20.372      0.000    1.05e+05    1.28e+05\n",
       "grade_11 Excellent   2.561e+05   1.28e+04     20.001      0.000    2.31e+05    2.81e+05\n",
       "grade_12 Luxury      7.155e+05   2.45e+04     29.207      0.000    6.68e+05    7.64e+05\n",
       "grade_13 Mansion     1.903e+06   6.14e+04     30.982      0.000    1.78e+06    2.02e+06\n",
       "grade_3 Poor        -4.848e+05   2.17e+05     -2.239      0.025   -9.09e+05   -6.03e+04\n",
       "grade_4 Low         -4.771e+05   4.33e+04    -11.007      0.000   -5.62e+05   -3.92e+05\n",
       "grade_5 Fair        -4.853e+05   1.71e+04    -28.327      0.000   -5.19e+05   -4.52e+05\n",
       "grade_6 Low Average -4.433e+05   1.04e+04    -42.501      0.000   -4.64e+05   -4.23e+05\n",
       "grade_7 Average     -3.858e+05   8641.609    -44.650      0.000   -4.03e+05   -3.69e+05\n",
       "grade_8 Good        -3.127e+05   7919.722    -39.482      0.000   -3.28e+05   -2.97e+05\n",
       "grade_9 Better      -1.785e+05   7893.376    -22.610      0.000   -1.94e+05   -1.63e+05\n",
       "==============================================================================\n",
       "Omnibus:                    11939.324   Durbin-Watson:                   1.986\n",
       "Prob(Omnibus):                  0.000   Jarque-Bera (JB):           367015.366\n",
       "Skew:                           2.094   Prob(JB):                         0.00\n",
       "Kurtosis:                      22.756   Cond. No.                     7.46e+06\n",
       "==============================================================================\n",
       "\n",
       "Notes:\n",
       "[1] Standard Errors assume that the covariance matrix of the errors is correctly specified.\n",
       "[2] The condition number is large, 7.46e+06. This might indicate that there are\n",
       "strong multicollinearity or other numerical problems.\n",
       "\"\"\""
      ]
     },
     "execution_count": 212,
     "metadata": {},
     "output_type": "execute_result"
    }
   ],
   "source": [
    "model3=sm.OLS(endog=rel_house_data['price'],exog=sm.add_constant(Xs))\n",
    "results3=model3.fit()\n",
    "results3.summary()"
   ]
  },
  {
   "cell_type": "code",
   "execution_count": 213,
   "metadata": {},
   "outputs": [
    {
     "data": {
      "text/plain": [
       "(1.067022070426849, 0.0003797148296850165)"
      ]
     },
     "execution_count": 213,
     "metadata": {},
     "output_type": "execute_result"
    }
   ],
   "source": [
    "#checkin for linearity of model3\n",
    "from statsmodels.stats.diagnostic import linear_rainbow\n",
    "linear_rainbow(results3)"
   ]
  },
  {
   "cell_type": "markdown",
   "metadata": {},
   "source": [
    "Since the pvalue is less than 0.05 we note that the model is not linear,we perform log transformation on the price column "
   ]
  },
  {
   "cell_type": "code",
   "execution_count": 214,
   "metadata": {},
   "outputs": [],
   "source": [
    "#Getting the logarithm of price column\n",
    "rel_house_data['logprice']=np.log(rel_house_data['price'])"
   ]
  },
  {
   "cell_type": "code",
   "execution_count": 215,
   "metadata": {},
   "outputs": [
    {
     "data": {
      "text/html": [
       "<table class=\"simpletable\">\n",
       "<caption>OLS Regression Results</caption>\n",
       "<tr>\n",
       "  <th>Dep. Variable:</th>        <td>logprice</td>     <th>  R-squared:         </th> <td>   0.611</td> \n",
       "</tr>\n",
       "<tr>\n",
       "  <th>Model:</th>                   <td>OLS</td>       <th>  Adj. R-squared:    </th> <td>   0.610</td> \n",
       "</tr>\n",
       "<tr>\n",
       "  <th>Method:</th>             <td>Least Squares</td>  <th>  F-statistic:       </th> <td>   891.7</td> \n",
       "</tr>\n",
       "<tr>\n",
       "  <th>Date:</th>             <td>Fri, 30 Sep 2022</td> <th>  Prob (F-statistic):</th>  <td>  0.00</td>  \n",
       "</tr>\n",
       "<tr>\n",
       "  <th>Time:</th>                 <td>11:54:31</td>     <th>  Log-Likelihood:    </th> <td> -6592.0</td> \n",
       "</tr>\n",
       "<tr>\n",
       "  <th>No. Observations:</th>      <td> 21597</td>      <th>  AIC:               </th> <td>1.326e+04</td>\n",
       "</tr>\n",
       "<tr>\n",
       "  <th>Df Residuals:</th>          <td> 21558</td>      <th>  BIC:               </th> <td>1.357e+04</td>\n",
       "</tr>\n",
       "<tr>\n",
       "  <th>Df Model:</th>              <td>    38</td>      <th>                     </th>     <td> </td>    \n",
       "</tr>\n",
       "<tr>\n",
       "  <th>Covariance Type:</th>      <td>nonrobust</td>    <th>                     </th>     <td> </td>    \n",
       "</tr>\n",
       "</table>\n",
       "<table class=\"simpletable\">\n",
       "<tr>\n",
       "           <td></td>              <th>coef</th>     <th>std err</th>      <th>t</th>      <th>P>|t|</th>  <th>[0.025</th>    <th>0.975]</th>  \n",
       "</tr>\n",
       "<tr>\n",
       "  <th>const</th>               <td>   13.1220</td> <td>    0.021</td> <td>  614.139</td> <td> 0.000</td> <td>   13.080</td> <td>   13.164</td>\n",
       "</tr>\n",
       "<tr>\n",
       "  <th>sqft_living</th>         <td>    0.0002</td> <td> 4.83e-06</td> <td>   45.919</td> <td> 0.000</td> <td>    0.000</td> <td>    0.000</td>\n",
       "</tr>\n",
       "<tr>\n",
       "  <th>sqft_lot</th>            <td> 1.174e-07</td> <td>  7.8e-08</td> <td>    1.506</td> <td> 0.132</td> <td>-3.54e-08</td> <td>  2.7e-07</td>\n",
       "</tr>\n",
       "<tr>\n",
       "  <th>sqft_lot15</th>          <td>-7.441e-07</td> <td> 1.19e-07</td> <td>   -6.264</td> <td> 0.000</td> <td>-9.77e-07</td> <td>-5.11e-07</td>\n",
       "</tr>\n",
       "<tr>\n",
       "  <th>bedrooms_1</th>          <td>    0.1068</td> <td>    0.025</td> <td>    4.309</td> <td> 0.000</td> <td>    0.058</td> <td>    0.155</td>\n",
       "</tr>\n",
       "<tr>\n",
       "  <th>bedrooms_2</th>          <td>    0.1152</td> <td>    0.008</td> <td>   15.227</td> <td> 0.000</td> <td>    0.100</td> <td>    0.130</td>\n",
       "</tr>\n",
       "<tr>\n",
       "  <th>bedrooms_4</th>          <td>   -0.0085</td> <td>    0.006</td> <td>   -1.473</td> <td> 0.141</td> <td>   -0.020</td> <td>    0.003</td>\n",
       "</tr>\n",
       "<tr>\n",
       "  <th>bedrooms_5</th>          <td>    0.0005</td> <td>    0.010</td> <td>    0.055</td> <td> 0.956</td> <td>   -0.019</td> <td>    0.020</td>\n",
       "</tr>\n",
       "<tr>\n",
       "  <th>bedrooms_6</th>          <td>   -0.0105</td> <td>    0.021</td> <td>   -0.498</td> <td> 0.618</td> <td>   -0.052</td> <td>    0.031</td>\n",
       "</tr>\n",
       "<tr>\n",
       "  <th>bedrooms_7</th>          <td>   -0.1035</td> <td>    0.054</td> <td>   -1.914</td> <td> 0.056</td> <td>   -0.209</td> <td>    0.002</td>\n",
       "</tr>\n",
       "<tr>\n",
       "  <th>bedrooms_8</th>          <td>    0.1578</td> <td>    0.092</td> <td>    1.714</td> <td> 0.087</td> <td>   -0.023</td> <td>    0.338</td>\n",
       "</tr>\n",
       "<tr>\n",
       "  <th>bedrooms_9</th>          <td>    0.2207</td> <td>    0.135</td> <td>    1.637</td> <td> 0.102</td> <td>   -0.043</td> <td>    0.485</td>\n",
       "</tr>\n",
       "<tr>\n",
       "  <th>bedrooms_10</th>         <td>    0.1541</td> <td>    0.190</td> <td>    0.811</td> <td> 0.417</td> <td>   -0.218</td> <td>    0.527</td>\n",
       "</tr>\n",
       "<tr>\n",
       "  <th>bedrooms_11</th>         <td>    0.1362</td> <td>    0.329</td> <td>    0.414</td> <td> 0.679</td> <td>   -0.508</td> <td>    0.781</td>\n",
       "</tr>\n",
       "<tr>\n",
       "  <th>bedrooms_33</th>         <td>    0.4320</td> <td>    0.329</td> <td>    1.314</td> <td> 0.189</td> <td>   -0.212</td> <td>    1.076</td>\n",
       "</tr>\n",
       "<tr>\n",
       "  <th>floors_1.5</th>          <td>    0.1843</td> <td>    0.008</td> <td>   22.335</td> <td> 0.000</td> <td>    0.168</td> <td>    0.200</td>\n",
       "</tr>\n",
       "<tr>\n",
       "  <th>floors_2.0</th>          <td>   -0.0262</td> <td>    0.006</td> <td>   -4.413</td> <td> 0.000</td> <td>   -0.038</td> <td>   -0.015</td>\n",
       "</tr>\n",
       "<tr>\n",
       "  <th>floors_2.5</th>          <td>    0.1452</td> <td>    0.027</td> <td>    5.464</td> <td> 0.000</td> <td>    0.093</td> <td>    0.197</td>\n",
       "</tr>\n",
       "<tr>\n",
       "  <th>floors_3.0</th>          <td>    0.1002</td> <td>    0.014</td> <td>    6.997</td> <td> 0.000</td> <td>    0.072</td> <td>    0.128</td>\n",
       "</tr>\n",
       "<tr>\n",
       "  <th>floors_3.5</th>          <td>    0.0896</td> <td>    0.125</td> <td>    0.716</td> <td> 0.474</td> <td>   -0.156</td> <td>    0.335</td>\n",
       "</tr>\n",
       "<tr>\n",
       "  <th>view_EXCELLENT</th>      <td>    0.1583</td> <td>    0.025</td> <td>    6.349</td> <td> 0.000</td> <td>    0.109</td> <td>    0.207</td>\n",
       "</tr>\n",
       "<tr>\n",
       "  <th>view_FAIR</th>           <td>    0.0766</td> <td>    0.021</td> <td>    3.647</td> <td> 0.000</td> <td>    0.035</td> <td>    0.118</td>\n",
       "</tr>\n",
       "<tr>\n",
       "  <th>view_GOOD</th>           <td>    0.0404</td> <td>    0.018</td> <td>    2.232</td> <td> 0.026</td> <td>    0.005</td> <td>    0.076</td>\n",
       "</tr>\n",
       "<tr>\n",
       "  <th>view_NONE</th>           <td>   -0.1515</td> <td>    0.011</td> <td>  -13.664</td> <td> 0.000</td> <td>   -0.173</td> <td>   -0.130</td>\n",
       "</tr>\n",
       "<tr>\n",
       "  <th>waterfront_YES</th>      <td>    0.3399</td> <td>    0.033</td> <td>   10.204</td> <td> 0.000</td> <td>    0.275</td> <td>    0.405</td>\n",
       "</tr>\n",
       "<tr>\n",
       "  <th>condition_Fair</th>      <td>   -0.1122</td> <td>    0.026</td> <td>   -4.377</td> <td> 0.000</td> <td>   -0.162</td> <td>   -0.062</td>\n",
       "</tr>\n",
       "<tr>\n",
       "  <th>condition_Good</th>      <td>    0.0698</td> <td>    0.005</td> <td>   12.768</td> <td> 0.000</td> <td>    0.059</td> <td>    0.081</td>\n",
       "</tr>\n",
       "<tr>\n",
       "  <th>condition_Poor</th>      <td>   -0.0541</td> <td>    0.062</td> <td>   -0.879</td> <td> 0.379</td> <td>   -0.175</td> <td>    0.067</td>\n",
       "</tr>\n",
       "<tr>\n",
       "  <th>condition_Very Good</th> <td>    0.1911</td> <td>    0.009</td> <td>   21.918</td> <td> 0.000</td> <td>    0.174</td> <td>    0.208</td>\n",
       "</tr>\n",
       "<tr>\n",
       "  <th>grade_11 Excellent</th>  <td>    0.1035</td> <td>    0.020</td> <td>    5.304</td> <td> 0.000</td> <td>    0.065</td> <td>    0.142</td>\n",
       "</tr>\n",
       "<tr>\n",
       "  <th>grade_12 Luxury</th>     <td>    0.1897</td> <td>    0.037</td> <td>    5.080</td> <td> 0.000</td> <td>    0.116</td> <td>    0.263</td>\n",
       "</tr>\n",
       "<tr>\n",
       "  <th>grade_13 Mansion</th>    <td>    0.2551</td> <td>    0.094</td> <td>    2.725</td> <td> 0.006</td> <td>    0.072</td> <td>    0.439</td>\n",
       "</tr>\n",
       "<tr>\n",
       "  <th>grade_3 Poor</th>        <td>   -0.9001</td> <td>    0.330</td> <td>   -2.728</td> <td> 0.006</td> <td>   -1.547</td> <td>   -0.253</td>\n",
       "</tr>\n",
       "<tr>\n",
       "  <th>grade_4 Low</th>         <td>   -1.1040</td> <td>    0.066</td> <td>  -16.714</td> <td> 0.000</td> <td>   -1.233</td> <td>   -0.975</td>\n",
       "</tr>\n",
       "<tr>\n",
       "  <th>grade_5 Fair</th>        <td>   -1.0136</td> <td>    0.026</td> <td>  -38.823</td> <td> 0.000</td> <td>   -1.065</td> <td>   -0.962</td>\n",
       "</tr>\n",
       "<tr>\n",
       "  <th>grade_6 Low Average</th> <td>   -0.8139</td> <td>    0.016</td> <td>  -51.211</td> <td> 0.000</td> <td>   -0.845</td> <td>   -0.783</td>\n",
       "</tr>\n",
       "<tr>\n",
       "  <th>grade_7 Average</th>     <td>   -0.5807</td> <td>    0.013</td> <td>  -44.096</td> <td> 0.000</td> <td>   -0.606</td> <td>   -0.555</td>\n",
       "</tr>\n",
       "<tr>\n",
       "  <th>grade_8 Good</th>        <td>   -0.3756</td> <td>    0.012</td> <td>  -31.119</td> <td> 0.000</td> <td>   -0.399</td> <td>   -0.352</td>\n",
       "</tr>\n",
       "<tr>\n",
       "  <th>grade_9 Better</th>      <td>   -0.1592</td> <td>    0.012</td> <td>  -13.236</td> <td> 0.000</td> <td>   -0.183</td> <td>   -0.136</td>\n",
       "</tr>\n",
       "</table>\n",
       "<table class=\"simpletable\">\n",
       "<tr>\n",
       "  <th>Omnibus:</th>       <td> 6.641</td> <th>  Durbin-Watson:     </th> <td>   1.972</td>\n",
       "</tr>\n",
       "<tr>\n",
       "  <th>Prob(Omnibus):</th> <td> 0.036</td> <th>  Jarque-Bera (JB):  </th> <td>   7.019</td>\n",
       "</tr>\n",
       "<tr>\n",
       "  <th>Skew:</th>          <td>-0.013</td> <th>  Prob(JB):          </th> <td>  0.0299</td>\n",
       "</tr>\n",
       "<tr>\n",
       "  <th>Kurtosis:</th>      <td> 3.084</td> <th>  Cond. No.          </th> <td>7.46e+06</td>\n",
       "</tr>\n",
       "</table><br/><br/>Notes:<br/>[1] Standard Errors assume that the covariance matrix of the errors is correctly specified.<br/>[2] The condition number is large, 7.46e+06. This might indicate that there are<br/>strong multicollinearity or other numerical problems."
      ],
      "text/plain": [
       "<class 'statsmodels.iolib.summary.Summary'>\n",
       "\"\"\"\n",
       "                            OLS Regression Results                            \n",
       "==============================================================================\n",
       "Dep. Variable:               logprice   R-squared:                       0.611\n",
       "Model:                            OLS   Adj. R-squared:                  0.610\n",
       "Method:                 Least Squares   F-statistic:                     891.7\n",
       "Date:                Fri, 30 Sep 2022   Prob (F-statistic):               0.00\n",
       "Time:                        11:54:31   Log-Likelihood:                -6592.0\n",
       "No. Observations:               21597   AIC:                         1.326e+04\n",
       "Df Residuals:                   21558   BIC:                         1.357e+04\n",
       "Df Model:                          38                                         \n",
       "Covariance Type:            nonrobust                                         \n",
       "=======================================================================================\n",
       "                          coef    std err          t      P>|t|      [0.025      0.975]\n",
       "---------------------------------------------------------------------------------------\n",
       "const                  13.1220      0.021    614.139      0.000      13.080      13.164\n",
       "sqft_living             0.0002   4.83e-06     45.919      0.000       0.000       0.000\n",
       "sqft_lot             1.174e-07    7.8e-08      1.506      0.132   -3.54e-08     2.7e-07\n",
       "sqft_lot15          -7.441e-07   1.19e-07     -6.264      0.000   -9.77e-07   -5.11e-07\n",
       "bedrooms_1              0.1068      0.025      4.309      0.000       0.058       0.155\n",
       "bedrooms_2              0.1152      0.008     15.227      0.000       0.100       0.130\n",
       "bedrooms_4             -0.0085      0.006     -1.473      0.141      -0.020       0.003\n",
       "bedrooms_5              0.0005      0.010      0.055      0.956      -0.019       0.020\n",
       "bedrooms_6             -0.0105      0.021     -0.498      0.618      -0.052       0.031\n",
       "bedrooms_7             -0.1035      0.054     -1.914      0.056      -0.209       0.002\n",
       "bedrooms_8              0.1578      0.092      1.714      0.087      -0.023       0.338\n",
       "bedrooms_9              0.2207      0.135      1.637      0.102      -0.043       0.485\n",
       "bedrooms_10             0.1541      0.190      0.811      0.417      -0.218       0.527\n",
       "bedrooms_11             0.1362      0.329      0.414      0.679      -0.508       0.781\n",
       "bedrooms_33             0.4320      0.329      1.314      0.189      -0.212       1.076\n",
       "floors_1.5              0.1843      0.008     22.335      0.000       0.168       0.200\n",
       "floors_2.0             -0.0262      0.006     -4.413      0.000      -0.038      -0.015\n",
       "floors_2.5              0.1452      0.027      5.464      0.000       0.093       0.197\n",
       "floors_3.0              0.1002      0.014      6.997      0.000       0.072       0.128\n",
       "floors_3.5              0.0896      0.125      0.716      0.474      -0.156       0.335\n",
       "view_EXCELLENT          0.1583      0.025      6.349      0.000       0.109       0.207\n",
       "view_FAIR               0.0766      0.021      3.647      0.000       0.035       0.118\n",
       "view_GOOD               0.0404      0.018      2.232      0.026       0.005       0.076\n",
       "view_NONE              -0.1515      0.011    -13.664      0.000      -0.173      -0.130\n",
       "waterfront_YES          0.3399      0.033     10.204      0.000       0.275       0.405\n",
       "condition_Fair         -0.1122      0.026     -4.377      0.000      -0.162      -0.062\n",
       "condition_Good          0.0698      0.005     12.768      0.000       0.059       0.081\n",
       "condition_Poor         -0.0541      0.062     -0.879      0.379      -0.175       0.067\n",
       "condition_Very Good     0.1911      0.009     21.918      0.000       0.174       0.208\n",
       "grade_11 Excellent      0.1035      0.020      5.304      0.000       0.065       0.142\n",
       "grade_12 Luxury         0.1897      0.037      5.080      0.000       0.116       0.263\n",
       "grade_13 Mansion        0.2551      0.094      2.725      0.006       0.072       0.439\n",
       "grade_3 Poor           -0.9001      0.330     -2.728      0.006      -1.547      -0.253\n",
       "grade_4 Low            -1.1040      0.066    -16.714      0.000      -1.233      -0.975\n",
       "grade_5 Fair           -1.0136      0.026    -38.823      0.000      -1.065      -0.962\n",
       "grade_6 Low Average    -0.8139      0.016    -51.211      0.000      -0.845      -0.783\n",
       "grade_7 Average        -0.5807      0.013    -44.096      0.000      -0.606      -0.555\n",
       "grade_8 Good           -0.3756      0.012    -31.119      0.000      -0.399      -0.352\n",
       "grade_9 Better         -0.1592      0.012    -13.236      0.000      -0.183      -0.136\n",
       "==============================================================================\n",
       "Omnibus:                        6.641   Durbin-Watson:                   1.972\n",
       "Prob(Omnibus):                  0.036   Jarque-Bera (JB):                7.019\n",
       "Skew:                          -0.013   Prob(JB):                       0.0299\n",
       "Kurtosis:                       3.084   Cond. No.                     7.46e+06\n",
       "==============================================================================\n",
       "\n",
       "Notes:\n",
       "[1] Standard Errors assume that the covariance matrix of the errors is correctly specified.\n",
       "[2] The condition number is large, 7.46e+06. This might indicate that there are\n",
       "strong multicollinearity or other numerical problems.\n",
       "\"\"\""
      ]
     },
     "execution_count": 215,
     "metadata": {},
     "output_type": "execute_result"
    }
   ],
   "source": [
    "#Creating a log(target) model\n",
    "model5=sm.OLS(endog=rel_house_data['logprice'],exog=sm.add_constant(Xs))\n",
    "results5=model5.fit()\n",
    "results5.summary()"
   ]
  },
  {
   "cell_type": "code",
   "execution_count": 216,
   "metadata": {},
   "outputs": [
    {
     "data": {
      "text/plain": [
       "(0.9520748679837333, 0.994603783410588)"
      ]
     },
     "execution_count": 216,
     "metadata": {},
     "output_type": "execute_result"
    }
   ],
   "source": [
    "#checking linearity of log(price) model\n",
    "linear_rainbow(results5)"
   ]
  },
  {
   "cell_type": "markdown",
   "metadata": {},
   "source": [
    "The log(price) model is linear "
   ]
  },
  {
   "cell_type": "markdown",
   "metadata": {},
   "source": [
    "## checking for normality\n",
    "Since the Prob(JB):0.0299 is less than 0.05 the distribution is not normal"
   ]
  },
  {
   "cell_type": "code",
   "execution_count": 221,
   "metadata": {},
   "outputs": [
    {
     "data": {
      "image/png": "[encoded data removed]",
      "text/plain": [
       "<Figure size 576x720 with 4 Axes>"
      ]
     },
     "metadata": {
      "needs_background": "light"
     },
     "output_type": "display_data"
    }
   ],
   "source": [
    "#Treating for normality\n",
    "rel_house_data[['logprice','sqft_living','sqft_lot','sqft_lot15']]\\\n",
    ".hist(figsize=(8,10));"
   ]
  },
  {
   "cell_type": "code",
   "execution_count": 222,
   "metadata": {},
   "outputs": [],
   "source": [
    "rel_house_data['log_sqft_living']=np.log(rel_house_data['sqft_living'])\n",
    "rel_house_data['log_sqft_lot']=np.log(rel_house_data['sqft_lot'])\n",
    "rel_house_data['log_sqft_lot15']=np.log(rel_house_data['sqft_lot15'])"
   ]
  },
  {
   "cell_type": "code",
   "execution_count": 224,
   "metadata": {},
   "outputs": [
    {
     "data": {
      "text/plain": [
       "array([[<AxesSubplot:title={'center':'log_sqft_living'}>,\n",
       "        <AxesSubplot:title={'center':'log_sqft_lot'}>],\n",
       "       [<AxesSubplot:title={'center':'log_sqft_lot15'}>, <AxesSubplot:>]],\n",
       "      dtype=object)"
      ]
     },
     "execution_count": 224,
     "metadata": {},
     "output_type": "execute_result"
    },
    {
     "data": {
      "image/png": "[encoded data removed]",
      "text/plain": [
       "<Figure size 576x720 with 4 Axes>"
      ]
     },
     "metadata": {
      "needs_background": "light"
     },
     "output_type": "display_data"
    }
   ],
   "source": [
    "rel_house_data[['log_sqft_living','log_sqft_lot','log_sqft_lot15']]\\\n",
    " .hist(figsize=(8,10))"
   ]
  },
  {
   "cell_type": "code",
   "execution_count": 229,
   "metadata": {},
   "outputs": [
    {
     "data": {
      "text/html": [
       "<table class=\"simpletable\">\n",
       "<caption>OLS Regression Results</caption>\n",
       "<tr>\n",
       "  <th>Dep. Variable:</th>        <td>logprice</td>     <th>  R-squared:         </th> <td>   0.617</td> \n",
       "</tr>\n",
       "<tr>\n",
       "  <th>Model:</th>                   <td>OLS</td>       <th>  Adj. R-squared:    </th> <td>   0.616</td> \n",
       "</tr>\n",
       "<tr>\n",
       "  <th>Method:</th>             <td>Least Squares</td>  <th>  F-statistic:       </th> <td>   913.2</td> \n",
       "</tr>\n",
       "<tr>\n",
       "  <th>Date:</th>             <td>Fri, 30 Sep 2022</td> <th>  Prob (F-statistic):</th>  <td>  0.00</td>  \n",
       "</tr>\n",
       "<tr>\n",
       "  <th>Time:</th>                 <td>14:40:05</td>     <th>  Log-Likelihood:    </th> <td> -6433.5</td> \n",
       "</tr>\n",
       "<tr>\n",
       "  <th>No. Observations:</th>      <td> 21597</td>      <th>  AIC:               </th> <td>1.295e+04</td>\n",
       "</tr>\n",
       "<tr>\n",
       "  <th>Df Residuals:</th>          <td> 21558</td>      <th>  BIC:               </th> <td>1.326e+04</td>\n",
       "</tr>\n",
       "<tr>\n",
       "  <th>Df Model:</th>              <td>    38</td>      <th>                     </th>     <td> </td>    \n",
       "</tr>\n",
       "<tr>\n",
       "  <th>Covariance Type:</th>      <td>nonrobust</td>    <th>                     </th>     <td> </td>    \n",
       "</tr>\n",
       "</table>\n",
       "<table class=\"simpletable\">\n",
       "<tr>\n",
       "           <td></td>              <th>coef</th>     <th>std err</th>      <th>t</th>      <th>P>|t|</th>  <th>[0.025</th>    <th>0.975]</th>  \n",
       "</tr>\n",
       "<tr>\n",
       "  <th>const</th>               <td>   10.3462</td> <td>    0.083</td> <td>  124.826</td> <td> 0.000</td> <td>   10.184</td> <td>   10.509</td>\n",
       "</tr>\n",
       "<tr>\n",
       "  <th>log_sqft_living</th>     <td>    0.5123</td> <td>    0.010</td> <td>   48.837</td> <td> 0.000</td> <td>    0.492</td> <td>    0.533</td>\n",
       "</tr>\n",
       "<tr>\n",
       "  <th>log_sqft_lot</th>        <td>   -0.0111</td> <td>    0.006</td> <td>   -1.741</td> <td> 0.082</td> <td>   -0.024</td> <td>    0.001</td>\n",
       "</tr>\n",
       "<tr>\n",
       "  <th>log_sqft_lot15</th>      <td>   -0.0518</td> <td>    0.007</td> <td>   -7.428</td> <td> 0.000</td> <td>   -0.065</td> <td>   -0.038</td>\n",
       "</tr>\n",
       "<tr>\n",
       "  <th>bedrooms_1</th>          <td>    0.2097</td> <td>    0.025</td> <td>    8.413</td> <td> 0.000</td> <td>    0.161</td> <td>    0.259</td>\n",
       "</tr>\n",
       "<tr>\n",
       "  <th>bedrooms_2</th>          <td>    0.1461</td> <td>    0.008</td> <td>   18.800</td> <td> 0.000</td> <td>    0.131</td> <td>    0.161</td>\n",
       "</tr>\n",
       "<tr>\n",
       "  <th>bedrooms_4</th>          <td>   -0.0168</td> <td>    0.006</td> <td>   -2.911</td> <td> 0.004</td> <td>   -0.028</td> <td>   -0.005</td>\n",
       "</tr>\n",
       "<tr>\n",
       "  <th>bedrooms_5</th>          <td>    0.0077</td> <td>    0.010</td> <td>    0.802</td> <td> 0.423</td> <td>   -0.011</td> <td>    0.027</td>\n",
       "</tr>\n",
       "<tr>\n",
       "  <th>bedrooms_6</th>          <td>    0.0102</td> <td>    0.021</td> <td>    0.495</td> <td> 0.621</td> <td>   -0.030</td> <td>    0.051</td>\n",
       "</tr>\n",
       "<tr>\n",
       "  <th>bedrooms_7</th>          <td>   -0.0187</td> <td>    0.053</td> <td>   -0.350</td> <td> 0.727</td> <td>   -0.123</td> <td>    0.086</td>\n",
       "</tr>\n",
       "<tr>\n",
       "  <th>bedrooms_8</th>          <td>    0.1975</td> <td>    0.091</td> <td>    2.163</td> <td> 0.031</td> <td>    0.019</td> <td>    0.377</td>\n",
       "</tr>\n",
       "<tr>\n",
       "  <th>bedrooms_9</th>          <td>    0.2318</td> <td>    0.134</td> <td>    1.733</td> <td> 0.083</td> <td>   -0.030</td> <td>    0.494</td>\n",
       "</tr>\n",
       "<tr>\n",
       "  <th>bedrooms_10</th>         <td>    0.1962</td> <td>    0.189</td> <td>    1.040</td> <td> 0.298</td> <td>   -0.173</td> <td>    0.566</td>\n",
       "</tr>\n",
       "<tr>\n",
       "  <th>bedrooms_11</th>         <td>    0.1169</td> <td>    0.326</td> <td>    0.358</td> <td> 0.720</td> <td>   -0.523</td> <td>    0.757</td>\n",
       "</tr>\n",
       "<tr>\n",
       "  <th>bedrooms_33</th>         <td>    0.3923</td> <td>    0.326</td> <td>    1.202</td> <td> 0.229</td> <td>   -0.247</td> <td>    1.032</td>\n",
       "</tr>\n",
       "<tr>\n",
       "  <th>floors_1.5</th>          <td>    0.1535</td> <td>    0.008</td> <td>   18.579</td> <td> 0.000</td> <td>    0.137</td> <td>    0.170</td>\n",
       "</tr>\n",
       "<tr>\n",
       "  <th>floors_2.0</th>          <td>   -0.0597</td> <td>    0.006</td> <td>   -9.744</td> <td> 0.000</td> <td>   -0.072</td> <td>   -0.048</td>\n",
       "</tr>\n",
       "<tr>\n",
       "  <th>floors_2.5</th>          <td>    0.1007</td> <td>    0.027</td> <td>    3.793</td> <td> 0.000</td> <td>    0.049</td> <td>    0.153</td>\n",
       "</tr>\n",
       "<tr>\n",
       "  <th>floors_3.0</th>          <td>    0.0174</td> <td>    0.015</td> <td>    1.160</td> <td> 0.246</td> <td>   -0.012</td> <td>    0.047</td>\n",
       "</tr>\n",
       "<tr>\n",
       "  <th>floors_3.5</th>          <td>    0.0202</td> <td>    0.124</td> <td>    0.163</td> <td> 0.871</td> <td>   -0.223</td> <td>    0.264</td>\n",
       "</tr>\n",
       "<tr>\n",
       "  <th>view_EXCELLENT</th>      <td>    0.1622</td> <td>    0.025</td> <td>    6.556</td> <td> 0.000</td> <td>    0.114</td> <td>    0.211</td>\n",
       "</tr>\n",
       "<tr>\n",
       "  <th>view_FAIR</th>           <td>    0.0736</td> <td>    0.021</td> <td>    3.527</td> <td> 0.000</td> <td>    0.033</td> <td>    0.114</td>\n",
       "</tr>\n",
       "<tr>\n",
       "  <th>view_GOOD</th>           <td>    0.0472</td> <td>    0.018</td> <td>    2.627</td> <td> 0.009</td> <td>    0.012</td> <td>    0.082</td>\n",
       "</tr>\n",
       "<tr>\n",
       "  <th>view_NONE</th>           <td>   -0.1519</td> <td>    0.011</td> <td>  -13.808</td> <td> 0.000</td> <td>   -0.173</td> <td>   -0.130</td>\n",
       "</tr>\n",
       "<tr>\n",
       "  <th>waterfront_YES</th>      <td>    0.3801</td> <td>    0.033</td> <td>   11.482</td> <td> 0.000</td> <td>    0.315</td> <td>    0.445</td>\n",
       "</tr>\n",
       "<tr>\n",
       "  <th>condition_Fair</th>      <td>   -0.0885</td> <td>    0.025</td> <td>   -3.473</td> <td> 0.001</td> <td>   -0.138</td> <td>   -0.039</td>\n",
       "</tr>\n",
       "<tr>\n",
       "  <th>condition_Good</th>      <td>    0.0756</td> <td>    0.005</td> <td>   13.892</td> <td> 0.000</td> <td>    0.065</td> <td>    0.086</td>\n",
       "</tr>\n",
       "<tr>\n",
       "  <th>condition_Poor</th>      <td>   -0.0477</td> <td>    0.061</td> <td>   -0.781</td> <td> 0.435</td> <td>   -0.168</td> <td>    0.072</td>\n",
       "</tr>\n",
       "<tr>\n",
       "  <th>condition_Very Good</th> <td>    0.1875</td> <td>    0.009</td> <td>   21.649</td> <td> 0.000</td> <td>    0.171</td> <td>    0.204</td>\n",
       "</tr>\n",
       "<tr>\n",
       "  <th>grade_11 Excellent</th>  <td>    0.1965</td> <td>    0.019</td> <td>   10.274</td> <td> 0.000</td> <td>    0.159</td> <td>    0.234</td>\n",
       "</tr>\n",
       "<tr>\n",
       "  <th>grade_12 Luxury</th>     <td>    0.4259</td> <td>    0.036</td> <td>   11.721</td> <td> 0.000</td> <td>    0.355</td> <td>    0.497</td>\n",
       "</tr>\n",
       "<tr>\n",
       "  <th>grade_13 Mansion</th>    <td>    0.7673</td> <td>    0.092</td> <td>    8.378</td> <td> 0.000</td> <td>    0.588</td> <td>    0.947</td>\n",
       "</tr>\n",
       "<tr>\n",
       "  <th>grade_3 Poor</th>        <td>   -0.7258</td> <td>    0.328</td> <td>   -2.215</td> <td> 0.027</td> <td>   -1.368</td> <td>   -0.084</td>\n",
       "</tr>\n",
       "<tr>\n",
       "  <th>grade_4 Low</th>         <td>   -0.9877</td> <td>    0.066</td> <td>  -14.992</td> <td> 0.000</td> <td>   -1.117</td> <td>   -0.859</td>\n",
       "</tr>\n",
       "<tr>\n",
       "  <th>grade_5 Fair</th>        <td>   -0.9802</td> <td>    0.026</td> <td>  -37.556</td> <td> 0.000</td> <td>   -1.031</td> <td>   -0.929</td>\n",
       "</tr>\n",
       "<tr>\n",
       "  <th>grade_6 Low Average</th> <td>   -0.8342</td> <td>    0.016</td> <td>  -53.284</td> <td> 0.000</td> <td>   -0.865</td> <td>   -0.804</td>\n",
       "</tr>\n",
       "<tr>\n",
       "  <th>grade_7 Average</th>     <td>   -0.6556</td> <td>    0.013</td> <td>  -52.194</td> <td> 0.000</td> <td>   -0.680</td> <td>   -0.631</td>\n",
       "</tr>\n",
       "<tr>\n",
       "  <th>grade_8 Good</th>        <td>   -0.4633</td> <td>    0.012</td> <td>  -40.217</td> <td> 0.000</td> <td>   -0.486</td> <td>   -0.441</td>\n",
       "</tr>\n",
       "<tr>\n",
       "  <th>grade_9 Better</th>      <td>   -0.2151</td> <td>    0.012</td> <td>  -18.261</td> <td> 0.000</td> <td>   -0.238</td> <td>   -0.192</td>\n",
       "</tr>\n",
       "</table>\n",
       "<table class=\"simpletable\">\n",
       "<tr>\n",
       "  <th>Omnibus:</th>       <td> 4.399</td> <th>  Durbin-Watson:     </th> <td>   1.970</td>\n",
       "</tr>\n",
       "<tr>\n",
       "  <th>Prob(Omnibus):</th> <td> 0.111</td> <th>  Jarque-Bera (JB):  </th> <td>   4.526</td>\n",
       "</tr>\n",
       "<tr>\n",
       "  <th>Skew:</th>          <td> 0.015</td> <th>  Prob(JB):          </th> <td>   0.104</td>\n",
       "</tr>\n",
       "<tr>\n",
       "  <th>Kurtosis:</th>      <td> 3.064</td> <th>  Cond. No.          </th> <td>2.20e+03</td>\n",
       "</tr>\n",
       "</table><br/><br/>Notes:<br/>[1] Standard Errors assume that the covariance matrix of the errors is correctly specified.<br/>[2] The condition number is large, 2.2e+03. This might indicate that there are<br/>strong multicollinearity or other numerical problems."
      ],
      "text/plain": [
       "<class 'statsmodels.iolib.summary.Summary'>\n",
       "\"\"\"\n",
       "                            OLS Regression Results                            \n",
       "==============================================================================\n",
       "Dep. Variable:               logprice   R-squared:                       0.617\n",
       "Model:                            OLS   Adj. R-squared:                  0.616\n",
       "Method:                 Least Squares   F-statistic:                     913.2\n",
       "Date:                Fri, 30 Sep 2022   Prob (F-statistic):               0.00\n",
       "Time:                        14:40:05   Log-Likelihood:                -6433.5\n",
       "No. Observations:               21597   AIC:                         1.295e+04\n",
       "Df Residuals:                   21558   BIC:                         1.326e+04\n",
       "Df Model:                          38                                         \n",
       "Covariance Type:            nonrobust                                         \n",
       "=======================================================================================\n",
       "                          coef    std err          t      P>|t|      [0.025      0.975]\n",
       "---------------------------------------------------------------------------------------\n",
       "const                  10.3462      0.083    124.826      0.000      10.184      10.509\n",
       "log_sqft_living         0.5123      0.010     48.837      0.000       0.492       0.533\n",
       "log_sqft_lot           -0.0111      0.006     -1.741      0.082      -0.024       0.001\n",
       "log_sqft_lot15         -0.0518      0.007     -7.428      0.000      -0.065      -0.038\n",
       "bedrooms_1              0.2097      0.025      8.413      0.000       0.161       0.259\n",
       "bedrooms_2              0.1461      0.008     18.800      0.000       0.131       0.161\n",
       "bedrooms_4             -0.0168      0.006     -2.911      0.004      -0.028      -0.005\n",
       "bedrooms_5              0.0077      0.010      0.802      0.423      -0.011       0.027\n",
       "bedrooms_6              0.0102      0.021      0.495      0.621      -0.030       0.051\n",
       "bedrooms_7             -0.0187      0.053     -0.350      0.727      -0.123       0.086\n",
       "bedrooms_8              0.1975      0.091      2.163      0.031       0.019       0.377\n",
       "bedrooms_9              0.2318      0.134      1.733      0.083      -0.030       0.494\n",
       "bedrooms_10             0.1962      0.189      1.040      0.298      -0.173       0.566\n",
       "bedrooms_11             0.1169      0.326      0.358      0.720      -0.523       0.757\n",
       "bedrooms_33             0.3923      0.326      1.202      0.229      -0.247       1.032\n",
       "floors_1.5              0.1535      0.008     18.579      0.000       0.137       0.170\n",
       "floors_2.0             -0.0597      0.006     -9.744      0.000      -0.072      -0.048\n",
       "floors_2.5              0.1007      0.027      3.793      0.000       0.049       0.153\n",
       "floors_3.0              0.0174      0.015      1.160      0.246      -0.012       0.047\n",
       "floors_3.5              0.0202      0.124      0.163      0.871      -0.223       0.264\n",
       "view_EXCELLENT          0.1622      0.025      6.556      0.000       0.114       0.211\n",
       "view_FAIR               0.0736      0.021      3.527      0.000       0.033       0.114\n",
       "view_GOOD               0.0472      0.018      2.627      0.009       0.012       0.082\n",
       "view_NONE              -0.1519      0.011    -13.808      0.000      -0.173      -0.130\n",
       "waterfront_YES          0.3801      0.033     11.482      0.000       0.315       0.445\n",
       "condition_Fair         -0.0885      0.025     -3.473      0.001      -0.138      -0.039\n",
       "condition_Good          0.0756      0.005     13.892      0.000       0.065       0.086\n",
       "condition_Poor         -0.0477      0.061     -0.781      0.435      -0.168       0.072\n",
       "condition_Very Good     0.1875      0.009     21.649      0.000       0.171       0.204\n",
       "grade_11 Excellent      0.1965      0.019     10.274      0.000       0.159       0.234\n",
       "grade_12 Luxury         0.4259      0.036     11.721      0.000       0.355       0.497\n",
       "grade_13 Mansion        0.7673      0.092      8.378      0.000       0.588       0.947\n",
       "grade_3 Poor           -0.7258      0.328     -2.215      0.027      -1.368      -0.084\n",
       "grade_4 Low            -0.9877      0.066    -14.992      0.000      -1.117      -0.859\n",
       "grade_5 Fair           -0.9802      0.026    -37.556      0.000      -1.031      -0.929\n",
       "grade_6 Low Average    -0.8342      0.016    -53.284      0.000      -0.865      -0.804\n",
       "grade_7 Average        -0.6556      0.013    -52.194      0.000      -0.680      -0.631\n",
       "grade_8 Good           -0.4633      0.012    -40.217      0.000      -0.486      -0.441\n",
       "grade_9 Better         -0.2151      0.012    -18.261      0.000      -0.238      -0.192\n",
       "==============================================================================\n",
       "Omnibus:                        4.399   Durbin-Watson:                   1.970\n",
       "Prob(Omnibus):                  0.111   Jarque-Bera (JB):                4.526\n",
       "Skew:                           0.015   Prob(JB):                        0.104\n",
       "Kurtosis:                       3.064   Cond. No.                     2.20e+03\n",
       "==============================================================================\n",
       "\n",
       "Notes:\n",
       "[1] Standard Errors assume that the covariance matrix of the errors is correctly specified.\n",
       "[2] The condition number is large, 2.2e+03. This might indicate that there are\n",
       "strong multicollinearity or other numerical problems.\n",
       "\"\"\""
      ]
     },
     "execution_count": 229,
     "metadata": {},
     "output_type": "execute_result"
    }
   ],
   "source": [
    "#adding the columns\n",
    "co1_rel_house['log_sqft_living']=np.log(rel_house_data['sqft_living'])\n",
    "co1_rel_house['log_sqft_lot']=np.log(rel_house_data['sqft_lot'])\n",
    "co1_rel_house['log_sqft_lot15']=np.log(rel_house_data['sqft_lot15'])\n",
    "#the new independent variables\n",
    "Xs1=co1_rel_house[['log_sqft_living', 'log_sqft_lot','log_sqft_lot15', \n",
    "                  'bedrooms_1', 'bedrooms_2', 'bedrooms_4', 'bedrooms_5',\n",
    "                  'bedrooms_6', 'bedrooms_7', 'bedrooms_8', 'bedrooms_9', 'bedrooms_10',\n",
    "                  'bedrooms_11', 'bedrooms_33', 'floors_1.5', 'floors_2.0', 'floors_2.5',\n",
    "                  'floors_3.0', 'floors_3.5', 'view_EXCELLENT', 'view_FAIR', 'view_GOOD',\n",
    "                  'view_NONE', 'waterfront_YES', 'condition_Fair', 'condition_Good',\n",
    "                  'condition_Poor', 'condition_Very Good', 'grade_11 Excellent',\n",
    "                  'grade_12 Luxury', 'grade_13 Mansion', 'grade_3 Poor', 'grade_4 Low',\n",
    "                  'grade_5 Fair', 'grade_6 Low Average', 'grade_7 Average',\n",
    "                  'grade_8 Good', 'grade_9 Better']]\n",
    "\n",
    "#generating the log-log model\n",
    "model6=sm.OLS(endog=rel_house_data['logprice'],exog=sm.add_constant(Xs1))\n",
    "results6=model6.fit()\n",
    "results6.summary()"
   ]
  },
  {
   "cell_type": "markdown",
   "metadata": {},
   "source": [
    "The distribution is normal since Prob(JB):0.104 is greater than 0.05"
   ]
  },
  {
   "cell_type": "code",
   "execution_count": null,
   "metadata": {},
   "outputs": [],
   "source": []
  }
 ],
 "metadata": {
  "kernelspec": {
   "display_name": "Python 3",
   "language": "python",
   "name": "python3"
  },
  "language_info": {
   "codemirror_mode": {
    "name": "ipython",
    "version": 3
   },
   "file_extension": ".py",
   "mimetype": "text/x-python",
   "name": "python",
   "nbconvert_exporter": "python",
   "pygments_lexer": "ipython3",
   "version": "3.8.5"
  }
 },
 "nbformat": 4,
 "nbformat_minor": 2
}
